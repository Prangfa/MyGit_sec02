{
  "cells": [
    {
      "cell_type": "markdown",
      "metadata": {
        "id": "view-in-github",
        "colab_type": "text"
      },
      "source": [
        "<a href=\"https://colab.research.google.com/github/Prangfa/MyGit_sec02/blob/main/Copy_of_Lab06_Constraint_Satisfaction_Problems.ipynb\" target=\"_parent\"><img src=\"https://colab.research.google.com/assets/colab-badge.svg\" alt=\"Open In Colab\"/></a>"
      ]
    },
    {
      "cell_type": "markdown",
      "metadata": {
        "id": "CwdfnjUyIXaE"
      },
      "source": [
        "# CONSTRAINT SATISFACTION PROBLEMS\n",
        "\n",
        "This IPy notebook acts as supporting material for topics covered in **Chapter 6 Constraint Satisfaction Problems** of the book* Artificial Intelligence: A Modern Approach*. We make use of the implementations in **csp.py** module. Even though this notebook includes a brief summary of the main topics, familiarity with the material present in the book is expected. We will look at some visualizations and solve some of the CSP problems described in the book. Let us import everything from the csp module to get started."
      ]
    },
    {
      "cell_type": "code",
      "source": [
        "!git clone -l -s https://github.com/aimacode/aima-python.git aima"
      ],
      "metadata": {
        "colab": {
          "base_uri": "https://localhost:8080/"
        },
        "id": "PtuJSDEOIkXc",
        "outputId": "26a8aa31-7b62-4ecb-ac66-5ab8b780655e"
      },
      "execution_count": 165,
      "outputs": [
        {
          "output_type": "stream",
          "name": "stdout",
          "text": [
            "fatal: destination path 'aima' already exists and is not an empty directory.\n"
          ]
        }
      ]
    },
    {
      "cell_type": "code",
      "source": [
        "!cp aima/utils.py utils.py\n",
        "!cp aima/search.py search.py\n",
        "!cp aima/notebook.py notebook.py\n",
        "!cp aima/games.py games.py\n",
        "!cp aima/leaustralia_cspobabilistic_learning.py probabilistic_learning.py\n",
        "!cp aima/logic.py logic.py\n",
        "!cp aima/agents.py agents.py\n",
        "!cp aima/csp.py csp.py\n",
        "!cp aima/learning.py learning.py\n",
        "!cp aima/probabilistic_learning.py probabilistic_learning.py\n",
        "!cp -r /content/aima/images /content/images"
      ],
      "metadata": {
        "colab": {
          "base_uri": "https://localhost:8080/"
        },
        "id": "Rvicw7OSInQb",
        "outputId": "79ef4609-8b85-46bd-de2a-74a48fadc5e0"
      },
      "execution_count": 166,
      "outputs": [
        {
          "output_type": "stream",
          "name": "stdout",
          "text": [
            "cp: cannot stat 'aima/leaustralia_cspobabilistic_learning.py': No such file or directory\n"
          ]
        }
      ]
    },
    {
      "cell_type": "code",
      "source": [
        "!mkdir aima-data\n",
        "!wget https://github.com/aimacode/aima-data/raw/f6cbea61ad0c21c6b7be826d17af5a8d3a7c2c86/orings.csv -P /content/aima-data/\n",
        "!wget https://github.com/aimacode/aima-data/raw/f6cbea61ad0c21c6b7be826d17af5a8d3a7c2c86/zoo.csv -P /content/aima-data/\n",
        "!wget https://github.com/aimacode/aima-data/raw/f6cbea61ad0c21c6b7be826d17af5a8d3a7c2c86/iris.csv -P /content/aima-data/\n",
        "!wget https://github.com/aimacode/aima-data/raw/f6cbea61ad0c21c6b7be826d17af5a8d3a7c2c86/restaurant.csv -P /content/aima-data/\n",
        "!pip install qpsolvers\n",
        "!pip install ipythonblocks"
      ],
      "metadata": {
        "id": "ZHQxZS1PIqPw",
        "colab": {
          "base_uri": "https://localhost:8080/"
        },
        "outputId": "62b15b61-cd91-4c3d-b9fa-91b58fff34f7"
      },
      "execution_count": 167,
      "outputs": [
        {
          "output_type": "stream",
          "name": "stdout",
          "text": [
            "mkdir: cannot create directory ‘aima-data’: File exists\n",
            "--2024-07-25 13:31:32--  https://github.com/aimacode/aima-data/raw/f6cbea61ad0c21c6b7be826d17af5a8d3a7c2c86/orings.csv\n",
            "Resolving github.com (github.com)... 140.82.112.3\n",
            "Connecting to github.com (github.com)|140.82.112.3|:443... connected.\n",
            "HTTP request sent, awaiting response... 302 Found\n",
            "Location: https://raw.githubusercontent.com/aimacode/aima-data/f6cbea61ad0c21c6b7be826d17af5a8d3a7c2c86/orings.csv [following]\n",
            "--2024-07-25 13:31:32--  https://raw.githubusercontent.com/aimacode/aima-data/f6cbea61ad0c21c6b7be826d17af5a8d3a7c2c86/orings.csv\n",
            "Resolving raw.githubusercontent.com (raw.githubusercontent.com)... 185.199.108.133, 185.199.109.133, 185.199.110.133, ...\n",
            "Connecting to raw.githubusercontent.com (raw.githubusercontent.com)|185.199.108.133|:443... connected.\n",
            "HTTP request sent, awaiting response... 200 OK\n",
            "Length: 405 [text/plain]\n",
            "Saving to: ‘/content/aima-data/orings.csv.4’\n",
            "\n",
            "orings.csv.4        100%[===================>]     405  --.-KB/s    in 0s      \n",
            "\n",
            "2024-07-25 13:31:33 (3.34 MB/s) - ‘/content/aima-data/orings.csv.4’ saved [405/405]\n",
            "\n",
            "--2024-07-25 13:31:33--  https://github.com/aimacode/aima-data/raw/f6cbea61ad0c21c6b7be826d17af5a8d3a7c2c86/zoo.csv\n",
            "Resolving github.com (github.com)... 140.82.112.4\n",
            "Connecting to github.com (github.com)|140.82.112.4|:443... connected.\n",
            "HTTP request sent, awaiting response... 302 Found\n",
            "Location: https://raw.githubusercontent.com/aimacode/aima-data/f6cbea61ad0c21c6b7be826d17af5a8d3a7c2c86/zoo.csv [following]\n",
            "--2024-07-25 13:31:33--  https://raw.githubusercontent.com/aimacode/aima-data/f6cbea61ad0c21c6b7be826d17af5a8d3a7c2c86/zoo.csv\n",
            "Resolving raw.githubusercontent.com (raw.githubusercontent.com)... 185.199.111.133, 185.199.110.133, 185.199.108.133, ...\n",
            "Connecting to raw.githubusercontent.com (raw.githubusercontent.com)|185.199.111.133|:443... connected.\n",
            "HTTP request sent, awaiting response... 200 OK\n",
            "Length: 4612 (4.5K) [text/plain]\n",
            "Saving to: ‘/content/aima-data/zoo.csv.4’\n",
            "\n",
            "zoo.csv.4           100%[===================>]   4.50K  --.-KB/s    in 0s      \n",
            "\n",
            "2024-07-25 13:31:33 (49.0 MB/s) - ‘/content/aima-data/zoo.csv.4’ saved [4612/4612]\n",
            "\n",
            "--2024-07-25 13:31:33--  https://github.com/aimacode/aima-data/raw/f6cbea61ad0c21c6b7be826d17af5a8d3a7c2c86/iris.csv\n",
            "Resolving github.com (github.com)... 140.82.112.4\n",
            "Connecting to github.com (github.com)|140.82.112.4|:443... connected.\n",
            "HTTP request sent, awaiting response... 302 Found\n",
            "Location: https://raw.githubusercontent.com/aimacode/aima-data/f6cbea61ad0c21c6b7be826d17af5a8d3a7c2c86/iris.csv [following]\n",
            "--2024-07-25 13:31:33--  https://raw.githubusercontent.com/aimacode/aima-data/f6cbea61ad0c21c6b7be826d17af5a8d3a7c2c86/iris.csv\n",
            "Resolving raw.githubusercontent.com (raw.githubusercontent.com)... 185.199.111.133, 185.199.110.133, 185.199.108.133, ...\n",
            "Connecting to raw.githubusercontent.com (raw.githubusercontent.com)|185.199.111.133|:443... connected.\n",
            "HTTP request sent, awaiting response... 200 OK\n",
            "Length: 3800 (3.7K) [text/plain]\n",
            "Saving to: ‘/content/aima-data/iris.csv.4’\n",
            "\n",
            "iris.csv.4          100%[===================>]   3.71K  --.-KB/s    in 0s      \n",
            "\n",
            "2024-07-25 13:31:33 (42.9 MB/s) - ‘/content/aima-data/iris.csv.4’ saved [3800/3800]\n",
            "\n",
            "--2024-07-25 13:31:33--  https://github.com/aimacode/aima-data/raw/f6cbea61ad0c21c6b7be826d17af5a8d3a7c2c86/restaurant.csv\n",
            "Resolving github.com (github.com)... 140.82.112.3\n",
            "Connecting to github.com (github.com)|140.82.112.3|:443... connected.\n",
            "HTTP request sent, awaiting response... 302 Found\n",
            "Location: https://raw.githubusercontent.com/aimacode/aima-data/f6cbea61ad0c21c6b7be826d17af5a8d3a7c2c86/restaurant.csv [following]\n",
            "--2024-07-25 13:31:33--  https://raw.githubusercontent.com/aimacode/aima-data/f6cbea61ad0c21c6b7be826d17af5a8d3a7c2c86/restaurant.csv\n",
            "Resolving raw.githubusercontent.com (raw.githubusercontent.com)... 185.199.111.133, 185.199.110.133, 185.199.109.133, ...\n",
            "Connecting to raw.githubusercontent.com (raw.githubusercontent.com)|185.199.111.133|:443... connected.\n",
            "HTTP request sent, awaiting response... 200 OK\n",
            "Length: 754 [text/plain]\n",
            "Saving to: ‘/content/aima-data/restaurant.csv.4’\n",
            "\n",
            "restaurant.csv.4    100%[===================>]     754  --.-KB/s    in 0s      \n",
            "\n",
            "2024-07-25 13:31:33 (37.8 MB/s) - ‘/content/aima-data/restaurant.csv.4’ saved [754/754]\n",
            "\n",
            "Requirement already satisfied: qpsolvers in /usr/local/lib/python3.10/dist-packages (4.3.2)\n",
            "Requirement already satisfied: numpy>=1.15.4 in /usr/local/lib/python3.10/dist-packages (from qpsolvers) (1.25.2)\n",
            "Requirement already satisfied: scipy>=1.2.0 in /usr/local/lib/python3.10/dist-packages (from qpsolvers) (1.11.4)\n",
            "Requirement already satisfied: ipythonblocks in /usr/local/lib/python3.10/dist-packages (1.9.1)\n",
            "Requirement already satisfied: ipython>=4.0 in /usr/local/lib/python3.10/dist-packages (from ipythonblocks) (7.34.0)\n",
            "Requirement already satisfied: notebook>=4.0 in /usr/local/lib/python3.10/dist-packages (from ipythonblocks) (6.5.5)\n",
            "Requirement already satisfied: requests>=1.0 in /usr/local/lib/python3.10/dist-packages (from ipythonblocks) (2.31.0)\n",
            "Requirement already satisfied: setuptools>=18.5 in /usr/local/lib/python3.10/dist-packages (from ipython>=4.0->ipythonblocks) (71.0.4)\n",
            "Requirement already satisfied: jedi>=0.16 in /usr/local/lib/python3.10/dist-packages (from ipython>=4.0->ipythonblocks) (0.19.1)\n",
            "Requirement already satisfied: decorator in /usr/local/lib/python3.10/dist-packages (from ipython>=4.0->ipythonblocks) (4.4.2)\n",
            "Requirement already satisfied: pickleshare in /usr/local/lib/python3.10/dist-packages (from ipython>=4.0->ipythonblocks) (0.7.5)\n",
            "Requirement already satisfied: traitlets>=4.2 in /usr/local/lib/python3.10/dist-packages (from ipython>=4.0->ipythonblocks) (5.7.1)\n",
            "Requirement already satisfied: prompt-toolkit!=3.0.0,!=3.0.1,<3.1.0,>=2.0.0 in /usr/local/lib/python3.10/dist-packages (from ipython>=4.0->ipythonblocks) (3.0.47)\n",
            "Requirement already satisfied: pygments in /usr/local/lib/python3.10/dist-packages (from ipython>=4.0->ipythonblocks) (2.16.1)\n",
            "Requirement already satisfied: backcall in /usr/local/lib/python3.10/dist-packages (from ipython>=4.0->ipythonblocks) (0.2.0)\n",
            "Requirement already satisfied: matplotlib-inline in /usr/local/lib/python3.10/dist-packages (from ipython>=4.0->ipythonblocks) (0.1.7)\n",
            "Requirement already satisfied: pexpect>4.3 in /usr/local/lib/python3.10/dist-packages (from ipython>=4.0->ipythonblocks) (4.9.0)\n",
            "Requirement already satisfied: jinja2 in /usr/local/lib/python3.10/dist-packages (from notebook>=4.0->ipythonblocks) (3.1.4)\n",
            "Requirement already satisfied: tornado>=6.1 in /usr/local/lib/python3.10/dist-packages (from notebook>=4.0->ipythonblocks) (6.3.3)\n",
            "Requirement already satisfied: pyzmq<25,>=17 in /usr/local/lib/python3.10/dist-packages (from notebook>=4.0->ipythonblocks) (24.0.1)\n",
            "Requirement already satisfied: argon2-cffi in /usr/local/lib/python3.10/dist-packages (from notebook>=4.0->ipythonblocks) (23.1.0)\n",
            "Requirement already satisfied: jupyter-core>=4.6.1 in /usr/local/lib/python3.10/dist-packages (from notebook>=4.0->ipythonblocks) (5.7.2)\n",
            "Requirement already satisfied: jupyter-client<8,>=5.3.4 in /usr/local/lib/python3.10/dist-packages (from notebook>=4.0->ipythonblocks) (6.1.12)\n",
            "Requirement already satisfied: ipython-genutils in /usr/local/lib/python3.10/dist-packages (from notebook>=4.0->ipythonblocks) (0.2.0)\n",
            "Requirement already satisfied: nbformat in /usr/local/lib/python3.10/dist-packages (from notebook>=4.0->ipythonblocks) (5.10.4)\n",
            "Requirement already satisfied: nbconvert>=5 in /usr/local/lib/python3.10/dist-packages (from notebook>=4.0->ipythonblocks) (6.5.4)\n",
            "Requirement already satisfied: nest-asyncio>=1.5 in /usr/local/lib/python3.10/dist-packages (from notebook>=4.0->ipythonblocks) (1.6.0)\n",
            "Requirement already satisfied: ipykernel in /usr/local/lib/python3.10/dist-packages (from notebook>=4.0->ipythonblocks) (5.5.6)\n",
            "Requirement already satisfied: Send2Trash>=1.8.0 in /usr/local/lib/python3.10/dist-packages (from notebook>=4.0->ipythonblocks) (1.8.3)\n",
            "Requirement already satisfied: terminado>=0.8.3 in /usr/local/lib/python3.10/dist-packages (from notebook>=4.0->ipythonblocks) (0.18.1)\n",
            "Requirement already satisfied: prometheus-client in /usr/local/lib/python3.10/dist-packages (from notebook>=4.0->ipythonblocks) (0.20.0)\n",
            "Requirement already satisfied: nbclassic>=0.4.7 in /usr/local/lib/python3.10/dist-packages (from notebook>=4.0->ipythonblocks) (1.1.0)\n",
            "Requirement already satisfied: charset-normalizer<4,>=2 in /usr/local/lib/python3.10/dist-packages (from requests>=1.0->ipythonblocks) (3.3.2)\n",
            "Requirement already satisfied: idna<4,>=2.5 in /usr/local/lib/python3.10/dist-packages (from requests>=1.0->ipythonblocks) (3.7)\n",
            "Requirement already satisfied: urllib3<3,>=1.21.1 in /usr/local/lib/python3.10/dist-packages (from requests>=1.0->ipythonblocks) (2.0.7)\n",
            "Requirement already satisfied: certifi>=2017.4.17 in /usr/local/lib/python3.10/dist-packages (from requests>=1.0->ipythonblocks) (2024.7.4)\n",
            "Requirement already satisfied: parso<0.9.0,>=0.8.3 in /usr/local/lib/python3.10/dist-packages (from jedi>=0.16->ipython>=4.0->ipythonblocks) (0.8.4)\n",
            "Requirement already satisfied: python-dateutil>=2.1 in /usr/local/lib/python3.10/dist-packages (from jupyter-client<8,>=5.3.4->notebook>=4.0->ipythonblocks) (2.8.2)\n",
            "Requirement already satisfied: platformdirs>=2.5 in /usr/local/lib/python3.10/dist-packages (from jupyter-core>=4.6.1->notebook>=4.0->ipythonblocks) (4.2.2)\n",
            "Requirement already satisfied: notebook-shim>=0.2.3 in /usr/local/lib/python3.10/dist-packages (from nbclassic>=0.4.7->notebook>=4.0->ipythonblocks) (0.2.4)\n",
            "Requirement already satisfied: lxml in /usr/local/lib/python3.10/dist-packages (from nbconvert>=5->notebook>=4.0->ipythonblocks) (4.9.4)\n",
            "Requirement already satisfied: beautifulsoup4 in /usr/local/lib/python3.10/dist-packages (from nbconvert>=5->notebook>=4.0->ipythonblocks) (4.12.3)\n",
            "Requirement already satisfied: bleach in /usr/local/lib/python3.10/dist-packages (from nbconvert>=5->notebook>=4.0->ipythonblocks) (6.1.0)\n",
            "Requirement already satisfied: defusedxml in /usr/local/lib/python3.10/dist-packages (from nbconvert>=5->notebook>=4.0->ipythonblocks) (0.7.1)\n",
            "Requirement already satisfied: entrypoints>=0.2.2 in /usr/local/lib/python3.10/dist-packages (from nbconvert>=5->notebook>=4.0->ipythonblocks) (0.4)\n",
            "Requirement already satisfied: jupyterlab-pygments in /usr/local/lib/python3.10/dist-packages (from nbconvert>=5->notebook>=4.0->ipythonblocks) (0.3.0)\n",
            "Requirement already satisfied: MarkupSafe>=2.0 in /usr/local/lib/python3.10/dist-packages (from nbconvert>=5->notebook>=4.0->ipythonblocks) (2.1.5)\n",
            "Requirement already satisfied: mistune<2,>=0.8.1 in /usr/local/lib/python3.10/dist-packages (from nbconvert>=5->notebook>=4.0->ipythonblocks) (0.8.4)\n",
            "Requirement already satisfied: nbclient>=0.5.0 in /usr/local/lib/python3.10/dist-packages (from nbconvert>=5->notebook>=4.0->ipythonblocks) (0.10.0)\n",
            "Requirement already satisfied: packaging in /usr/local/lib/python3.10/dist-packages (from nbconvert>=5->notebook>=4.0->ipythonblocks) (24.1)\n",
            "Requirement already satisfied: pandocfilters>=1.4.1 in /usr/local/lib/python3.10/dist-packages (from nbconvert>=5->notebook>=4.0->ipythonblocks) (1.5.1)\n",
            "Requirement already satisfied: tinycss2 in /usr/local/lib/python3.10/dist-packages (from nbconvert>=5->notebook>=4.0->ipythonblocks) (1.3.0)\n",
            "Requirement already satisfied: fastjsonschema>=2.15 in /usr/local/lib/python3.10/dist-packages (from nbformat->notebook>=4.0->ipythonblocks) (2.20.0)\n",
            "Requirement already satisfied: jsonschema>=2.6 in /usr/local/lib/python3.10/dist-packages (from nbformat->notebook>=4.0->ipythonblocks) (4.19.2)\n",
            "Requirement already satisfied: ptyprocess>=0.5 in /usr/local/lib/python3.10/dist-packages (from pexpect>4.3->ipython>=4.0->ipythonblocks) (0.7.0)\n",
            "Requirement already satisfied: wcwidth in /usr/local/lib/python3.10/dist-packages (from prompt-toolkit!=3.0.0,!=3.0.1,<3.1.0,>=2.0.0->ipython>=4.0->ipythonblocks) (0.2.13)\n",
            "Requirement already satisfied: argon2-cffi-bindings in /usr/local/lib/python3.10/dist-packages (from argon2-cffi->notebook>=4.0->ipythonblocks) (21.2.0)\n",
            "Requirement already satisfied: attrs>=22.2.0 in /usr/local/lib/python3.10/dist-packages (from jsonschema>=2.6->nbformat->notebook>=4.0->ipythonblocks) (23.2.0)\n",
            "Requirement already satisfied: jsonschema-specifications>=2023.03.6 in /usr/local/lib/python3.10/dist-packages (from jsonschema>=2.6->nbformat->notebook>=4.0->ipythonblocks) (2023.12.1)\n",
            "Requirement already satisfied: referencing>=0.28.4 in /usr/local/lib/python3.10/dist-packages (from jsonschema>=2.6->nbformat->notebook>=4.0->ipythonblocks) (0.35.1)\n",
            "Requirement already satisfied: rpds-py>=0.7.1 in /usr/local/lib/python3.10/dist-packages (from jsonschema>=2.6->nbformat->notebook>=4.0->ipythonblocks) (0.19.0)\n",
            "Requirement already satisfied: jupyter-server<3,>=1.8 in /usr/local/lib/python3.10/dist-packages (from notebook-shim>=0.2.3->nbclassic>=0.4.7->notebook>=4.0->ipythonblocks) (1.24.0)\n",
            "Requirement already satisfied: six>=1.5 in /usr/local/lib/python3.10/dist-packages (from python-dateutil>=2.1->jupyter-client<8,>=5.3.4->notebook>=4.0->ipythonblocks) (1.16.0)\n",
            "Requirement already satisfied: cffi>=1.0.1 in /usr/local/lib/python3.10/dist-packages (from argon2-cffi-bindings->argon2-cffi->notebook>=4.0->ipythonblocks) (1.16.0)\n",
            "Requirement already satisfied: soupsieve>1.2 in /usr/local/lib/python3.10/dist-packages (from beautifulsoup4->nbconvert>=5->notebook>=4.0->ipythonblocks) (2.5)\n",
            "Requirement already satisfied: webencodings in /usr/local/lib/python3.10/dist-packages (from bleach->nbconvert>=5->notebook>=4.0->ipythonblocks) (0.5.1)\n",
            "Requirement already satisfied: pycparser in /usr/local/lib/python3.10/dist-packages (from cffi>=1.0.1->argon2-cffi-bindings->argon2-cffi->notebook>=4.0->ipythonblocks) (2.22)\n",
            "Requirement already satisfied: anyio<4,>=3.1.0 in /usr/local/lib/python3.10/dist-packages (from jupyter-server<3,>=1.8->notebook-shim>=0.2.3->nbclassic>=0.4.7->notebook>=4.0->ipythonblocks) (3.7.1)\n",
            "Requirement already satisfied: websocket-client in /usr/local/lib/python3.10/dist-packages (from jupyter-server<3,>=1.8->notebook-shim>=0.2.3->nbclassic>=0.4.7->notebook>=4.0->ipythonblocks) (1.8.0)\n",
            "Requirement already satisfied: sniffio>=1.1 in /usr/local/lib/python3.10/dist-packages (from anyio<4,>=3.1.0->jupyter-server<3,>=1.8->notebook-shim>=0.2.3->nbclassic>=0.4.7->notebook>=4.0->ipythonblocks) (1.3.1)\n",
            "Requirement already satisfied: exceptiongroup in /usr/local/lib/python3.10/dist-packages (from anyio<4,>=3.1.0->jupyter-server<3,>=1.8->notebook-shim>=0.2.3->nbclassic>=0.4.7->notebook>=4.0->ipythonblocks) (1.2.2)\n"
          ]
        }
      ]
    },
    {
      "cell_type": "code",
      "execution_count": 168,
      "metadata": {
        "id": "bKlneN6vIXaG"
      },
      "outputs": [],
      "source": [
        "from csp import *\n",
        "from notebook import psource, plot_NQueens\n",
        "%matplotlib inline\n",
        "\n",
        "# Hide warnings in the matplotlib sections\n",
        "import warnings\n",
        "warnings.filterwarnings(\"ignore\")"
      ]
    },
    {
      "cell_type": "markdown",
      "metadata": {
        "id": "kF3YJVM8IXaG"
      },
      "source": [
        "## CONTENTS\n",
        "\n",
        "* Overview\n",
        "* Graph Coloring\n",
        "* N-Queens\n",
        "* Backtracking Search\n",
        "* Graph Coloring Visualization\n",
        "* N-Queens Visualization"
      ]
    },
    {
      "cell_type": "markdown",
      "metadata": {
        "id": "k0rYGNw-IXaH"
      },
      "source": [
        "## OVERVIEW\n",
        "\n",
        "CSPs are a special kind of search problems. Here we don't treat the space as a black box but the state has a particular form and we use that to our advantage to tweak our algorithms to be more suited to the problems. A CSP State is defined by a set of variables which can take values from corresponding domains. These variables can take only certain values in their domains to satisfy the constraints. A set of assignments which satisfies all constraints passes the goal test. Let us start by exploring the CSP class which we will use to model our CSPs."
      ]
    },
    {
      "cell_type": "code",
      "execution_count": 169,
      "metadata": {
        "colab": {
          "base_uri": "https://localhost:8080/",
          "height": 1000
        },
        "id": "JO2SyLbgIXaH",
        "outputId": "957a0fea-f357-4bf3-da10-9c501187a7d4"
      },
      "outputs": [
        {
          "output_type": "display_data",
          "data": {
            "text/plain": [
              "<IPython.core.display.HTML object>"
            ],
            "text/html": [
              "<!DOCTYPE html PUBLIC \"-//W3C//DTD HTML 4.01//EN\"\n",
              "   \"http://www.w3.org/TR/html4/strict.dtd\">\n",
              "<!--\n",
              "generated by Pygments <https://pygments.org/>\n",
              "Copyright 2006-2023 by the Pygments team.\n",
              "Licensed under the BSD license, see LICENSE for details.\n",
              "-->\n",
              "<html>\n",
              "<head>\n",
              "  <title></title>\n",
              "  <meta http-equiv=\"content-type\" content=\"text/html; charset=None\">\n",
              "  <style type=\"text/css\">\n",
              "/*\n",
              "generated by Pygments <https://pygments.org/>\n",
              "Copyright 2006-2023 by the Pygments team.\n",
              "Licensed under the BSD license, see LICENSE for details.\n",
              "*/\n",
              "pre { line-height: 125%; }\n",
              "td.linenos .normal { color: inherit; background-color: transparent; padding-left: 5px; padding-right: 5px; }\n",
              "span.linenos { color: inherit; background-color: transparent; padding-left: 5px; padding-right: 5px; }\n",
              "td.linenos .special { color: #000000; background-color: #ffffc0; padding-left: 5px; padding-right: 5px; }\n",
              "span.linenos.special { color: #000000; background-color: #ffffc0; padding-left: 5px; padding-right: 5px; }\n",
              "body .hll { background-color: #ffffcc }\n",
              "body { background: #f8f8f8; }\n",
              "body .c { color: #3D7B7B; font-style: italic } /* Comment */\n",
              "body .err { border: 1px solid #FF0000 } /* Error */\n",
              "body .k { color: #008000; font-weight: bold } /* Keyword */\n",
              "body .o { color: #666666 } /* Operator */\n",
              "body .ch { color: #3D7B7B; font-style: italic } /* Comment.Hashbang */\n",
              "body .cm { color: #3D7B7B; font-style: italic } /* Comment.Multiline */\n",
              "body .cp { color: #9C6500 } /* Comment.Preproc */\n",
              "body .cpf { color: #3D7B7B; font-style: italic } /* Comment.PreprocFile */\n",
              "body .c1 { color: #3D7B7B; font-style: italic } /* Comment.Single */\n",
              "body .cs { color: #3D7B7B; font-style: italic } /* Comment.Special */\n",
              "body .gd { color: #A00000 } /* Generic.Deleted */\n",
              "body .ge { font-style: italic } /* Generic.Emph */\n",
              "body .ges { font-weight: bold; font-style: italic } /* Generic.EmphStrong */\n",
              "body .gr { color: #E40000 } /* Generic.Error */\n",
              "body .gh { color: #000080; font-weight: bold } /* Generic.Heading */\n",
              "body .gi { color: #008400 } /* Generic.Inserted */\n",
              "body .go { color: #717171 } /* Generic.Output */\n",
              "body .gp { color: #000080; font-weight: bold } /* Generic.Prompt */\n",
              "body .gs { font-weight: bold } /* Generic.Strong */\n",
              "body .gu { color: #800080; font-weight: bold } /* Generic.Subheading */\n",
              "body .gt { color: #0044DD } /* Generic.Traceback */\n",
              "body .kc { color: #008000; font-weight: bold } /* Keyword.Constant */\n",
              "body .kd { color: #008000; font-weight: bold } /* Keyword.Declaration */\n",
              "body .kn { color: #008000; font-weight: bold } /* Keyword.Namespace */\n",
              "body .kp { color: #008000 } /* Keyword.Pseudo */\n",
              "body .kr { color: #008000; font-weight: bold } /* Keyword.Reserved */\n",
              "body .kt { color: #B00040 } /* Keyword.Type */\n",
              "body .m { color: #666666 } /* Literal.Number */\n",
              "body .s { color: #BA2121 } /* Literal.String */\n",
              "body .na { color: #687822 } /* Name.Attribute */\n",
              "body .nb { color: #008000 } /* Name.Builtin */\n",
              "body .nc { color: #0000FF; font-weight: bold } /* Name.Class */\n",
              "body .no { color: #880000 } /* Name.Constant */\n",
              "body .nd { color: #AA22FF } /* Name.Decorator */\n",
              "body .ni { color: #717171; font-weight: bold } /* Name.Entity */\n",
              "body .ne { color: #CB3F38; font-weight: bold } /* Name.Exception */\n",
              "body .nf { color: #0000FF } /* Name.Function */\n",
              "body .nl { color: #767600 } /* Name.Label */\n",
              "body .nn { color: #0000FF; font-weight: bold } /* Name.Namespace */\n",
              "body .nt { color: #008000; font-weight: bold } /* Name.Tag */\n",
              "body .nv { color: #19177C } /* Name.Variable */\n",
              "body .ow { color: #AA22FF; font-weight: bold } /* Operator.Word */\n",
              "body .w { color: #bbbbbb } /* Text.Whitespace */\n",
              "body .mb { color: #666666 } /* Literal.Number.Bin */\n",
              "body .mf { color: #666666 } /* Literal.Number.Float */\n",
              "body .mh { color: #666666 } /* Literal.Number.Hex */\n",
              "body .mi { color: #666666 } /* Literal.Number.Integer */\n",
              "body .mo { color: #666666 } /* Literal.Number.Oct */\n",
              "body .sa { color: #BA2121 } /* Literal.String.Affix */\n",
              "body .sb { color: #BA2121 } /* Literal.String.Backtick */\n",
              "body .sc { color: #BA2121 } /* Literal.String.Char */\n",
              "body .dl { color: #BA2121 } /* Literal.String.Delimiter */\n",
              "body .sd { color: #BA2121; font-style: italic } /* Literal.String.Doc */\n",
              "body .s2 { color: #BA2121 } /* Literal.String.Double */\n",
              "body .se { color: #AA5D1F; font-weight: bold } /* Literal.String.Escape */\n",
              "body .sh { color: #BA2121 } /* Literal.String.Heredoc */\n",
              "body .si { color: #A45A77; font-weight: bold } /* Literal.String.Interpol */\n",
              "body .sx { color: #008000 } /* Literal.String.Other */\n",
              "body .sr { color: #A45A77 } /* Literal.String.Regex */\n",
              "body .s1 { color: #BA2121 } /* Literal.String.Single */\n",
              "body .ss { color: #19177C } /* Literal.String.Symbol */\n",
              "body .bp { color: #008000 } /* Name.Builtin.Pseudo */\n",
              "body .fm { color: #0000FF } /* Name.Function.Magic */\n",
              "body .vc { color: #19177C } /* Name.Variable.Class */\n",
              "body .vg { color: #19177C } /* Name.Variable.Global */\n",
              "body .vi { color: #19177C } /* Name.Variable.Instance */\n",
              "body .vm { color: #19177C } /* Name.Variable.Magic */\n",
              "body .il { color: #666666 } /* Literal.Number.Integer.Long */\n",
              "\n",
              "  </style>\n",
              "</head>\n",
              "<body>\n",
              "<h2></h2>\n",
              "\n",
              "<div class=\"highlight\"><pre><span></span><span class=\"k\">class</span> <span class=\"nc\">CSP</span><span class=\"p\">(</span><span class=\"n\">search</span><span class=\"o\">.</span><span class=\"n\">Problem</span><span class=\"p\">):</span>\n",
              "<span class=\"w\">    </span><span class=\"sd\">&quot;&quot;&quot;This class describes finite-domain Constraint Satisfaction Problems.</span>\n",
              "<span class=\"sd\">    A CSP is specified by the following inputs:</span>\n",
              "<span class=\"sd\">        variables   A list of variables; each is atomic (e.g. int or string).</span>\n",
              "<span class=\"sd\">        domains     A dict of {var:[possible_value, ...]} entries.</span>\n",
              "<span class=\"sd\">        neighbors   A dict of {var:[var,...]} that for each variable lists</span>\n",
              "<span class=\"sd\">                    the other variables that participate in constraints.</span>\n",
              "<span class=\"sd\">        constraints A function f(A, a, B, b) that returns true if neighbors</span>\n",
              "<span class=\"sd\">                    A, B satisfy the constraint when they have values A=a, B=b</span>\n",
              "\n",
              "<span class=\"sd\">    In the textbook and in most mathematical definitions, the</span>\n",
              "<span class=\"sd\">    constraints are specified as explicit pairs of allowable values,</span>\n",
              "<span class=\"sd\">    but the formulation here is easier to express and more compact for</span>\n",
              "<span class=\"sd\">    most cases (for example, the n-Queens problem can be represented</span>\n",
              "<span class=\"sd\">    in O(n) space using this notation, instead of O(n^4) for the</span>\n",
              "<span class=\"sd\">    explicit representation). In terms of describing the CSP as a</span>\n",
              "<span class=\"sd\">    problem, that&#39;s all there is.</span>\n",
              "\n",
              "<span class=\"sd\">    However, the class also supports data structures and methods that help you</span>\n",
              "<span class=\"sd\">    solve CSPs by calling a search function on the CSP. Methods and slots are</span>\n",
              "<span class=\"sd\">    as follows, where the argument &#39;a&#39; represents an assignment, which is a</span>\n",
              "<span class=\"sd\">    dict of {var:val} entries:</span>\n",
              "<span class=\"sd\">        assign(var, val, a)     Assign a[var] = val; do other bookkeeping</span>\n",
              "<span class=\"sd\">        unassign(var, a)        Do del a[var], plus other bookkeeping</span>\n",
              "<span class=\"sd\">        nconflicts(var, val, a) Return the number of other variables that</span>\n",
              "<span class=\"sd\">                                conflict with var=val</span>\n",
              "<span class=\"sd\">        curr_domains[var]       Slot: remaining consistent values for var</span>\n",
              "<span class=\"sd\">                                Used by constraint propagation routines.</span>\n",
              "<span class=\"sd\">    The following methods are used only by graph_search and tree_search:</span>\n",
              "<span class=\"sd\">        actions(state)          Return a list of actions</span>\n",
              "<span class=\"sd\">        result(state, action)   Return a successor of state</span>\n",
              "<span class=\"sd\">        goal_test(state)        Return true if all constraints satisfied</span>\n",
              "<span class=\"sd\">    The following are just for debugging purposes:</span>\n",
              "<span class=\"sd\">        nassigns                Slot: tracks the number of assignments made</span>\n",
              "<span class=\"sd\">        display(a)              Print a human-readable representation</span>\n",
              "<span class=\"sd\">    &quot;&quot;&quot;</span>\n",
              "\n",
              "    <span class=\"k\">def</span> <span class=\"fm\">__init__</span><span class=\"p\">(</span><span class=\"bp\">self</span><span class=\"p\">,</span> <span class=\"n\">variables</span><span class=\"p\">,</span> <span class=\"n\">domains</span><span class=\"p\">,</span> <span class=\"n\">neighbors</span><span class=\"p\">,</span> <span class=\"n\">constraints</span><span class=\"p\">):</span>\n",
              "<span class=\"w\">        </span><span class=\"sd\">&quot;&quot;&quot;Construct a CSP problem. If variables is empty, it becomes domains.keys().&quot;&quot;&quot;</span>\n",
              "        <span class=\"nb\">super</span><span class=\"p\">()</span><span class=\"o\">.</span><span class=\"fm\">__init__</span><span class=\"p\">(())</span>\n",
              "        <span class=\"n\">variables</span> <span class=\"o\">=</span> <span class=\"n\">variables</span> <span class=\"ow\">or</span> <span class=\"nb\">list</span><span class=\"p\">(</span><span class=\"n\">domains</span><span class=\"o\">.</span><span class=\"n\">keys</span><span class=\"p\">())</span>\n",
              "        <span class=\"bp\">self</span><span class=\"o\">.</span><span class=\"n\">variables</span> <span class=\"o\">=</span> <span class=\"n\">variables</span>\n",
              "        <span class=\"bp\">self</span><span class=\"o\">.</span><span class=\"n\">domains</span> <span class=\"o\">=</span> <span class=\"n\">domains</span>\n",
              "        <span class=\"bp\">self</span><span class=\"o\">.</span><span class=\"n\">neighbors</span> <span class=\"o\">=</span> <span class=\"n\">neighbors</span>\n",
              "        <span class=\"bp\">self</span><span class=\"o\">.</span><span class=\"n\">constraints</span> <span class=\"o\">=</span> <span class=\"n\">constraints</span>\n",
              "        <span class=\"bp\">self</span><span class=\"o\">.</span><span class=\"n\">curr_domains</span> <span class=\"o\">=</span> <span class=\"kc\">None</span>\n",
              "        <span class=\"bp\">self</span><span class=\"o\">.</span><span class=\"n\">nassigns</span> <span class=\"o\">=</span> <span class=\"mi\">0</span>\n",
              "\n",
              "    <span class=\"k\">def</span> <span class=\"nf\">assign</span><span class=\"p\">(</span><span class=\"bp\">self</span><span class=\"p\">,</span> <span class=\"n\">var</span><span class=\"p\">,</span> <span class=\"n\">val</span><span class=\"p\">,</span> <span class=\"n\">assignment</span><span class=\"p\">):</span>\n",
              "<span class=\"w\">        </span><span class=\"sd\">&quot;&quot;&quot;Add {var: val} to assignment; Discard the old value if any.&quot;&quot;&quot;</span>\n",
              "        <span class=\"n\">assignment</span><span class=\"p\">[</span><span class=\"n\">var</span><span class=\"p\">]</span> <span class=\"o\">=</span> <span class=\"n\">val</span>\n",
              "        <span class=\"bp\">self</span><span class=\"o\">.</span><span class=\"n\">nassigns</span> <span class=\"o\">+=</span> <span class=\"mi\">1</span>\n",
              "\n",
              "    <span class=\"k\">def</span> <span class=\"nf\">unassign</span><span class=\"p\">(</span><span class=\"bp\">self</span><span class=\"p\">,</span> <span class=\"n\">var</span><span class=\"p\">,</span> <span class=\"n\">assignment</span><span class=\"p\">):</span>\n",
              "<span class=\"w\">        </span><span class=\"sd\">&quot;&quot;&quot;Remove {var: val} from assignment.</span>\n",
              "<span class=\"sd\">        DO NOT call this if you are changing a variable to a new value;</span>\n",
              "<span class=\"sd\">        just call assign for that.&quot;&quot;&quot;</span>\n",
              "        <span class=\"k\">if</span> <span class=\"n\">var</span> <span class=\"ow\">in</span> <span class=\"n\">assignment</span><span class=\"p\">:</span>\n",
              "            <span class=\"k\">del</span> <span class=\"n\">assignment</span><span class=\"p\">[</span><span class=\"n\">var</span><span class=\"p\">]</span>\n",
              "\n",
              "    <span class=\"k\">def</span> <span class=\"nf\">nconflicts</span><span class=\"p\">(</span><span class=\"bp\">self</span><span class=\"p\">,</span> <span class=\"n\">var</span><span class=\"p\">,</span> <span class=\"n\">val</span><span class=\"p\">,</span> <span class=\"n\">assignment</span><span class=\"p\">):</span>\n",
              "<span class=\"w\">        </span><span class=\"sd\">&quot;&quot;&quot;Return the number of conflicts var=val has with other variables.&quot;&quot;&quot;</span>\n",
              "\n",
              "        <span class=\"c1\"># Subclasses may implement this more efficiently</span>\n",
              "        <span class=\"k\">def</span> <span class=\"nf\">conflict</span><span class=\"p\">(</span><span class=\"n\">var2</span><span class=\"p\">):</span>\n",
              "            <span class=\"k\">return</span> <span class=\"n\">var2</span> <span class=\"ow\">in</span> <span class=\"n\">assignment</span> <span class=\"ow\">and</span> <span class=\"ow\">not</span> <span class=\"bp\">self</span><span class=\"o\">.</span><span class=\"n\">constraints</span><span class=\"p\">(</span><span class=\"n\">var</span><span class=\"p\">,</span> <span class=\"n\">val</span><span class=\"p\">,</span> <span class=\"n\">var2</span><span class=\"p\">,</span> <span class=\"n\">assignment</span><span class=\"p\">[</span><span class=\"n\">var2</span><span class=\"p\">])</span>\n",
              "\n",
              "        <span class=\"k\">return</span> <span class=\"n\">count</span><span class=\"p\">(</span><span class=\"n\">conflict</span><span class=\"p\">(</span><span class=\"n\">v</span><span class=\"p\">)</span> <span class=\"k\">for</span> <span class=\"n\">v</span> <span class=\"ow\">in</span> <span class=\"bp\">self</span><span class=\"o\">.</span><span class=\"n\">neighbors</span><span class=\"p\">[</span><span class=\"n\">var</span><span class=\"p\">])</span>\n",
              "\n",
              "    <span class=\"k\">def</span> <span class=\"nf\">display</span><span class=\"p\">(</span><span class=\"bp\">self</span><span class=\"p\">,</span> <span class=\"n\">assignment</span><span class=\"p\">):</span>\n",
              "<span class=\"w\">        </span><span class=\"sd\">&quot;&quot;&quot;Show a human-readable representation of the CSP.&quot;&quot;&quot;</span>\n",
              "        <span class=\"c1\"># Subclasses can print in a prettier way, or display with a GUI</span>\n",
              "        <span class=\"nb\">print</span><span class=\"p\">(</span><span class=\"n\">assignment</span><span class=\"p\">)</span>\n",
              "\n",
              "    <span class=\"c1\"># These methods are for the tree and graph-search interface:</span>\n",
              "\n",
              "    <span class=\"k\">def</span> <span class=\"nf\">actions</span><span class=\"p\">(</span><span class=\"bp\">self</span><span class=\"p\">,</span> <span class=\"n\">state</span><span class=\"p\">):</span>\n",
              "<span class=\"w\">        </span><span class=\"sd\">&quot;&quot;&quot;Return a list of applicable actions: non conflicting</span>\n",
              "<span class=\"sd\">        assignments to an unassigned variable.&quot;&quot;&quot;</span>\n",
              "        <span class=\"k\">if</span> <span class=\"nb\">len</span><span class=\"p\">(</span><span class=\"n\">state</span><span class=\"p\">)</span> <span class=\"o\">==</span> <span class=\"nb\">len</span><span class=\"p\">(</span><span class=\"bp\">self</span><span class=\"o\">.</span><span class=\"n\">variables</span><span class=\"p\">):</span>\n",
              "            <span class=\"k\">return</span> <span class=\"p\">[]</span>\n",
              "        <span class=\"k\">else</span><span class=\"p\">:</span>\n",
              "            <span class=\"n\">assignment</span> <span class=\"o\">=</span> <span class=\"nb\">dict</span><span class=\"p\">(</span><span class=\"n\">state</span><span class=\"p\">)</span>\n",
              "            <span class=\"n\">var</span> <span class=\"o\">=</span> <span class=\"n\">first</span><span class=\"p\">([</span><span class=\"n\">v</span> <span class=\"k\">for</span> <span class=\"n\">v</span> <span class=\"ow\">in</span> <span class=\"bp\">self</span><span class=\"o\">.</span><span class=\"n\">variables</span> <span class=\"k\">if</span> <span class=\"n\">v</span> <span class=\"ow\">not</span> <span class=\"ow\">in</span> <span class=\"n\">assignment</span><span class=\"p\">])</span>\n",
              "            <span class=\"k\">return</span> <span class=\"p\">[(</span><span class=\"n\">var</span><span class=\"p\">,</span> <span class=\"n\">val</span><span class=\"p\">)</span> <span class=\"k\">for</span> <span class=\"n\">val</span> <span class=\"ow\">in</span> <span class=\"bp\">self</span><span class=\"o\">.</span><span class=\"n\">domains</span><span class=\"p\">[</span><span class=\"n\">var</span><span class=\"p\">]</span>\n",
              "                    <span class=\"k\">if</span> <span class=\"bp\">self</span><span class=\"o\">.</span><span class=\"n\">nconflicts</span><span class=\"p\">(</span><span class=\"n\">var</span><span class=\"p\">,</span> <span class=\"n\">val</span><span class=\"p\">,</span> <span class=\"n\">assignment</span><span class=\"p\">)</span> <span class=\"o\">==</span> <span class=\"mi\">0</span><span class=\"p\">]</span>\n",
              "\n",
              "    <span class=\"k\">def</span> <span class=\"nf\">result</span><span class=\"p\">(</span><span class=\"bp\">self</span><span class=\"p\">,</span> <span class=\"n\">state</span><span class=\"p\">,</span> <span class=\"n\">action</span><span class=\"p\">):</span>\n",
              "<span class=\"w\">        </span><span class=\"sd\">&quot;&quot;&quot;Perform an action and return the new state.&quot;&quot;&quot;</span>\n",
              "        <span class=\"p\">(</span><span class=\"n\">var</span><span class=\"p\">,</span> <span class=\"n\">val</span><span class=\"p\">)</span> <span class=\"o\">=</span> <span class=\"n\">action</span>\n",
              "        <span class=\"k\">return</span> <span class=\"n\">state</span> <span class=\"o\">+</span> <span class=\"p\">((</span><span class=\"n\">var</span><span class=\"p\">,</span> <span class=\"n\">val</span><span class=\"p\">),)</span>\n",
              "\n",
              "    <span class=\"k\">def</span> <span class=\"nf\">goal_test</span><span class=\"p\">(</span><span class=\"bp\">self</span><span class=\"p\">,</span> <span class=\"n\">state</span><span class=\"p\">):</span>\n",
              "<span class=\"w\">        </span><span class=\"sd\">&quot;&quot;&quot;The goal is to assign all variables, with all constraints satisfied.&quot;&quot;&quot;</span>\n",
              "        <span class=\"n\">assignment</span> <span class=\"o\">=</span> <span class=\"nb\">dict</span><span class=\"p\">(</span><span class=\"n\">state</span><span class=\"p\">)</span>\n",
              "        <span class=\"k\">return</span> <span class=\"p\">(</span><span class=\"nb\">len</span><span class=\"p\">(</span><span class=\"n\">assignment</span><span class=\"p\">)</span> <span class=\"o\">==</span> <span class=\"nb\">len</span><span class=\"p\">(</span><span class=\"bp\">self</span><span class=\"o\">.</span><span class=\"n\">variables</span><span class=\"p\">)</span>\n",
              "                <span class=\"ow\">and</span> <span class=\"nb\">all</span><span class=\"p\">(</span><span class=\"bp\">self</span><span class=\"o\">.</span><span class=\"n\">nconflicts</span><span class=\"p\">(</span><span class=\"n\">variables</span><span class=\"p\">,</span> <span class=\"n\">assignment</span><span class=\"p\">[</span><span class=\"n\">variables</span><span class=\"p\">],</span> <span class=\"n\">assignment</span><span class=\"p\">)</span> <span class=\"o\">==</span> <span class=\"mi\">0</span>\n",
              "                        <span class=\"k\">for</span> <span class=\"n\">variables</span> <span class=\"ow\">in</span> <span class=\"bp\">self</span><span class=\"o\">.</span><span class=\"n\">variables</span><span class=\"p\">))</span>\n",
              "\n",
              "    <span class=\"c1\"># These are for constraint propagation</span>\n",
              "\n",
              "    <span class=\"k\">def</span> <span class=\"nf\">support_pruning</span><span class=\"p\">(</span><span class=\"bp\">self</span><span class=\"p\">):</span>\n",
              "<span class=\"w\">        </span><span class=\"sd\">&quot;&quot;&quot;Make sure we can prune values from domains. (We want to pay</span>\n",
              "<span class=\"sd\">        for this only if we use it.)&quot;&quot;&quot;</span>\n",
              "        <span class=\"k\">if</span> <span class=\"bp\">self</span><span class=\"o\">.</span><span class=\"n\">curr_domains</span> <span class=\"ow\">is</span> <span class=\"kc\">None</span><span class=\"p\">:</span>\n",
              "            <span class=\"bp\">self</span><span class=\"o\">.</span><span class=\"n\">curr_domains</span> <span class=\"o\">=</span> <span class=\"p\">{</span><span class=\"n\">v</span><span class=\"p\">:</span> <span class=\"nb\">list</span><span class=\"p\">(</span><span class=\"bp\">self</span><span class=\"o\">.</span><span class=\"n\">domains</span><span class=\"p\">[</span><span class=\"n\">v</span><span class=\"p\">])</span> <span class=\"k\">for</span> <span class=\"n\">v</span> <span class=\"ow\">in</span> <span class=\"bp\">self</span><span class=\"o\">.</span><span class=\"n\">variables</span><span class=\"p\">}</span>\n",
              "\n",
              "    <span class=\"k\">def</span> <span class=\"nf\">suppose</span><span class=\"p\">(</span><span class=\"bp\">self</span><span class=\"p\">,</span> <span class=\"n\">var</span><span class=\"p\">,</span> <span class=\"n\">value</span><span class=\"p\">):</span>\n",
              "<span class=\"w\">        </span><span class=\"sd\">&quot;&quot;&quot;Start accumulating inferences from assuming var=value.&quot;&quot;&quot;</span>\n",
              "        <span class=\"bp\">self</span><span class=\"o\">.</span><span class=\"n\">support_pruning</span><span class=\"p\">()</span>\n",
              "        <span class=\"n\">removals</span> <span class=\"o\">=</span> <span class=\"p\">[(</span><span class=\"n\">var</span><span class=\"p\">,</span> <span class=\"n\">a</span><span class=\"p\">)</span> <span class=\"k\">for</span> <span class=\"n\">a</span> <span class=\"ow\">in</span> <span class=\"bp\">self</span><span class=\"o\">.</span><span class=\"n\">curr_domains</span><span class=\"p\">[</span><span class=\"n\">var</span><span class=\"p\">]</span> <span class=\"k\">if</span> <span class=\"n\">a</span> <span class=\"o\">!=</span> <span class=\"n\">value</span><span class=\"p\">]</span>\n",
              "        <span class=\"bp\">self</span><span class=\"o\">.</span><span class=\"n\">curr_domains</span><span class=\"p\">[</span><span class=\"n\">var</span><span class=\"p\">]</span> <span class=\"o\">=</span> <span class=\"p\">[</span><span class=\"n\">value</span><span class=\"p\">]</span>\n",
              "        <span class=\"k\">return</span> <span class=\"n\">removals</span>\n",
              "\n",
              "    <span class=\"k\">def</span> <span class=\"nf\">prune</span><span class=\"p\">(</span><span class=\"bp\">self</span><span class=\"p\">,</span> <span class=\"n\">var</span><span class=\"p\">,</span> <span class=\"n\">value</span><span class=\"p\">,</span> <span class=\"n\">removals</span><span class=\"p\">):</span>\n",
              "<span class=\"w\">        </span><span class=\"sd\">&quot;&quot;&quot;Rule out var=value.&quot;&quot;&quot;</span>\n",
              "        <span class=\"bp\">self</span><span class=\"o\">.</span><span class=\"n\">curr_domains</span><span class=\"p\">[</span><span class=\"n\">var</span><span class=\"p\">]</span><span class=\"o\">.</span><span class=\"n\">remove</span><span class=\"p\">(</span><span class=\"n\">value</span><span class=\"p\">)</span>\n",
              "        <span class=\"k\">if</span> <span class=\"n\">removals</span> <span class=\"ow\">is</span> <span class=\"ow\">not</span> <span class=\"kc\">None</span><span class=\"p\">:</span>\n",
              "            <span class=\"n\">removals</span><span class=\"o\">.</span><span class=\"n\">append</span><span class=\"p\">((</span><span class=\"n\">var</span><span class=\"p\">,</span> <span class=\"n\">value</span><span class=\"p\">))</span>\n",
              "\n",
              "    <span class=\"k\">def</span> <span class=\"nf\">choices</span><span class=\"p\">(</span><span class=\"bp\">self</span><span class=\"p\">,</span> <span class=\"n\">var</span><span class=\"p\">):</span>\n",
              "<span class=\"w\">        </span><span class=\"sd\">&quot;&quot;&quot;Return all values for var that aren&#39;t currently ruled out.&quot;&quot;&quot;</span>\n",
              "        <span class=\"k\">return</span> <span class=\"p\">(</span><span class=\"bp\">self</span><span class=\"o\">.</span><span class=\"n\">curr_domains</span> <span class=\"ow\">or</span> <span class=\"bp\">self</span><span class=\"o\">.</span><span class=\"n\">domains</span><span class=\"p\">)[</span><span class=\"n\">var</span><span class=\"p\">]</span>\n",
              "\n",
              "    <span class=\"k\">def</span> <span class=\"nf\">infer_assignment</span><span class=\"p\">(</span><span class=\"bp\">self</span><span class=\"p\">):</span>\n",
              "<span class=\"w\">        </span><span class=\"sd\">&quot;&quot;&quot;Return the partial assignment implied by the current inferences.&quot;&quot;&quot;</span>\n",
              "        <span class=\"bp\">self</span><span class=\"o\">.</span><span class=\"n\">support_pruning</span><span class=\"p\">()</span>\n",
              "        <span class=\"k\">return</span> <span class=\"p\">{</span><span class=\"n\">v</span><span class=\"p\">:</span> <span class=\"bp\">self</span><span class=\"o\">.</span><span class=\"n\">curr_domains</span><span class=\"p\">[</span><span class=\"n\">v</span><span class=\"p\">][</span><span class=\"mi\">0</span><span class=\"p\">]</span>\n",
              "                <span class=\"k\">for</span> <span class=\"n\">v</span> <span class=\"ow\">in</span> <span class=\"bp\">self</span><span class=\"o\">.</span><span class=\"n\">variables</span> <span class=\"k\">if</span> <span class=\"mi\">1</span> <span class=\"o\">==</span> <span class=\"nb\">len</span><span class=\"p\">(</span><span class=\"bp\">self</span><span class=\"o\">.</span><span class=\"n\">curr_domains</span><span class=\"p\">[</span><span class=\"n\">v</span><span class=\"p\">])}</span>\n",
              "\n",
              "    <span class=\"k\">def</span> <span class=\"nf\">restore</span><span class=\"p\">(</span><span class=\"bp\">self</span><span class=\"p\">,</span> <span class=\"n\">removals</span><span class=\"p\">):</span>\n",
              "<span class=\"w\">        </span><span class=\"sd\">&quot;&quot;&quot;Undo a supposition and all inferences from it.&quot;&quot;&quot;</span>\n",
              "        <span class=\"k\">for</span> <span class=\"n\">B</span><span class=\"p\">,</span> <span class=\"n\">b</span> <span class=\"ow\">in</span> <span class=\"n\">removals</span><span class=\"p\">:</span>\n",
              "            <span class=\"bp\">self</span><span class=\"o\">.</span><span class=\"n\">curr_domains</span><span class=\"p\">[</span><span class=\"n\">B</span><span class=\"p\">]</span><span class=\"o\">.</span><span class=\"n\">append</span><span class=\"p\">(</span><span class=\"n\">b</span><span class=\"p\">)</span>\n",
              "\n",
              "    <span class=\"c1\"># This is for min_conflicts search</span>\n",
              "\n",
              "    <span class=\"k\">def</span> <span class=\"nf\">conflicted_vars</span><span class=\"p\">(</span><span class=\"bp\">self</span><span class=\"p\">,</span> <span class=\"n\">current</span><span class=\"p\">):</span>\n",
              "<span class=\"w\">        </span><span class=\"sd\">&quot;&quot;&quot;Return a list of variables in current assignment that are in conflict&quot;&quot;&quot;</span>\n",
              "        <span class=\"k\">return</span> <span class=\"p\">[</span><span class=\"n\">var</span> <span class=\"k\">for</span> <span class=\"n\">var</span> <span class=\"ow\">in</span> <span class=\"bp\">self</span><span class=\"o\">.</span><span class=\"n\">variables</span>\n",
              "                <span class=\"k\">if</span> <span class=\"bp\">self</span><span class=\"o\">.</span><span class=\"n\">nconflicts</span><span class=\"p\">(</span><span class=\"n\">var</span><span class=\"p\">,</span> <span class=\"n\">current</span><span class=\"p\">[</span><span class=\"n\">var</span><span class=\"p\">],</span> <span class=\"n\">current</span><span class=\"p\">)</span> <span class=\"o\">&gt;</span> <span class=\"mi\">0</span><span class=\"p\">]</span>\n",
              "</pre></div>\n",
              "</body>\n",
              "</html>\n"
            ]
          },
          "metadata": {}
        }
      ],
      "source": [
        "psource(CSP)"
      ]
    },
    {
      "cell_type": "markdown",
      "metadata": {
        "id": "e4O3798oIXaH"
      },
      "source": [
        "The __ _ _init_ _ __ method parameters specify the CSP. Variables can be passed as a list of strings or integers. Domains are passed as dict (dictionary datatpye) where \"key\" specifies the variables and \"value\" specifies the domains. The variables are passed as an empty list. Variables are extracted from the keys of the domain dictionary. Neighbor is a dict of variables that essentially describes the constraint graph. Here each variable key has a list of its values which are the variables that are constraint along with it. The constraint parameter should be a function **f(A, a, B, b**) that **returns true** if neighbors A, B **satisfy the constraint** when they have values **A=a, B=b**. We have additional parameters like nassings which is incremented each time an assignment is made when calling the assign method. You can read more about the methods and parameters in the class doc string. We will talk more about them as we encounter their use. Let us jump to an example."
      ]
    },
    {
      "cell_type": "markdown",
      "metadata": {
        "id": "-hflKscDIXaI"
      },
      "source": [
        "## GRAPH COLORING\n",
        "\n",
        "We use the graph coloring problem as our running example for demonstrating the different algorithms in the **csp module**. The idea of map coloring problem is that the adjacent nodes (those connected by edges) should not have the same color throughout the graph. The graph can be colored using a fixed number of colors. Here each node is a variable and the values are the colors that can be assigned to them. Given that the domain will be the same for all our nodes we use a custom dict defined by the **UniversalDict** class. The **UniversalDict** Class takes in a parameter and returns it as a value for all the keys of the dict. It is very similar to **defaultdict** in Python except that it does not support item assignment."
      ]
    },
    {
      "cell_type": "code",
      "execution_count": 170,
      "metadata": {
        "colab": {
          "base_uri": "https://localhost:8080/"
        },
        "id": "ZIW5-p1kIXaI",
        "outputId": "c192a7b1-b06e-4bee-af1c-a7e00ecbf533"
      },
      "outputs": [
        {
          "output_type": "execute_result",
          "data": {
            "text/plain": [
              "['R', 'G', 'B']"
            ]
          },
          "metadata": {},
          "execution_count": 170
        }
      ],
      "source": [
        "s = UniversalDict(['R','G','B'])\n",
        "s[5]"
      ]
    },
    {
      "cell_type": "markdown",
      "metadata": {
        "id": "Ia4RGdXWIXaI"
      },
      "source": [
        "For our CSP we also need to define a constraint function **f(A, a, B, b)**. In this, we need to ensure that the neighbors don't have the same color. This is defined in the function **different_values_constraint** of the module."
      ]
    },
    {
      "cell_type": "code",
      "execution_count": 171,
      "metadata": {
        "colab": {
          "base_uri": "https://localhost:8080/",
          "height": 87
        },
        "id": "HtPc79z4IXaI",
        "outputId": "35bc291d-71d7-490b-bd80-0cd16c27e6be"
      },
      "outputs": [
        {
          "output_type": "display_data",
          "data": {
            "text/plain": [
              "<IPython.core.display.HTML object>"
            ],
            "text/html": [
              "<!DOCTYPE html PUBLIC \"-//W3C//DTD HTML 4.01//EN\"\n",
              "   \"http://www.w3.org/TR/html4/strict.dtd\">\n",
              "<!--\n",
              "generated by Pygments <https://pygments.org/>\n",
              "Copyright 2006-2023 by the Pygments team.\n",
              "Licensed under the BSD license, see LICENSE for details.\n",
              "-->\n",
              "<html>\n",
              "<head>\n",
              "  <title></title>\n",
              "  <meta http-equiv=\"content-type\" content=\"text/html; charset=None\">\n",
              "  <style type=\"text/css\">\n",
              "/*\n",
              "generated by Pygments <https://pygments.org/>\n",
              "Copyright 2006-2023 by the Pygments team.\n",
              "Licensed under the BSD license, see LICENSE for details.\n",
              "*/\n",
              "pre { line-height: 125%; }\n",
              "td.linenos .normal { color: inherit; background-color: transparent; padding-left: 5px; padding-right: 5px; }\n",
              "span.linenos { color: inherit; background-color: transparent; padding-left: 5px; padding-right: 5px; }\n",
              "td.linenos .special { color: #000000; background-color: #ffffc0; padding-left: 5px; padding-right: 5px; }\n",
              "span.linenos.special { color: #000000; background-color: #ffffc0; padding-left: 5px; padding-right: 5px; }\n",
              "body .hll { background-color: #ffffcc }\n",
              "body { background: #f8f8f8; }\n",
              "body .c { color: #3D7B7B; font-style: italic } /* Comment */\n",
              "body .err { border: 1px solid #FF0000 } /* Error */\n",
              "body .k { color: #008000; font-weight: bold } /* Keyword */\n",
              "body .o { color: #666666 } /* Operator */\n",
              "body .ch { color: #3D7B7B; font-style: italic } /* Comment.Hashbang */\n",
              "body .cm { color: #3D7B7B; font-style: italic } /* Comment.Multiline */\n",
              "body .cp { color: #9C6500 } /* Comment.Preproc */\n",
              "body .cpf { color: #3D7B7B; font-style: italic } /* Comment.PreprocFile */\n",
              "body .c1 { color: #3D7B7B; font-style: italic } /* Comment.Single */\n",
              "body .cs { color: #3D7B7B; font-style: italic } /* Comment.Special */\n",
              "body .gd { color: #A00000 } /* Generic.Deleted */\n",
              "body .ge { font-style: italic } /* Generic.Emph */\n",
              "body .ges { font-weight: bold; font-style: italic } /* Generic.EmphStrong */\n",
              "body .gr { color: #E40000 } /* Generic.Error */\n",
              "body .gh { color: #000080; font-weight: bold } /* Generic.Heading */\n",
              "body .gi { color: #008400 } /* Generic.Inserted */\n",
              "body .go { color: #717171 } /* Generic.Output */\n",
              "body .gp { color: #000080; font-weight: bold } /* Generic.Prompt */\n",
              "body .gs { font-weight: bold } /* Generic.Strong */\n",
              "body .gu { color: #800080; font-weight: bold } /* Generic.Subheading */\n",
              "body .gt { color: #0044DD } /* Generic.Traceback */\n",
              "body .kc { color: #008000; font-weight: bold } /* Keyword.Constant */\n",
              "body .kd { color: #008000; font-weight: bold } /* Keyword.Declaration */\n",
              "body .kn { color: #008000; font-weight: bold } /* Keyword.Namespace */\n",
              "body .kp { color: #008000 } /* Keyword.Pseudo */\n",
              "body .kr { color: #008000; font-weight: bold } /* Keyword.Reserved */\n",
              "body .kt { color: #B00040 } /* Keyword.Type */\n",
              "body .m { color: #666666 } /* Literal.Number */\n",
              "body .s { color: #BA2121 } /* Literal.String */\n",
              "body .na { color: #687822 } /* Name.Attribute */\n",
              "body .nb { color: #008000 } /* Name.Builtin */\n",
              "body .nc { color: #0000FF; font-weight: bold } /* Name.Class */\n",
              "body .no { color: #880000 } /* Name.Constant */\n",
              "body .nd { color: #AA22FF } /* Name.Decorator */\n",
              "body .ni { color: #717171; font-weight: bold } /* Name.Entity */\n",
              "body .ne { color: #CB3F38; font-weight: bold } /* Name.Exception */\n",
              "body .nf { color: #0000FF } /* Name.Function */\n",
              "body .nl { color: #767600 } /* Name.Label */\n",
              "body .nn { color: #0000FF; font-weight: bold } /* Name.Namespace */\n",
              "body .nt { color: #008000; font-weight: bold } /* Name.Tag */\n",
              "body .nv { color: #19177C } /* Name.Variable */\n",
              "body .ow { color: #AA22FF; font-weight: bold } /* Operator.Word */\n",
              "body .w { color: #bbbbbb } /* Text.Whitespace */\n",
              "body .mb { color: #666666 } /* Literal.Number.Bin */\n",
              "body .mf { color: #666666 } /* Literal.Number.Float */\n",
              "body .mh { color: #666666 } /* Literal.Number.Hex */\n",
              "body .mi { color: #666666 } /* Literal.Number.Integer */\n",
              "body .mo { color: #666666 } /* Literal.Number.Oct */\n",
              "body .sa { color: #BA2121 } /* Literal.String.Affix */\n",
              "body .sb { color: #BA2121 } /* Literal.String.Backtick */\n",
              "body .sc { color: #BA2121 } /* Literal.String.Char */\n",
              "body .dl { color: #BA2121 } /* Literal.String.Delimiter */\n",
              "body .sd { color: #BA2121; font-style: italic } /* Literal.String.Doc */\n",
              "body .s2 { color: #BA2121 } /* Literal.String.Double */\n",
              "body .se { color: #AA5D1F; font-weight: bold } /* Literal.String.Escape */\n",
              "body .sh { color: #BA2121 } /* Literal.String.Heredoc */\n",
              "body .si { color: #A45A77; font-weight: bold } /* Literal.String.Interpol */\n",
              "body .sx { color: #008000 } /* Literal.String.Other */\n",
              "body .sr { color: #A45A77 } /* Literal.String.Regex */\n",
              "body .s1 { color: #BA2121 } /* Literal.String.Single */\n",
              "body .ss { color: #19177C } /* Literal.String.Symbol */\n",
              "body .bp { color: #008000 } /* Name.Builtin.Pseudo */\n",
              "body .fm { color: #0000FF } /* Name.Function.Magic */\n",
              "body .vc { color: #19177C } /* Name.Variable.Class */\n",
              "body .vg { color: #19177C } /* Name.Variable.Global */\n",
              "body .vi { color: #19177C } /* Name.Variable.Instance */\n",
              "body .vm { color: #19177C } /* Name.Variable.Magic */\n",
              "body .il { color: #666666 } /* Literal.Number.Integer.Long */\n",
              "\n",
              "  </style>\n",
              "</head>\n",
              "<body>\n",
              "<h2></h2>\n",
              "\n",
              "<div class=\"highlight\"><pre><span></span><span class=\"k\">def</span> <span class=\"nf\">different_values_constraint</span><span class=\"p\">(</span><span class=\"n\">A</span><span class=\"p\">,</span> <span class=\"n\">a</span><span class=\"p\">,</span> <span class=\"n\">B</span><span class=\"p\">,</span> <span class=\"n\">b</span><span class=\"p\">):</span>\n",
              "<span class=\"w\">    </span><span class=\"sd\">&quot;&quot;&quot;A constraint saying two neighboring variables must differ in value.&quot;&quot;&quot;</span>\n",
              "    <span class=\"k\">return</span> <span class=\"n\">a</span> <span class=\"o\">!=</span> <span class=\"n\">b</span>\n",
              "</pre></div>\n",
              "</body>\n",
              "</html>\n"
            ]
          },
          "metadata": {}
        }
      ],
      "source": [
        "psource(different_values_constraint)"
      ]
    },
    {
      "cell_type": "markdown",
      "metadata": {
        "id": "zaG7o3XMIXaI"
      },
      "source": [
        "The CSP class takes neighbors in the form of a Dict. The module specifies a simple helper function named **parse_neighbors** which allows us to take input in the form of strings and return a Dict of a form that is compatible with the **CSP Class**."
      ]
    },
    {
      "cell_type": "code",
      "execution_count": 172,
      "metadata": {
        "id": "m6vnZBdaIXaJ"
      },
      "outputs": [],
      "source": [
        "%pdoc parse_neighbors"
      ]
    },
    {
      "cell_type": "markdown",
      "metadata": {
        "id": "5KnZYUkoIXaJ"
      },
      "source": [
        "The **MapColoringCSP** function creates and returns a CSP with the above constraint function and states. The variables are the keys of the neighbors dict and the constraint is the one specified by the **different_values_constratint** function. **Australia**, **USA** and **France** are three CSPs that have been created using **MapColoringCSP**. **Australia** corresponds to ** Figure 6.1 ** in the book."
      ]
    },
    {
      "cell_type": "code",
      "execution_count": 173,
      "metadata": {
        "colab": {
          "base_uri": "https://localhost:8080/",
          "height": 174
        },
        "id": "cAvvpgi6IXaJ",
        "outputId": "dd2742f7-50a9-4ad3-a372-3c0e7c17dee8"
      },
      "outputs": [
        {
          "output_type": "display_data",
          "data": {
            "text/plain": [
              "<IPython.core.display.HTML object>"
            ],
            "text/html": [
              "<!DOCTYPE html PUBLIC \"-//W3C//DTD HTML 4.01//EN\"\n",
              "   \"http://www.w3.org/TR/html4/strict.dtd\">\n",
              "<!--\n",
              "generated by Pygments <https://pygments.org/>\n",
              "Copyright 2006-2023 by the Pygments team.\n",
              "Licensed under the BSD license, see LICENSE for details.\n",
              "-->\n",
              "<html>\n",
              "<head>\n",
              "  <title></title>\n",
              "  <meta http-equiv=\"content-type\" content=\"text/html; charset=None\">\n",
              "  <style type=\"text/css\">\n",
              "/*\n",
              "generated by Pygments <https://pygments.org/>\n",
              "Copyright 2006-2023 by the Pygments team.\n",
              "Licensed under the BSD license, see LICENSE for details.\n",
              "*/\n",
              "pre { line-height: 125%; }\n",
              "td.linenos .normal { color: inherit; background-color: transparent; padding-left: 5px; padding-right: 5px; }\n",
              "span.linenos { color: inherit; background-color: transparent; padding-left: 5px; padding-right: 5px; }\n",
              "td.linenos .special { color: #000000; background-color: #ffffc0; padding-left: 5px; padding-right: 5px; }\n",
              "span.linenos.special { color: #000000; background-color: #ffffc0; padding-left: 5px; padding-right: 5px; }\n",
              "body .hll { background-color: #ffffcc }\n",
              "body { background: #f8f8f8; }\n",
              "body .c { color: #3D7B7B; font-style: italic } /* Comment */\n",
              "body .err { border: 1px solid #FF0000 } /* Error */\n",
              "body .k { color: #008000; font-weight: bold } /* Keyword */\n",
              "body .o { color: #666666 } /* Operator */\n",
              "body .ch { color: #3D7B7B; font-style: italic } /* Comment.Hashbang */\n",
              "body .cm { color: #3D7B7B; font-style: italic } /* Comment.Multiline */\n",
              "body .cp { color: #9C6500 } /* Comment.Preproc */\n",
              "body .cpf { color: #3D7B7B; font-style: italic } /* Comment.PreprocFile */\n",
              "body .c1 { color: #3D7B7B; font-style: italic } /* Comment.Single */\n",
              "body .cs { color: #3D7B7B; font-style: italic } /* Comment.Special */\n",
              "body .gd { color: #A00000 } /* Generic.Deleted */\n",
              "body .ge { font-style: italic } /* Generic.Emph */\n",
              "body .ges { font-weight: bold; font-style: italic } /* Generic.EmphStrong */\n",
              "body .gr { color: #E40000 } /* Generic.Error */\n",
              "body .gh { color: #000080; font-weight: bold } /* Generic.Heading */\n",
              "body .gi { color: #008400 } /* Generic.Inserted */\n",
              "body .go { color: #717171 } /* Generic.Output */\n",
              "body .gp { color: #000080; font-weight: bold } /* Generic.Prompt */\n",
              "body .gs { font-weight: bold } /* Generic.Strong */\n",
              "body .gu { color: #800080; font-weight: bold } /* Generic.Subheading */\n",
              "body .gt { color: #0044DD } /* Generic.Traceback */\n",
              "body .kc { color: #008000; font-weight: bold } /* Keyword.Constant */\n",
              "body .kd { color: #008000; font-weight: bold } /* Keyword.Declaration */\n",
              "body .kn { color: #008000; font-weight: bold } /* Keyword.Namespace */\n",
              "body .kp { color: #008000 } /* Keyword.Pseudo */\n",
              "body .kr { color: #008000; font-weight: bold } /* Keyword.Reserved */\n",
              "body .kt { color: #B00040 } /* Keyword.Type */\n",
              "body .m { color: #666666 } /* Literal.Number */\n",
              "body .s { color: #BA2121 } /* Literal.String */\n",
              "body .na { color: #687822 } /* Name.Attribute */\n",
              "body .nb { color: #008000 } /* Name.Builtin */\n",
              "body .nc { color: #0000FF; font-weight: bold } /* Name.Class */\n",
              "body .no { color: #880000 } /* Name.Constant */\n",
              "body .nd { color: #AA22FF } /* Name.Decorator */\n",
              "body .ni { color: #717171; font-weight: bold } /* Name.Entity */\n",
              "body .ne { color: #CB3F38; font-weight: bold } /* Name.Exception */\n",
              "body .nf { color: #0000FF } /* Name.Function */\n",
              "body .nl { color: #767600 } /* Name.Label */\n",
              "body .nn { color: #0000FF; font-weight: bold } /* Name.Namespace */\n",
              "body .nt { color: #008000; font-weight: bold } /* Name.Tag */\n",
              "body .nv { color: #19177C } /* Name.Variable */\n",
              "body .ow { color: #AA22FF; font-weight: bold } /* Operator.Word */\n",
              "body .w { color: #bbbbbb } /* Text.Whitespace */\n",
              "body .mb { color: #666666 } /* Literal.Number.Bin */\n",
              "body .mf { color: #666666 } /* Literal.Number.Float */\n",
              "body .mh { color: #666666 } /* Literal.Number.Hex */\n",
              "body .mi { color: #666666 } /* Literal.Number.Integer */\n",
              "body .mo { color: #666666 } /* Literal.Number.Oct */\n",
              "body .sa { color: #BA2121 } /* Literal.String.Affix */\n",
              "body .sb { color: #BA2121 } /* Literal.String.Backtick */\n",
              "body .sc { color: #BA2121 } /* Literal.String.Char */\n",
              "body .dl { color: #BA2121 } /* Literal.String.Delimiter */\n",
              "body .sd { color: #BA2121; font-style: italic } /* Literal.String.Doc */\n",
              "body .s2 { color: #BA2121 } /* Literal.String.Double */\n",
              "body .se { color: #AA5D1F; font-weight: bold } /* Literal.String.Escape */\n",
              "body .sh { color: #BA2121 } /* Literal.String.Heredoc */\n",
              "body .si { color: #A45A77; font-weight: bold } /* Literal.String.Interpol */\n",
              "body .sx { color: #008000 } /* Literal.String.Other */\n",
              "body .sr { color: #A45A77 } /* Literal.String.Regex */\n",
              "body .s1 { color: #BA2121 } /* Literal.String.Single */\n",
              "body .ss { color: #19177C } /* Literal.String.Symbol */\n",
              "body .bp { color: #008000 } /* Name.Builtin.Pseudo */\n",
              "body .fm { color: #0000FF } /* Name.Function.Magic */\n",
              "body .vc { color: #19177C } /* Name.Variable.Class */\n",
              "body .vg { color: #19177C } /* Name.Variable.Global */\n",
              "body .vi { color: #19177C } /* Name.Variable.Instance */\n",
              "body .vm { color: #19177C } /* Name.Variable.Magic */\n",
              "body .il { color: #666666 } /* Literal.Number.Integer.Long */\n",
              "\n",
              "  </style>\n",
              "</head>\n",
              "<body>\n",
              "<h2></h2>\n",
              "\n",
              "<div class=\"highlight\"><pre><span></span><span class=\"k\">def</span> <span class=\"nf\">MapColoringCSP</span><span class=\"p\">(</span><span class=\"n\">colors</span><span class=\"p\">,</span> <span class=\"n\">neighbors</span><span class=\"p\">):</span>\n",
              "<span class=\"w\">    </span><span class=\"sd\">&quot;&quot;&quot;Make a CSP for the problem of coloring a map with different colors</span>\n",
              "<span class=\"sd\">    for any two adjacent regions. Arguments are a list of colors, and a</span>\n",
              "<span class=\"sd\">    dict of {region: [neighbor,...]} entries. This dict may also be</span>\n",
              "<span class=\"sd\">    specified as a string of the form defined by parse_neighbors.&quot;&quot;&quot;</span>\n",
              "    <span class=\"k\">if</span> <span class=\"nb\">isinstance</span><span class=\"p\">(</span><span class=\"n\">neighbors</span><span class=\"p\">,</span> <span class=\"nb\">str</span><span class=\"p\">):</span>\n",
              "        <span class=\"n\">neighbors</span> <span class=\"o\">=</span> <span class=\"n\">parse_neighbors</span><span class=\"p\">(</span><span class=\"n\">neighbors</span><span class=\"p\">)</span>\n",
              "    <span class=\"k\">return</span> <span class=\"n\">CSP</span><span class=\"p\">(</span><span class=\"nb\">list</span><span class=\"p\">(</span><span class=\"n\">neighbors</span><span class=\"o\">.</span><span class=\"n\">keys</span><span class=\"p\">()),</span> <span class=\"n\">UniversalDict</span><span class=\"p\">(</span><span class=\"n\">colors</span><span class=\"p\">),</span> <span class=\"n\">neighbors</span><span class=\"p\">,</span> <span class=\"n\">different_values_constraint</span><span class=\"p\">)</span>\n",
              "</pre></div>\n",
              "</body>\n",
              "</html>\n"
            ]
          },
          "metadata": {}
        }
      ],
      "source": [
        "psource(MapColoringCSP)"
      ]
    },
    {
      "cell_type": "code",
      "execution_count": 174,
      "metadata": {
        "colab": {
          "base_uri": "https://localhost:8080/"
        },
        "id": "nqe0pm7yIXaJ",
        "outputId": "1a7b757e-0507-4f6d-d7e2-c9762943c1fb"
      },
      "outputs": [
        {
          "output_type": "execute_result",
          "data": {
            "text/plain": [
              "(<csp.CSP at 0x7d64441a6110>,\n",
              " <csp.CSP at 0x7d64441a6080>,\n",
              " <csp.CSP at 0x7d64441a5ff0>)"
            ]
          },
          "metadata": {},
          "execution_count": 174
        }
      ],
      "source": [
        "australia_csp, usa_csp, france_csp"
      ]
    },
    {
      "cell_type": "markdown",
      "metadata": {
        "id": "cHZurBpEIXaJ"
      },
      "source": [
        "## N-QUEENS\n",
        "\n",
        "The N-queens puzzle is the problem of placing N chess queens on an N×N chessboard in a way such that no two queens threaten each other. Here N is a natural number. Like the graph coloring problem, NQueens is also implemented in the csp module. The **NQueensCSP** class inherits from the **CSP** class. It makes some modifications in the methods to suit this particular problem. The queens are assumed to be placed one per column, from left to right. That means position (x, y) represents (var, val) in the CSP. The constraint that needs to be passed to the CSP is defined in the **queen_constraint** function. The constraint is satisfied (true) if A, B are really the same variable, or if they are not in the same row, down diagonal, or up diagonal."
      ]
    },
    {
      "cell_type": "code",
      "execution_count": 175,
      "metadata": {
        "colab": {
          "base_uri": "https://localhost:8080/",
          "height": 104
        },
        "id": "6SoL5lr0IXaJ",
        "outputId": "ed712e55-ee66-4fbe-a088-91123cd8d7ce"
      },
      "outputs": [
        {
          "output_type": "display_data",
          "data": {
            "text/plain": [
              "<IPython.core.display.HTML object>"
            ],
            "text/html": [
              "<!DOCTYPE html PUBLIC \"-//W3C//DTD HTML 4.01//EN\"\n",
              "   \"http://www.w3.org/TR/html4/strict.dtd\">\n",
              "<!--\n",
              "generated by Pygments <https://pygments.org/>\n",
              "Copyright 2006-2023 by the Pygments team.\n",
              "Licensed under the BSD license, see LICENSE for details.\n",
              "-->\n",
              "<html>\n",
              "<head>\n",
              "  <title></title>\n",
              "  <meta http-equiv=\"content-type\" content=\"text/html; charset=None\">\n",
              "  <style type=\"text/css\">\n",
              "/*\n",
              "generated by Pygments <https://pygments.org/>\n",
              "Copyright 2006-2023 by the Pygments team.\n",
              "Licensed under the BSD license, see LICENSE for details.\n",
              "*/\n",
              "pre { line-height: 125%; }\n",
              "td.linenos .normal { color: inherit; background-color: transparent; padding-left: 5px; padding-right: 5px; }\n",
              "span.linenos { color: inherit; background-color: transparent; padding-left: 5px; padding-right: 5px; }\n",
              "td.linenos .special { color: #000000; background-color: #ffffc0; padding-left: 5px; padding-right: 5px; }\n",
              "span.linenos.special { color: #000000; background-color: #ffffc0; padding-left: 5px; padding-right: 5px; }\n",
              "body .hll { background-color: #ffffcc }\n",
              "body { background: #f8f8f8; }\n",
              "body .c { color: #3D7B7B; font-style: italic } /* Comment */\n",
              "body .err { border: 1px solid #FF0000 } /* Error */\n",
              "body .k { color: #008000; font-weight: bold } /* Keyword */\n",
              "body .o { color: #666666 } /* Operator */\n",
              "body .ch { color: #3D7B7B; font-style: italic } /* Comment.Hashbang */\n",
              "body .cm { color: #3D7B7B; font-style: italic } /* Comment.Multiline */\n",
              "body .cp { color: #9C6500 } /* Comment.Preproc */\n",
              "body .cpf { color: #3D7B7B; font-style: italic } /* Comment.PreprocFile */\n",
              "body .c1 { color: #3D7B7B; font-style: italic } /* Comment.Single */\n",
              "body .cs { color: #3D7B7B; font-style: italic } /* Comment.Special */\n",
              "body .gd { color: #A00000 } /* Generic.Deleted */\n",
              "body .ge { font-style: italic } /* Generic.Emph */\n",
              "body .ges { font-weight: bold; font-style: italic } /* Generic.EmphStrong */\n",
              "body .gr { color: #E40000 } /* Generic.Error */\n",
              "body .gh { color: #000080; font-weight: bold } /* Generic.Heading */\n",
              "body .gi { color: #008400 } /* Generic.Inserted */\n",
              "body .go { color: #717171 } /* Generic.Output */\n",
              "body .gp { color: #000080; font-weight: bold } /* Generic.Prompt */\n",
              "body .gs { font-weight: bold } /* Generic.Strong */\n",
              "body .gu { color: #800080; font-weight: bold } /* Generic.Subheading */\n",
              "body .gt { color: #0044DD } /* Generic.Traceback */\n",
              "body .kc { color: #008000; font-weight: bold } /* Keyword.Constant */\n",
              "body .kd { color: #008000; font-weight: bold } /* Keyword.Declaration */\n",
              "body .kn { color: #008000; font-weight: bold } /* Keyword.Namespace */\n",
              "body .kp { color: #008000 } /* Keyword.Pseudo */\n",
              "body .kr { color: #008000; font-weight: bold } /* Keyword.Reserved */\n",
              "body .kt { color: #B00040 } /* Keyword.Type */\n",
              "body .m { color: #666666 } /* Literal.Number */\n",
              "body .s { color: #BA2121 } /* Literal.String */\n",
              "body .na { color: #687822 } /* Name.Attribute */\n",
              "body .nb { color: #008000 } /* Name.Builtin */\n",
              "body .nc { color: #0000FF; font-weight: bold } /* Name.Class */\n",
              "body .no { color: #880000 } /* Name.Constant */\n",
              "body .nd { color: #AA22FF } /* Name.Decorator */\n",
              "body .ni { color: #717171; font-weight: bold } /* Name.Entity */\n",
              "body .ne { color: #CB3F38; font-weight: bold } /* Name.Exception */\n",
              "body .nf { color: #0000FF } /* Name.Function */\n",
              "body .nl { color: #767600 } /* Name.Label */\n",
              "body .nn { color: #0000FF; font-weight: bold } /* Name.Namespace */\n",
              "body .nt { color: #008000; font-weight: bold } /* Name.Tag */\n",
              "body .nv { color: #19177C } /* Name.Variable */\n",
              "body .ow { color: #AA22FF; font-weight: bold } /* Operator.Word */\n",
              "body .w { color: #bbbbbb } /* Text.Whitespace */\n",
              "body .mb { color: #666666 } /* Literal.Number.Bin */\n",
              "body .mf { color: #666666 } /* Literal.Number.Float */\n",
              "body .mh { color: #666666 } /* Literal.Number.Hex */\n",
              "body .mi { color: #666666 } /* Literal.Number.Integer */\n",
              "body .mo { color: #666666 } /* Literal.Number.Oct */\n",
              "body .sa { color: #BA2121 } /* Literal.String.Affix */\n",
              "body .sb { color: #BA2121 } /* Literal.String.Backtick */\n",
              "body .sc { color: #BA2121 } /* Literal.String.Char */\n",
              "body .dl { color: #BA2121 } /* Literal.String.Delimiter */\n",
              "body .sd { color: #BA2121; font-style: italic } /* Literal.String.Doc */\n",
              "body .s2 { color: #BA2121 } /* Literal.String.Double */\n",
              "body .se { color: #AA5D1F; font-weight: bold } /* Literal.String.Escape */\n",
              "body .sh { color: #BA2121 } /* Literal.String.Heredoc */\n",
              "body .si { color: #A45A77; font-weight: bold } /* Literal.String.Interpol */\n",
              "body .sx { color: #008000 } /* Literal.String.Other */\n",
              "body .sr { color: #A45A77 } /* Literal.String.Regex */\n",
              "body .s1 { color: #BA2121 } /* Literal.String.Single */\n",
              "body .ss { color: #19177C } /* Literal.String.Symbol */\n",
              "body .bp { color: #008000 } /* Name.Builtin.Pseudo */\n",
              "body .fm { color: #0000FF } /* Name.Function.Magic */\n",
              "body .vc { color: #19177C } /* Name.Variable.Class */\n",
              "body .vg { color: #19177C } /* Name.Variable.Global */\n",
              "body .vi { color: #19177C } /* Name.Variable.Instance */\n",
              "body .vm { color: #19177C } /* Name.Variable.Magic */\n",
              "body .il { color: #666666 } /* Literal.Number.Integer.Long */\n",
              "\n",
              "  </style>\n",
              "</head>\n",
              "<body>\n",
              "<h2></h2>\n",
              "\n",
              "<div class=\"highlight\"><pre><span></span><span class=\"k\">def</span> <span class=\"nf\">queen_constraint</span><span class=\"p\">(</span><span class=\"n\">A</span><span class=\"p\">,</span> <span class=\"n\">a</span><span class=\"p\">,</span> <span class=\"n\">B</span><span class=\"p\">,</span> <span class=\"n\">b</span><span class=\"p\">):</span>\n",
              "<span class=\"w\">    </span><span class=\"sd\">&quot;&quot;&quot;Constraint is satisfied (true) if A, B are really the same variable,</span>\n",
              "<span class=\"sd\">    or if they are not in the same row, down diagonal, or up diagonal.&quot;&quot;&quot;</span>\n",
              "    <span class=\"k\">return</span> <span class=\"n\">A</span> <span class=\"o\">==</span> <span class=\"n\">B</span> <span class=\"ow\">or</span> <span class=\"p\">(</span><span class=\"n\">a</span> <span class=\"o\">!=</span> <span class=\"n\">b</span> <span class=\"ow\">and</span> <span class=\"n\">A</span> <span class=\"o\">+</span> <span class=\"n\">a</span> <span class=\"o\">!=</span> <span class=\"n\">B</span> <span class=\"o\">+</span> <span class=\"n\">b</span> <span class=\"ow\">and</span> <span class=\"n\">A</span> <span class=\"o\">-</span> <span class=\"n\">a</span> <span class=\"o\">!=</span> <span class=\"n\">B</span> <span class=\"o\">-</span> <span class=\"n\">b</span><span class=\"p\">)</span>\n",
              "</pre></div>\n",
              "</body>\n",
              "</html>\n"
            ]
          },
          "metadata": {}
        }
      ],
      "source": [
        "psource(queen_constraint)"
      ]
    },
    {
      "cell_type": "markdown",
      "metadata": {
        "id": "QQpTqGhbIXaJ"
      },
      "source": [
        "The **NQueensCSP** method implements methods that support solving the problem via **min_conflicts** which is one of the many popular techniques for solving CSPs. Because **min_conflicts** hill climbs the number of conflicts to solve, the CSP **assign** and **unassign** are modified to record conflicts. More details about the structures: **rows**, **downs**, **ups** which help in recording conflicts are explained in the docstring."
      ]
    },
    {
      "cell_type": "code",
      "execution_count": 176,
      "metadata": {
        "colab": {
          "base_uri": "https://localhost:8080/",
          "height": 1000
        },
        "id": "SX5OEDFVIXaJ",
        "outputId": "15461971-f8be-4c0a-d900-abed81b5451c"
      },
      "outputs": [
        {
          "output_type": "display_data",
          "data": {
            "text/plain": [
              "<IPython.core.display.HTML object>"
            ],
            "text/html": [
              "<!DOCTYPE html PUBLIC \"-//W3C//DTD HTML 4.01//EN\"\n",
              "   \"http://www.w3.org/TR/html4/strict.dtd\">\n",
              "<!--\n",
              "generated by Pygments <https://pygments.org/>\n",
              "Copyright 2006-2023 by the Pygments team.\n",
              "Licensed under the BSD license, see LICENSE for details.\n",
              "-->\n",
              "<html>\n",
              "<head>\n",
              "  <title></title>\n",
              "  <meta http-equiv=\"content-type\" content=\"text/html; charset=None\">\n",
              "  <style type=\"text/css\">\n",
              "/*\n",
              "generated by Pygments <https://pygments.org/>\n",
              "Copyright 2006-2023 by the Pygments team.\n",
              "Licensed under the BSD license, see LICENSE for details.\n",
              "*/\n",
              "pre { line-height: 125%; }\n",
              "td.linenos .normal { color: inherit; background-color: transparent; padding-left: 5px; padding-right: 5px; }\n",
              "span.linenos { color: inherit; background-color: transparent; padding-left: 5px; padding-right: 5px; }\n",
              "td.linenos .special { color: #000000; background-color: #ffffc0; padding-left: 5px; padding-right: 5px; }\n",
              "span.linenos.special { color: #000000; background-color: #ffffc0; padding-left: 5px; padding-right: 5px; }\n",
              "body .hll { background-color: #ffffcc }\n",
              "body { background: #f8f8f8; }\n",
              "body .c { color: #3D7B7B; font-style: italic } /* Comment */\n",
              "body .err { border: 1px solid #FF0000 } /* Error */\n",
              "body .k { color: #008000; font-weight: bold } /* Keyword */\n",
              "body .o { color: #666666 } /* Operator */\n",
              "body .ch { color: #3D7B7B; font-style: italic } /* Comment.Hashbang */\n",
              "body .cm { color: #3D7B7B; font-style: italic } /* Comment.Multiline */\n",
              "body .cp { color: #9C6500 } /* Comment.Preproc */\n",
              "body .cpf { color: #3D7B7B; font-style: italic } /* Comment.PreprocFile */\n",
              "body .c1 { color: #3D7B7B; font-style: italic } /* Comment.Single */\n",
              "body .cs { color: #3D7B7B; font-style: italic } /* Comment.Special */\n",
              "body .gd { color: #A00000 } /* Generic.Deleted */\n",
              "body .ge { font-style: italic } /* Generic.Emph */\n",
              "body .ges { font-weight: bold; font-style: italic } /* Generic.EmphStrong */\n",
              "body .gr { color: #E40000 } /* Generic.Error */\n",
              "body .gh { color: #000080; font-weight: bold } /* Generic.Heading */\n",
              "body .gi { color: #008400 } /* Generic.Inserted */\n",
              "body .go { color: #717171 } /* Generic.Output */\n",
              "body .gp { color: #000080; font-weight: bold } /* Generic.Prompt */\n",
              "body .gs { font-weight: bold } /* Generic.Strong */\n",
              "body .gu { color: #800080; font-weight: bold } /* Generic.Subheading */\n",
              "body .gt { color: #0044DD } /* Generic.Traceback */\n",
              "body .kc { color: #008000; font-weight: bold } /* Keyword.Constant */\n",
              "body .kd { color: #008000; font-weight: bold } /* Keyword.Declaration */\n",
              "body .kn { color: #008000; font-weight: bold } /* Keyword.Namespace */\n",
              "body .kp { color: #008000 } /* Keyword.Pseudo */\n",
              "body .kr { color: #008000; font-weight: bold } /* Keyword.Reserved */\n",
              "body .kt { color: #B00040 } /* Keyword.Type */\n",
              "body .m { color: #666666 } /* Literal.Number */\n",
              "body .s { color: #BA2121 } /* Literal.String */\n",
              "body .na { color: #687822 } /* Name.Attribute */\n",
              "body .nb { color: #008000 } /* Name.Builtin */\n",
              "body .nc { color: #0000FF; font-weight: bold } /* Name.Class */\n",
              "body .no { color: #880000 } /* Name.Constant */\n",
              "body .nd { color: #AA22FF } /* Name.Decorator */\n",
              "body .ni { color: #717171; font-weight: bold } /* Name.Entity */\n",
              "body .ne { color: #CB3F38; font-weight: bold } /* Name.Exception */\n",
              "body .nf { color: #0000FF } /* Name.Function */\n",
              "body .nl { color: #767600 } /* Name.Label */\n",
              "body .nn { color: #0000FF; font-weight: bold } /* Name.Namespace */\n",
              "body .nt { color: #008000; font-weight: bold } /* Name.Tag */\n",
              "body .nv { color: #19177C } /* Name.Variable */\n",
              "body .ow { color: #AA22FF; font-weight: bold } /* Operator.Word */\n",
              "body .w { color: #bbbbbb } /* Text.Whitespace */\n",
              "body .mb { color: #666666 } /* Literal.Number.Bin */\n",
              "body .mf { color: #666666 } /* Literal.Number.Float */\n",
              "body .mh { color: #666666 } /* Literal.Number.Hex */\n",
              "body .mi { color: #666666 } /* Literal.Number.Integer */\n",
              "body .mo { color: #666666 } /* Literal.Number.Oct */\n",
              "body .sa { color: #BA2121 } /* Literal.String.Affix */\n",
              "body .sb { color: #BA2121 } /* Literal.String.Backtick */\n",
              "body .sc { color: #BA2121 } /* Literal.String.Char */\n",
              "body .dl { color: #BA2121 } /* Literal.String.Delimiter */\n",
              "body .sd { color: #BA2121; font-style: italic } /* Literal.String.Doc */\n",
              "body .s2 { color: #BA2121 } /* Literal.String.Double */\n",
              "body .se { color: #AA5D1F; font-weight: bold } /* Literal.String.Escape */\n",
              "body .sh { color: #BA2121 } /* Literal.String.Heredoc */\n",
              "body .si { color: #A45A77; font-weight: bold } /* Literal.String.Interpol */\n",
              "body .sx { color: #008000 } /* Literal.String.Other */\n",
              "body .sr { color: #A45A77 } /* Literal.String.Regex */\n",
              "body .s1 { color: #BA2121 } /* Literal.String.Single */\n",
              "body .ss { color: #19177C } /* Literal.String.Symbol */\n",
              "body .bp { color: #008000 } /* Name.Builtin.Pseudo */\n",
              "body .fm { color: #0000FF } /* Name.Function.Magic */\n",
              "body .vc { color: #19177C } /* Name.Variable.Class */\n",
              "body .vg { color: #19177C } /* Name.Variable.Global */\n",
              "body .vi { color: #19177C } /* Name.Variable.Instance */\n",
              "body .vm { color: #19177C } /* Name.Variable.Magic */\n",
              "body .il { color: #666666 } /* Literal.Number.Integer.Long */\n",
              "\n",
              "  </style>\n",
              "</head>\n",
              "<body>\n",
              "<h2></h2>\n",
              "\n",
              "<div class=\"highlight\"><pre><span></span><span class=\"k\">class</span> <span class=\"nc\">NQueensCSP</span><span class=\"p\">(</span><span class=\"n\">CSP</span><span class=\"p\">):</span>\n",
              "<span class=\"w\">    </span><span class=\"sd\">&quot;&quot;&quot;</span>\n",
              "<span class=\"sd\">    Make a CSP for the nQueens problem for search with min_conflicts.</span>\n",
              "<span class=\"sd\">    Suitable for large n, it uses only data structures of size O(n).</span>\n",
              "<span class=\"sd\">    Think of placing queens one per column, from left to right.</span>\n",
              "<span class=\"sd\">    That means position (x, y) represents (var, val) in the CSP.</span>\n",
              "<span class=\"sd\">    The main structures are three arrays to count queens that could conflict:</span>\n",
              "<span class=\"sd\">        rows[i]      Number of queens in the ith row (i.e. val == i)</span>\n",
              "<span class=\"sd\">        downs[i]     Number of queens in the \\ diagonal</span>\n",
              "<span class=\"sd\">                     such that their (x, y) coordinates sum to i</span>\n",
              "<span class=\"sd\">        ups[i]       Number of queens in the / diagonal</span>\n",
              "<span class=\"sd\">                     such that their (x, y) coordinates have x-y+n-1 = i</span>\n",
              "<span class=\"sd\">    We increment/decrement these counts each time a queen is placed/moved from</span>\n",
              "<span class=\"sd\">    a row/diagonal. So moving is O(1), as is nconflicts.  But choosing</span>\n",
              "<span class=\"sd\">    a variable, and a best value for the variable, are each O(n).</span>\n",
              "<span class=\"sd\">    If you want, you can keep track of conflicted variables, then variable</span>\n",
              "<span class=\"sd\">    selection will also be O(1).</span>\n",
              "<span class=\"sd\">    &gt;&gt;&gt; len(backtracking_search(NQueensCSP(8)))</span>\n",
              "<span class=\"sd\">    8</span>\n",
              "<span class=\"sd\">    &quot;&quot;&quot;</span>\n",
              "\n",
              "    <span class=\"k\">def</span> <span class=\"fm\">__init__</span><span class=\"p\">(</span><span class=\"bp\">self</span><span class=\"p\">,</span> <span class=\"n\">n</span><span class=\"p\">):</span>\n",
              "<span class=\"w\">        </span><span class=\"sd\">&quot;&quot;&quot;Initialize data structures for n Queens.&quot;&quot;&quot;</span>\n",
              "        <span class=\"n\">CSP</span><span class=\"o\">.</span><span class=\"fm\">__init__</span><span class=\"p\">(</span><span class=\"bp\">self</span><span class=\"p\">,</span> <span class=\"nb\">list</span><span class=\"p\">(</span><span class=\"nb\">range</span><span class=\"p\">(</span><span class=\"n\">n</span><span class=\"p\">)),</span> <span class=\"n\">UniversalDict</span><span class=\"p\">(</span><span class=\"nb\">list</span><span class=\"p\">(</span><span class=\"nb\">range</span><span class=\"p\">(</span><span class=\"n\">n</span><span class=\"p\">))),</span>\n",
              "                     <span class=\"n\">UniversalDict</span><span class=\"p\">(</span><span class=\"nb\">list</span><span class=\"p\">(</span><span class=\"nb\">range</span><span class=\"p\">(</span><span class=\"n\">n</span><span class=\"p\">))),</span> <span class=\"n\">queen_constraint</span><span class=\"p\">)</span>\n",
              "\n",
              "        <span class=\"bp\">self</span><span class=\"o\">.</span><span class=\"n\">rows</span> <span class=\"o\">=</span> <span class=\"p\">[</span><span class=\"mi\">0</span><span class=\"p\">]</span> <span class=\"o\">*</span> <span class=\"n\">n</span>\n",
              "        <span class=\"bp\">self</span><span class=\"o\">.</span><span class=\"n\">ups</span> <span class=\"o\">=</span> <span class=\"p\">[</span><span class=\"mi\">0</span><span class=\"p\">]</span> <span class=\"o\">*</span> <span class=\"p\">(</span><span class=\"mi\">2</span> <span class=\"o\">*</span> <span class=\"n\">n</span> <span class=\"o\">-</span> <span class=\"mi\">1</span><span class=\"p\">)</span>\n",
              "        <span class=\"bp\">self</span><span class=\"o\">.</span><span class=\"n\">downs</span> <span class=\"o\">=</span> <span class=\"p\">[</span><span class=\"mi\">0</span><span class=\"p\">]</span> <span class=\"o\">*</span> <span class=\"p\">(</span><span class=\"mi\">2</span> <span class=\"o\">*</span> <span class=\"n\">n</span> <span class=\"o\">-</span> <span class=\"mi\">1</span><span class=\"p\">)</span>\n",
              "\n",
              "    <span class=\"k\">def</span> <span class=\"nf\">nconflicts</span><span class=\"p\">(</span><span class=\"bp\">self</span><span class=\"p\">,</span> <span class=\"n\">var</span><span class=\"p\">,</span> <span class=\"n\">val</span><span class=\"p\">,</span> <span class=\"n\">assignment</span><span class=\"p\">):</span>\n",
              "<span class=\"w\">        </span><span class=\"sd\">&quot;&quot;&quot;The number of conflicts, as recorded with each assignment.</span>\n",
              "<span class=\"sd\">        Count conflicts in row and in up, down diagonals. If there</span>\n",
              "<span class=\"sd\">        is a queen there, it can&#39;t conflict with itself, so subtract 3.&quot;&quot;&quot;</span>\n",
              "        <span class=\"n\">n</span> <span class=\"o\">=</span> <span class=\"nb\">len</span><span class=\"p\">(</span><span class=\"bp\">self</span><span class=\"o\">.</span><span class=\"n\">variables</span><span class=\"p\">)</span>\n",
              "        <span class=\"n\">c</span> <span class=\"o\">=</span> <span class=\"bp\">self</span><span class=\"o\">.</span><span class=\"n\">rows</span><span class=\"p\">[</span><span class=\"n\">val</span><span class=\"p\">]</span> <span class=\"o\">+</span> <span class=\"bp\">self</span><span class=\"o\">.</span><span class=\"n\">downs</span><span class=\"p\">[</span><span class=\"n\">var</span> <span class=\"o\">+</span> <span class=\"n\">val</span><span class=\"p\">]</span> <span class=\"o\">+</span> <span class=\"bp\">self</span><span class=\"o\">.</span><span class=\"n\">ups</span><span class=\"p\">[</span><span class=\"n\">var</span> <span class=\"o\">-</span> <span class=\"n\">val</span> <span class=\"o\">+</span> <span class=\"n\">n</span> <span class=\"o\">-</span> <span class=\"mi\">1</span><span class=\"p\">]</span>\n",
              "        <span class=\"k\">if</span> <span class=\"n\">assignment</span><span class=\"o\">.</span><span class=\"n\">get</span><span class=\"p\">(</span><span class=\"n\">var</span><span class=\"p\">,</span> <span class=\"kc\">None</span><span class=\"p\">)</span> <span class=\"o\">==</span> <span class=\"n\">val</span><span class=\"p\">:</span>\n",
              "            <span class=\"n\">c</span> <span class=\"o\">-=</span> <span class=\"mi\">3</span>\n",
              "        <span class=\"k\">return</span> <span class=\"n\">c</span>\n",
              "\n",
              "    <span class=\"k\">def</span> <span class=\"nf\">assign</span><span class=\"p\">(</span><span class=\"bp\">self</span><span class=\"p\">,</span> <span class=\"n\">var</span><span class=\"p\">,</span> <span class=\"n\">val</span><span class=\"p\">,</span> <span class=\"n\">assignment</span><span class=\"p\">):</span>\n",
              "<span class=\"w\">        </span><span class=\"sd\">&quot;&quot;&quot;Assign var, and keep track of conflicts.&quot;&quot;&quot;</span>\n",
              "        <span class=\"n\">old_val</span> <span class=\"o\">=</span> <span class=\"n\">assignment</span><span class=\"o\">.</span><span class=\"n\">get</span><span class=\"p\">(</span><span class=\"n\">var</span><span class=\"p\">,</span> <span class=\"kc\">None</span><span class=\"p\">)</span>\n",
              "        <span class=\"k\">if</span> <span class=\"n\">val</span> <span class=\"o\">!=</span> <span class=\"n\">old_val</span><span class=\"p\">:</span>\n",
              "            <span class=\"k\">if</span> <span class=\"n\">old_val</span> <span class=\"ow\">is</span> <span class=\"ow\">not</span> <span class=\"kc\">None</span><span class=\"p\">:</span>  <span class=\"c1\"># Remove old val if there was one</span>\n",
              "                <span class=\"bp\">self</span><span class=\"o\">.</span><span class=\"n\">record_conflict</span><span class=\"p\">(</span><span class=\"n\">assignment</span><span class=\"p\">,</span> <span class=\"n\">var</span><span class=\"p\">,</span> <span class=\"n\">old_val</span><span class=\"p\">,</span> <span class=\"o\">-</span><span class=\"mi\">1</span><span class=\"p\">)</span>\n",
              "            <span class=\"bp\">self</span><span class=\"o\">.</span><span class=\"n\">record_conflict</span><span class=\"p\">(</span><span class=\"n\">assignment</span><span class=\"p\">,</span> <span class=\"n\">var</span><span class=\"p\">,</span> <span class=\"n\">val</span><span class=\"p\">,</span> <span class=\"o\">+</span><span class=\"mi\">1</span><span class=\"p\">)</span>\n",
              "            <span class=\"n\">CSP</span><span class=\"o\">.</span><span class=\"n\">assign</span><span class=\"p\">(</span><span class=\"bp\">self</span><span class=\"p\">,</span> <span class=\"n\">var</span><span class=\"p\">,</span> <span class=\"n\">val</span><span class=\"p\">,</span> <span class=\"n\">assignment</span><span class=\"p\">)</span>\n",
              "\n",
              "    <span class=\"k\">def</span> <span class=\"nf\">unassign</span><span class=\"p\">(</span><span class=\"bp\">self</span><span class=\"p\">,</span> <span class=\"n\">var</span><span class=\"p\">,</span> <span class=\"n\">assignment</span><span class=\"p\">):</span>\n",
              "<span class=\"w\">        </span><span class=\"sd\">&quot;&quot;&quot;Remove var from assignment (if it is there) and track conflicts.&quot;&quot;&quot;</span>\n",
              "        <span class=\"k\">if</span> <span class=\"n\">var</span> <span class=\"ow\">in</span> <span class=\"n\">assignment</span><span class=\"p\">:</span>\n",
              "            <span class=\"bp\">self</span><span class=\"o\">.</span><span class=\"n\">record_conflict</span><span class=\"p\">(</span><span class=\"n\">assignment</span><span class=\"p\">,</span> <span class=\"n\">var</span><span class=\"p\">,</span> <span class=\"n\">assignment</span><span class=\"p\">[</span><span class=\"n\">var</span><span class=\"p\">],</span> <span class=\"o\">-</span><span class=\"mi\">1</span><span class=\"p\">)</span>\n",
              "        <span class=\"n\">CSP</span><span class=\"o\">.</span><span class=\"n\">unassign</span><span class=\"p\">(</span><span class=\"bp\">self</span><span class=\"p\">,</span> <span class=\"n\">var</span><span class=\"p\">,</span> <span class=\"n\">assignment</span><span class=\"p\">)</span>\n",
              "\n",
              "    <span class=\"k\">def</span> <span class=\"nf\">record_conflict</span><span class=\"p\">(</span><span class=\"bp\">self</span><span class=\"p\">,</span> <span class=\"n\">assignment</span><span class=\"p\">,</span> <span class=\"n\">var</span><span class=\"p\">,</span> <span class=\"n\">val</span><span class=\"p\">,</span> <span class=\"n\">delta</span><span class=\"p\">):</span>\n",
              "<span class=\"w\">        </span><span class=\"sd\">&quot;&quot;&quot;Record conflicts caused by addition or deletion of a Queen.&quot;&quot;&quot;</span>\n",
              "        <span class=\"n\">n</span> <span class=\"o\">=</span> <span class=\"nb\">len</span><span class=\"p\">(</span><span class=\"bp\">self</span><span class=\"o\">.</span><span class=\"n\">variables</span><span class=\"p\">)</span>\n",
              "        <span class=\"bp\">self</span><span class=\"o\">.</span><span class=\"n\">rows</span><span class=\"p\">[</span><span class=\"n\">val</span><span class=\"p\">]</span> <span class=\"o\">+=</span> <span class=\"n\">delta</span>\n",
              "        <span class=\"bp\">self</span><span class=\"o\">.</span><span class=\"n\">downs</span><span class=\"p\">[</span><span class=\"n\">var</span> <span class=\"o\">+</span> <span class=\"n\">val</span><span class=\"p\">]</span> <span class=\"o\">+=</span> <span class=\"n\">delta</span>\n",
              "        <span class=\"bp\">self</span><span class=\"o\">.</span><span class=\"n\">ups</span><span class=\"p\">[</span><span class=\"n\">var</span> <span class=\"o\">-</span> <span class=\"n\">val</span> <span class=\"o\">+</span> <span class=\"n\">n</span> <span class=\"o\">-</span> <span class=\"mi\">1</span><span class=\"p\">]</span> <span class=\"o\">+=</span> <span class=\"n\">delta</span>\n",
              "\n",
              "    <span class=\"k\">def</span> <span class=\"nf\">display</span><span class=\"p\">(</span><span class=\"bp\">self</span><span class=\"p\">,</span> <span class=\"n\">assignment</span><span class=\"p\">):</span>\n",
              "<span class=\"w\">        </span><span class=\"sd\">&quot;&quot;&quot;Print the queens and the nconflicts values (for debugging).&quot;&quot;&quot;</span>\n",
              "        <span class=\"n\">n</span> <span class=\"o\">=</span> <span class=\"nb\">len</span><span class=\"p\">(</span><span class=\"bp\">self</span><span class=\"o\">.</span><span class=\"n\">variables</span><span class=\"p\">)</span>\n",
              "        <span class=\"k\">for</span> <span class=\"n\">val</span> <span class=\"ow\">in</span> <span class=\"nb\">range</span><span class=\"p\">(</span><span class=\"n\">n</span><span class=\"p\">):</span>\n",
              "            <span class=\"k\">for</span> <span class=\"n\">var</span> <span class=\"ow\">in</span> <span class=\"nb\">range</span><span class=\"p\">(</span><span class=\"n\">n</span><span class=\"p\">):</span>\n",
              "                <span class=\"k\">if</span> <span class=\"n\">assignment</span><span class=\"o\">.</span><span class=\"n\">get</span><span class=\"p\">(</span><span class=\"n\">var</span><span class=\"p\">,</span> <span class=\"s1\">&#39;&#39;</span><span class=\"p\">)</span> <span class=\"o\">==</span> <span class=\"n\">val</span><span class=\"p\">:</span>\n",
              "                    <span class=\"n\">ch</span> <span class=\"o\">=</span> <span class=\"s1\">&#39;Q&#39;</span>\n",
              "                <span class=\"k\">elif</span> <span class=\"p\">(</span><span class=\"n\">var</span> <span class=\"o\">+</span> <span class=\"n\">val</span><span class=\"p\">)</span> <span class=\"o\">%</span> <span class=\"mi\">2</span> <span class=\"o\">==</span> <span class=\"mi\">0</span><span class=\"p\">:</span>\n",
              "                    <span class=\"n\">ch</span> <span class=\"o\">=</span> <span class=\"s1\">&#39;.&#39;</span>\n",
              "                <span class=\"k\">else</span><span class=\"p\">:</span>\n",
              "                    <span class=\"n\">ch</span> <span class=\"o\">=</span> <span class=\"s1\">&#39;-&#39;</span>\n",
              "                <span class=\"nb\">print</span><span class=\"p\">(</span><span class=\"n\">ch</span><span class=\"p\">,</span> <span class=\"n\">end</span><span class=\"o\">=</span><span class=\"s1\">&#39; &#39;</span><span class=\"p\">)</span>\n",
              "            <span class=\"nb\">print</span><span class=\"p\">(</span><span class=\"s1\">&#39;    &#39;</span><span class=\"p\">,</span> <span class=\"n\">end</span><span class=\"o\">=</span><span class=\"s1\">&#39; &#39;</span><span class=\"p\">)</span>\n",
              "            <span class=\"k\">for</span> <span class=\"n\">var</span> <span class=\"ow\">in</span> <span class=\"nb\">range</span><span class=\"p\">(</span><span class=\"n\">n</span><span class=\"p\">):</span>\n",
              "                <span class=\"k\">if</span> <span class=\"n\">assignment</span><span class=\"o\">.</span><span class=\"n\">get</span><span class=\"p\">(</span><span class=\"n\">var</span><span class=\"p\">,</span> <span class=\"s1\">&#39;&#39;</span><span class=\"p\">)</span> <span class=\"o\">==</span> <span class=\"n\">val</span><span class=\"p\">:</span>\n",
              "                    <span class=\"n\">ch</span> <span class=\"o\">=</span> <span class=\"s1\">&#39;*&#39;</span>\n",
              "                <span class=\"k\">else</span><span class=\"p\">:</span>\n",
              "                    <span class=\"n\">ch</span> <span class=\"o\">=</span> <span class=\"s1\">&#39; &#39;</span>\n",
              "                <span class=\"nb\">print</span><span class=\"p\">(</span><span class=\"nb\">str</span><span class=\"p\">(</span><span class=\"bp\">self</span><span class=\"o\">.</span><span class=\"n\">nconflicts</span><span class=\"p\">(</span><span class=\"n\">var</span><span class=\"p\">,</span> <span class=\"n\">val</span><span class=\"p\">,</span> <span class=\"n\">assignment</span><span class=\"p\">))</span> <span class=\"o\">+</span> <span class=\"n\">ch</span><span class=\"p\">,</span> <span class=\"n\">end</span><span class=\"o\">=</span><span class=\"s1\">&#39; &#39;</span><span class=\"p\">)</span>\n",
              "            <span class=\"nb\">print</span><span class=\"p\">()</span>\n",
              "</pre></div>\n",
              "</body>\n",
              "</html>\n"
            ]
          },
          "metadata": {}
        }
      ],
      "source": [
        "psource(NQueensCSP)"
      ]
    },
    {
      "cell_type": "markdown",
      "metadata": {
        "id": "TulpD4VyIXaJ"
      },
      "source": [
        "The _ ___init___ _ method takes only one parameter **n** i.e. the size of the problem. To create an instance, we just pass the required value of n into the constructor."
      ]
    },
    {
      "cell_type": "code",
      "execution_count": 177,
      "metadata": {
        "id": "5dkq5UO-IXaK"
      },
      "outputs": [],
      "source": [
        "eight_queens = NQueensCSP(8)"
      ]
    },
    {
      "cell_type": "markdown",
      "metadata": {
        "id": "F8uRImKvIXaK"
      },
      "source": [
        "### Helper Functions\n",
        "\n",
        "We will now implement a few helper functions that will allow us to visualize the Coloring Problem; we'll also make a few modifications to the existing classes and functions for additional record keeping. To begin, we modify the **assign** and **unassign** methods in the **CSP** in order to add a copy of the assignment to the **assignment_history**. We name this new class as **InstruCSP**; it will allow us to see how the assignment evolves over time."
      ]
    },
    {
      "cell_type": "code",
      "execution_count": 178,
      "metadata": {
        "id": "Bleqw9uiIXaK"
      },
      "outputs": [],
      "source": [
        "import copy\n",
        "class InstruCSP(CSP):\n",
        "    def __init__(self, variables, domains, neighbors, constraints):\n",
        "        super().__init__(variables, domains, neighbors, constraints)\n",
        "        self.assignment_history = []\n",
        "        self.conflict_count = 0\n",
        "\n",
        "    def assign(self, var, val, assignment):\n",
        "        super().assign(var,val, assignment)\n",
        "        self.assignment_history.append(copy.deepcopy(assignment))\n",
        "        self.conflict_count += self.count_conflicts(var, val, assignment)\n",
        "\n",
        "    def unassign(self, var, assignment):\n",
        "        super().unassign(var,assignment)\n",
        "        self.assignment_history.append(copy.deepcopy(assignment))\n",
        "\n",
        "    def count_conflicts(self, var, val, assignment):\n",
        "        \"\"\"Return the number of conflicts var=val has with other variables.\"\"\"\n",
        "        count = 0\n",
        "        for var2 in self.neighbors[var]:\n",
        "            if var2 in assignment and not self.constraints(var, val, var2, assignment[var2]):\n",
        "                count += 1\n",
        "        return count"
      ]
    },
    {
      "cell_type": "markdown",
      "metadata": {
        "id": "AiEJ87VfIXaL"
      },
      "source": [
        "Next, we define **make_instru** which takes an instance of **CSP** and returns an instance of **InstruCSP**."
      ]
    },
    {
      "cell_type": "code",
      "execution_count": 179,
      "metadata": {
        "id": "Cabe_X9bIXaL"
      },
      "outputs": [],
      "source": [
        "def make_instru(csp):\n",
        "    return InstruCSP(csp.variables, csp.domains, csp.neighbors, csp.constraints)"
      ]
    },
    {
      "cell_type": "markdown",
      "metadata": {
        "id": "Kq-5gzZmIXaL"
      },
      "source": [
        "We will now use a graph defined as a dictionary for plotting purposes in our Graph Coloring Problem. The keys are the nodes and their values are the corresponding nodes they are connected to."
      ]
    },
    {
      "cell_type": "code",
      "execution_count": 180,
      "metadata": {
        "id": "zk9tBSyYIXaL"
      },
      "outputs": [],
      "source": [
        "neighbors = {\n",
        "    0: [6, 11, 15, 18, 4, 11, 6, 15, 18, 4],\n",
        "    1: [12, 12, 14, 14],\n",
        "    2: [17, 6, 11, 6, 11, 10, 17, 14, 10, 14],\n",
        "    3: [20, 8, 19, 12, 20, 19, 8, 12],\n",
        "    4: [11, 0, 18, 5, 18, 5, 11, 0],\n",
        "    5: [4, 4],\n",
        "    6: [8, 15, 0, 11, 2, 14, 8, 11, 15, 2, 0, 14],\n",
        "    7: [13, 16, 13, 16],\n",
        "    8: [19, 15, 6, 14, 12, 3, 6, 15, 19, 12, 3, 14],\n",
        "    9: [20, 15, 19, 16, 15, 19, 20, 16],\n",
        "    10: [17, 11, 2, 11, 17, 2],\n",
        "    11: [6, 0, 4, 10, 2, 6, 2, 0, 10, 4],\n",
        "    12: [8, 3, 8, 14, 1, 3, 1, 14],\n",
        "    13: [7, 15, 18, 15, 16, 7, 18, 16],\n",
        "    14: [8, 6, 2, 12, 1, 8, 6, 2, 1, 12],\n",
        "    15: [8, 6, 16, 13, 18, 0, 6, 8, 19, 9, 0, 19, 13, 18, 9, 16],\n",
        "    16: [7, 15, 13, 9, 7, 13, 15, 9],\n",
        "    17: [10, 2, 2, 10],\n",
        "    18: [15, 0, 13, 4, 0, 15, 13, 4],\n",
        "    19: [20, 8, 15, 9, 15, 8, 3, 20, 3, 9],\n",
        "    20: [3, 19, 9, 19, 3, 9]\n",
        "}"
      ]
    },
    {
      "cell_type": "markdown",
      "metadata": {
        "id": "nkSvBXWZIXaM"
      },
      "source": [
        "Now we are ready to create an InstruCSP instance for our problem. We are doing this for an instance of **MapColoringProblem** class which inherits from the **CSP** Class. This means that our **make_instru** function will work perfectly for it."
      ]
    },
    {
      "cell_type": "code",
      "execution_count": 181,
      "metadata": {
        "id": "Ww1oPyDvIXaM"
      },
      "outputs": [],
      "source": [
        "coloring_problem = MapColoringCSP('RGBY', neighbors)"
      ]
    },
    {
      "cell_type": "code",
      "execution_count": 182,
      "metadata": {
        "id": "Vi8IftI0IXaM"
      },
      "outputs": [],
      "source": [
        "coloring_problem1 = make_instru(coloring_problem)"
      ]
    },
    {
      "cell_type": "markdown",
      "metadata": {
        "id": "Q7zQSsKUIXaN"
      },
      "source": [
        "## BACKTRACKING SEARCH\n",
        "\n",
        "The main issue with using Naive Search Algorithms to solve a CSP is that they can continue to expand obviously wrong paths; whereas, in **backtracking search**, we check the constraints as we go and we deal with only one variable at a time. Backtracking Search is implemented in the repository as the function **backtracking_search**. This is the same as **Figure 6.5** in the book. The function takes as input a CSP and a few other optional parameters which can be used to speed it up further. The function returns the correct assignment if it satisfies the goal. However, we will discuss these later. For now, let us solve our **coloring_problem1** with **backtracking_search**."
      ]
    },
    {
      "cell_type": "code",
      "source": [
        "psource(backtracking_search)"
      ],
      "metadata": {
        "colab": {
          "base_uri": "https://localhost:8080/",
          "height": 437
        },
        "id": "kHp0fbr-TRaC",
        "outputId": "1d09255d-0e59-49ce-db53-11bf81b9f631"
      },
      "execution_count": 183,
      "outputs": [
        {
          "output_type": "display_data",
          "data": {
            "text/plain": [
              "<IPython.core.display.HTML object>"
            ],
            "text/html": [
              "<!DOCTYPE html PUBLIC \"-//W3C//DTD HTML 4.01//EN\"\n",
              "   \"http://www.w3.org/TR/html4/strict.dtd\">\n",
              "<!--\n",
              "generated by Pygments <https://pygments.org/>\n",
              "Copyright 2006-2023 by the Pygments team.\n",
              "Licensed under the BSD license, see LICENSE for details.\n",
              "-->\n",
              "<html>\n",
              "<head>\n",
              "  <title></title>\n",
              "  <meta http-equiv=\"content-type\" content=\"text/html; charset=None\">\n",
              "  <style type=\"text/css\">\n",
              "/*\n",
              "generated by Pygments <https://pygments.org/>\n",
              "Copyright 2006-2023 by the Pygments team.\n",
              "Licensed under the BSD license, see LICENSE for details.\n",
              "*/\n",
              "pre { line-height: 125%; }\n",
              "td.linenos .normal { color: inherit; background-color: transparent; padding-left: 5px; padding-right: 5px; }\n",
              "span.linenos { color: inherit; background-color: transparent; padding-left: 5px; padding-right: 5px; }\n",
              "td.linenos .special { color: #000000; background-color: #ffffc0; padding-left: 5px; padding-right: 5px; }\n",
              "span.linenos.special { color: #000000; background-color: #ffffc0; padding-left: 5px; padding-right: 5px; }\n",
              "body .hll { background-color: #ffffcc }\n",
              "body { background: #f8f8f8; }\n",
              "body .c { color: #3D7B7B; font-style: italic } /* Comment */\n",
              "body .err { border: 1px solid #FF0000 } /* Error */\n",
              "body .k { color: #008000; font-weight: bold } /* Keyword */\n",
              "body .o { color: #666666 } /* Operator */\n",
              "body .ch { color: #3D7B7B; font-style: italic } /* Comment.Hashbang */\n",
              "body .cm { color: #3D7B7B; font-style: italic } /* Comment.Multiline */\n",
              "body .cp { color: #9C6500 } /* Comment.Preproc */\n",
              "body .cpf { color: #3D7B7B; font-style: italic } /* Comment.PreprocFile */\n",
              "body .c1 { color: #3D7B7B; font-style: italic } /* Comment.Single */\n",
              "body .cs { color: #3D7B7B; font-style: italic } /* Comment.Special */\n",
              "body .gd { color: #A00000 } /* Generic.Deleted */\n",
              "body .ge { font-style: italic } /* Generic.Emph */\n",
              "body .ges { font-weight: bold; font-style: italic } /* Generic.EmphStrong */\n",
              "body .gr { color: #E40000 } /* Generic.Error */\n",
              "body .gh { color: #000080; font-weight: bold } /* Generic.Heading */\n",
              "body .gi { color: #008400 } /* Generic.Inserted */\n",
              "body .go { color: #717171 } /* Generic.Output */\n",
              "body .gp { color: #000080; font-weight: bold } /* Generic.Prompt */\n",
              "body .gs { font-weight: bold } /* Generic.Strong */\n",
              "body .gu { color: #800080; font-weight: bold } /* Generic.Subheading */\n",
              "body .gt { color: #0044DD } /* Generic.Traceback */\n",
              "body .kc { color: #008000; font-weight: bold } /* Keyword.Constant */\n",
              "body .kd { color: #008000; font-weight: bold } /* Keyword.Declaration */\n",
              "body .kn { color: #008000; font-weight: bold } /* Keyword.Namespace */\n",
              "body .kp { color: #008000 } /* Keyword.Pseudo */\n",
              "body .kr { color: #008000; font-weight: bold } /* Keyword.Reserved */\n",
              "body .kt { color: #B00040 } /* Keyword.Type */\n",
              "body .m { color: #666666 } /* Literal.Number */\n",
              "body .s { color: #BA2121 } /* Literal.String */\n",
              "body .na { color: #687822 } /* Name.Attribute */\n",
              "body .nb { color: #008000 } /* Name.Builtin */\n",
              "body .nc { color: #0000FF; font-weight: bold } /* Name.Class */\n",
              "body .no { color: #880000 } /* Name.Constant */\n",
              "body .nd { color: #AA22FF } /* Name.Decorator */\n",
              "body .ni { color: #717171; font-weight: bold } /* Name.Entity */\n",
              "body .ne { color: #CB3F38; font-weight: bold } /* Name.Exception */\n",
              "body .nf { color: #0000FF } /* Name.Function */\n",
              "body .nl { color: #767600 } /* Name.Label */\n",
              "body .nn { color: #0000FF; font-weight: bold } /* Name.Namespace */\n",
              "body .nt { color: #008000; font-weight: bold } /* Name.Tag */\n",
              "body .nv { color: #19177C } /* Name.Variable */\n",
              "body .ow { color: #AA22FF; font-weight: bold } /* Operator.Word */\n",
              "body .w { color: #bbbbbb } /* Text.Whitespace */\n",
              "body .mb { color: #666666 } /* Literal.Number.Bin */\n",
              "body .mf { color: #666666 } /* Literal.Number.Float */\n",
              "body .mh { color: #666666 } /* Literal.Number.Hex */\n",
              "body .mi { color: #666666 } /* Literal.Number.Integer */\n",
              "body .mo { color: #666666 } /* Literal.Number.Oct */\n",
              "body .sa { color: #BA2121 } /* Literal.String.Affix */\n",
              "body .sb { color: #BA2121 } /* Literal.String.Backtick */\n",
              "body .sc { color: #BA2121 } /* Literal.String.Char */\n",
              "body .dl { color: #BA2121 } /* Literal.String.Delimiter */\n",
              "body .sd { color: #BA2121; font-style: italic } /* Literal.String.Doc */\n",
              "body .s2 { color: #BA2121 } /* Literal.String.Double */\n",
              "body .se { color: #AA5D1F; font-weight: bold } /* Literal.String.Escape */\n",
              "body .sh { color: #BA2121 } /* Literal.String.Heredoc */\n",
              "body .si { color: #A45A77; font-weight: bold } /* Literal.String.Interpol */\n",
              "body .sx { color: #008000 } /* Literal.String.Other */\n",
              "body .sr { color: #A45A77 } /* Literal.String.Regex */\n",
              "body .s1 { color: #BA2121 } /* Literal.String.Single */\n",
              "body .ss { color: #19177C } /* Literal.String.Symbol */\n",
              "body .bp { color: #008000 } /* Name.Builtin.Pseudo */\n",
              "body .fm { color: #0000FF } /* Name.Function.Magic */\n",
              "body .vc { color: #19177C } /* Name.Variable.Class */\n",
              "body .vg { color: #19177C } /* Name.Variable.Global */\n",
              "body .vi { color: #19177C } /* Name.Variable.Instance */\n",
              "body .vm { color: #19177C } /* Name.Variable.Magic */\n",
              "body .il { color: #666666 } /* Literal.Number.Integer.Long */\n",
              "\n",
              "  </style>\n",
              "</head>\n",
              "<body>\n",
              "<h2></h2>\n",
              "\n",
              "<div class=\"highlight\"><pre><span></span><span class=\"k\">def</span> <span class=\"nf\">backtracking_search</span><span class=\"p\">(</span><span class=\"n\">csp</span><span class=\"p\">,</span> <span class=\"n\">select_unassigned_variable</span><span class=\"o\">=</span><span class=\"n\">first_unassigned_variable</span><span class=\"p\">,</span>\n",
              "                        <span class=\"n\">order_domain_values</span><span class=\"o\">=</span><span class=\"n\">unordered_domain_values</span><span class=\"p\">,</span> <span class=\"n\">inference</span><span class=\"o\">=</span><span class=\"n\">no_inference</span><span class=\"p\">):</span>\n",
              "<span class=\"w\">    </span><span class=\"sd\">&quot;&quot;&quot;[Figure 6.5]&quot;&quot;&quot;</span>\n",
              "\n",
              "    <span class=\"k\">def</span> <span class=\"nf\">backtrack</span><span class=\"p\">(</span><span class=\"n\">assignment</span><span class=\"p\">):</span>\n",
              "        <span class=\"k\">if</span> <span class=\"nb\">len</span><span class=\"p\">(</span><span class=\"n\">assignment</span><span class=\"p\">)</span> <span class=\"o\">==</span> <span class=\"nb\">len</span><span class=\"p\">(</span><span class=\"n\">csp</span><span class=\"o\">.</span><span class=\"n\">variables</span><span class=\"p\">):</span>\n",
              "            <span class=\"k\">return</span> <span class=\"n\">assignment</span>\n",
              "        <span class=\"n\">var</span> <span class=\"o\">=</span> <span class=\"n\">select_unassigned_variable</span><span class=\"p\">(</span><span class=\"n\">assignment</span><span class=\"p\">,</span> <span class=\"n\">csp</span><span class=\"p\">)</span>\n",
              "        <span class=\"k\">for</span> <span class=\"n\">value</span> <span class=\"ow\">in</span> <span class=\"n\">order_domain_values</span><span class=\"p\">(</span><span class=\"n\">var</span><span class=\"p\">,</span> <span class=\"n\">assignment</span><span class=\"p\">,</span> <span class=\"n\">csp</span><span class=\"p\">):</span>\n",
              "            <span class=\"k\">if</span> <span class=\"mi\">0</span> <span class=\"o\">==</span> <span class=\"n\">csp</span><span class=\"o\">.</span><span class=\"n\">nconflicts</span><span class=\"p\">(</span><span class=\"n\">var</span><span class=\"p\">,</span> <span class=\"n\">value</span><span class=\"p\">,</span> <span class=\"n\">assignment</span><span class=\"p\">):</span>\n",
              "                <span class=\"n\">csp</span><span class=\"o\">.</span><span class=\"n\">assign</span><span class=\"p\">(</span><span class=\"n\">var</span><span class=\"p\">,</span> <span class=\"n\">value</span><span class=\"p\">,</span> <span class=\"n\">assignment</span><span class=\"p\">)</span>\n",
              "                <span class=\"n\">removals</span> <span class=\"o\">=</span> <span class=\"n\">csp</span><span class=\"o\">.</span><span class=\"n\">suppose</span><span class=\"p\">(</span><span class=\"n\">var</span><span class=\"p\">,</span> <span class=\"n\">value</span><span class=\"p\">)</span>\n",
              "                <span class=\"k\">if</span> <span class=\"n\">inference</span><span class=\"p\">(</span><span class=\"n\">csp</span><span class=\"p\">,</span> <span class=\"n\">var</span><span class=\"p\">,</span> <span class=\"n\">value</span><span class=\"p\">,</span> <span class=\"n\">assignment</span><span class=\"p\">,</span> <span class=\"n\">removals</span><span class=\"p\">):</span>\n",
              "                    <span class=\"n\">result</span> <span class=\"o\">=</span> <span class=\"n\">backtrack</span><span class=\"p\">(</span><span class=\"n\">assignment</span><span class=\"p\">)</span>\n",
              "                    <span class=\"k\">if</span> <span class=\"n\">result</span> <span class=\"ow\">is</span> <span class=\"ow\">not</span> <span class=\"kc\">None</span><span class=\"p\">:</span>\n",
              "                        <span class=\"k\">return</span> <span class=\"n\">result</span>\n",
              "                <span class=\"n\">csp</span><span class=\"o\">.</span><span class=\"n\">restore</span><span class=\"p\">(</span><span class=\"n\">removals</span><span class=\"p\">)</span>\n",
              "        <span class=\"n\">csp</span><span class=\"o\">.</span><span class=\"n\">unassign</span><span class=\"p\">(</span><span class=\"n\">var</span><span class=\"p\">,</span> <span class=\"n\">assignment</span><span class=\"p\">)</span>\n",
              "        <span class=\"k\">return</span> <span class=\"kc\">None</span>\n",
              "\n",
              "    <span class=\"n\">result</span> <span class=\"o\">=</span> <span class=\"n\">backtrack</span><span class=\"p\">({})</span>\n",
              "    <span class=\"k\">assert</span> <span class=\"n\">result</span> <span class=\"ow\">is</span> <span class=\"kc\">None</span> <span class=\"ow\">or</span> <span class=\"n\">csp</span><span class=\"o\">.</span><span class=\"n\">goal_test</span><span class=\"p\">(</span><span class=\"n\">result</span><span class=\"p\">)</span>\n",
              "    <span class=\"k\">return</span> <span class=\"n\">result</span>\n",
              "</pre></div>\n",
              "</body>\n",
              "</html>\n"
            ]
          },
          "metadata": {}
        }
      ]
    },
    {
      "cell_type": "code",
      "execution_count": 205,
      "metadata": {
        "id": "17tWbcgYIXaN"
      },
      "outputs": [],
      "source": [
        "result = backtracking_search(coloring_problem1)"
      ]
    },
    {
      "cell_type": "code",
      "execution_count": 185,
      "metadata": {
        "colab": {
          "base_uri": "https://localhost:8080/"
        },
        "id": "aSb34bTjIXaN",
        "outputId": "40690c59-3bdb-4e30-e65a-057a712118f8"
      },
      "outputs": [
        {
          "output_type": "execute_result",
          "data": {
            "text/plain": [
              "{0: 'R',\n",
              " 1: 'R',\n",
              " 2: 'R',\n",
              " 3: 'R',\n",
              " 4: 'G',\n",
              " 5: 'R',\n",
              " 6: 'G',\n",
              " 7: 'R',\n",
              " 8: 'B',\n",
              " 9: 'R',\n",
              " 10: 'G',\n",
              " 11: 'B',\n",
              " 12: 'G',\n",
              " 13: 'G',\n",
              " 14: 'Y',\n",
              " 15: 'Y',\n",
              " 16: 'B',\n",
              " 17: 'B',\n",
              " 18: 'B',\n",
              " 19: 'G',\n",
              " 20: 'B'}"
            ]
          },
          "metadata": {},
          "execution_count": 185
        }
      ],
      "source": [
        "result # A dictonary of assignments."
      ]
    },
    {
      "cell_type": "markdown",
      "metadata": {
        "id": "Y_5VxItNIXaN"
      },
      "source": [
        "Let us also check the number of assignments made."
      ]
    },
    {
      "cell_type": "code",
      "execution_count": 186,
      "metadata": {
        "colab": {
          "base_uri": "https://localhost:8080/"
        },
        "id": "961rkGY0IXaN",
        "outputId": "5e82a369-568c-415f-94cc-fd116083d5ec"
      },
      "outputs": [
        {
          "output_type": "execute_result",
          "data": {
            "text/plain": [
              "21"
            ]
          },
          "metadata": {},
          "execution_count": 186
        }
      ],
      "source": [
        "coloring_problem1.nassigns"
      ]
    },
    {
      "cell_type": "markdown",
      "metadata": {
        "id": "JXecbRY9IXaN"
      },
      "source": [
        "Now, let us check the total number of assignments and unassignments, which would be the length of our assignment history. We can see it by using the command below."
      ]
    },
    {
      "cell_type": "code",
      "execution_count": 187,
      "metadata": {
        "colab": {
          "base_uri": "https://localhost:8080/"
        },
        "id": "OGxYhb9kIXaN",
        "outputId": "cc3952f6-ead5-4d2f-ad25-b55b9796aecd"
      },
      "outputs": [
        {
          "output_type": "execute_result",
          "data": {
            "text/plain": [
              "21"
            ]
          },
          "metadata": {},
          "execution_count": 187
        }
      ],
      "source": [
        "len(coloring_problem1.assignment_history)"
      ]
    },
    {
      "cell_type": "markdown",
      "metadata": {
        "id": "jHBIoo-8IXaN"
      },
      "source": [
        "Now let us explore the optional keyword arguments that the **backtracking_search** function takes. These optional arguments help speed up the assignment further. Along with these, we will also point out the methods in the CSP class that help to make this work.\n",
        "\n",
        "The first one is **select_unassigned_variable**. It takes in, as a parameter, a function that helps in deciding the order in which the variables will be selected for assignment. We use a heuristic called Most Restricted Variable which is implemented by the function **mrv**. The idea behind **mrv** is to choose the variable with the least legal values left in its domain. The intuition behind selecting the **mrv** or the most constrained variable is that it allows us to encounter failure quickly before going too deep into a tree if we have selected a wrong step before. The **mrv** implementation makes use of another function **num_legal_values** to sort out the variables by the number of legal values left in its domain. This function, in turn, calls the **nconflicts** method of the **CSP** to return such values."
      ]
    },
    {
      "cell_type": "code",
      "execution_count": 188,
      "metadata": {
        "colab": {
          "base_uri": "https://localhost:8080/",
          "height": 104
        },
        "id": "ZoDc0Zw7IXaO",
        "outputId": "16e0cf70-a878-413b-b105-0126cd4ed2d9"
      },
      "outputs": [
        {
          "output_type": "display_data",
          "data": {
            "text/plain": [
              "<IPython.core.display.HTML object>"
            ],
            "text/html": [
              "<!DOCTYPE html PUBLIC \"-//W3C//DTD HTML 4.01//EN\"\n",
              "   \"http://www.w3.org/TR/html4/strict.dtd\">\n",
              "<!--\n",
              "generated by Pygments <https://pygments.org/>\n",
              "Copyright 2006-2023 by the Pygments team.\n",
              "Licensed under the BSD license, see LICENSE for details.\n",
              "-->\n",
              "<html>\n",
              "<head>\n",
              "  <title></title>\n",
              "  <meta http-equiv=\"content-type\" content=\"text/html; charset=None\">\n",
              "  <style type=\"text/css\">\n",
              "/*\n",
              "generated by Pygments <https://pygments.org/>\n",
              "Copyright 2006-2023 by the Pygments team.\n",
              "Licensed under the BSD license, see LICENSE for details.\n",
              "*/\n",
              "pre { line-height: 125%; }\n",
              "td.linenos .normal { color: inherit; background-color: transparent; padding-left: 5px; padding-right: 5px; }\n",
              "span.linenos { color: inherit; background-color: transparent; padding-left: 5px; padding-right: 5px; }\n",
              "td.linenos .special { color: #000000; background-color: #ffffc0; padding-left: 5px; padding-right: 5px; }\n",
              "span.linenos.special { color: #000000; background-color: #ffffc0; padding-left: 5px; padding-right: 5px; }\n",
              "body .hll { background-color: #ffffcc }\n",
              "body { background: #f8f8f8; }\n",
              "body .c { color: #3D7B7B; font-style: italic } /* Comment */\n",
              "body .err { border: 1px solid #FF0000 } /* Error */\n",
              "body .k { color: #008000; font-weight: bold } /* Keyword */\n",
              "body .o { color: #666666 } /* Operator */\n",
              "body .ch { color: #3D7B7B; font-style: italic } /* Comment.Hashbang */\n",
              "body .cm { color: #3D7B7B; font-style: italic } /* Comment.Multiline */\n",
              "body .cp { color: #9C6500 } /* Comment.Preproc */\n",
              "body .cpf { color: #3D7B7B; font-style: italic } /* Comment.PreprocFile */\n",
              "body .c1 { color: #3D7B7B; font-style: italic } /* Comment.Single */\n",
              "body .cs { color: #3D7B7B; font-style: italic } /* Comment.Special */\n",
              "body .gd { color: #A00000 } /* Generic.Deleted */\n",
              "body .ge { font-style: italic } /* Generic.Emph */\n",
              "body .ges { font-weight: bold; font-style: italic } /* Generic.EmphStrong */\n",
              "body .gr { color: #E40000 } /* Generic.Error */\n",
              "body .gh { color: #000080; font-weight: bold } /* Generic.Heading */\n",
              "body .gi { color: #008400 } /* Generic.Inserted */\n",
              "body .go { color: #717171 } /* Generic.Output */\n",
              "body .gp { color: #000080; font-weight: bold } /* Generic.Prompt */\n",
              "body .gs { font-weight: bold } /* Generic.Strong */\n",
              "body .gu { color: #800080; font-weight: bold } /* Generic.Subheading */\n",
              "body .gt { color: #0044DD } /* Generic.Traceback */\n",
              "body .kc { color: #008000; font-weight: bold } /* Keyword.Constant */\n",
              "body .kd { color: #008000; font-weight: bold } /* Keyword.Declaration */\n",
              "body .kn { color: #008000; font-weight: bold } /* Keyword.Namespace */\n",
              "body .kp { color: #008000 } /* Keyword.Pseudo */\n",
              "body .kr { color: #008000; font-weight: bold } /* Keyword.Reserved */\n",
              "body .kt { color: #B00040 } /* Keyword.Type */\n",
              "body .m { color: #666666 } /* Literal.Number */\n",
              "body .s { color: #BA2121 } /* Literal.String */\n",
              "body .na { color: #687822 } /* Name.Attribute */\n",
              "body .nb { color: #008000 } /* Name.Builtin */\n",
              "body .nc { color: #0000FF; font-weight: bold } /* Name.Class */\n",
              "body .no { color: #880000 } /* Name.Constant */\n",
              "body .nd { color: #AA22FF } /* Name.Decorator */\n",
              "body .ni { color: #717171; font-weight: bold } /* Name.Entity */\n",
              "body .ne { color: #CB3F38; font-weight: bold } /* Name.Exception */\n",
              "body .nf { color: #0000FF } /* Name.Function */\n",
              "body .nl { color: #767600 } /* Name.Label */\n",
              "body .nn { color: #0000FF; font-weight: bold } /* Name.Namespace */\n",
              "body .nt { color: #008000; font-weight: bold } /* Name.Tag */\n",
              "body .nv { color: #19177C } /* Name.Variable */\n",
              "body .ow { color: #AA22FF; font-weight: bold } /* Operator.Word */\n",
              "body .w { color: #bbbbbb } /* Text.Whitespace */\n",
              "body .mb { color: #666666 } /* Literal.Number.Bin */\n",
              "body .mf { color: #666666 } /* Literal.Number.Float */\n",
              "body .mh { color: #666666 } /* Literal.Number.Hex */\n",
              "body .mi { color: #666666 } /* Literal.Number.Integer */\n",
              "body .mo { color: #666666 } /* Literal.Number.Oct */\n",
              "body .sa { color: #BA2121 } /* Literal.String.Affix */\n",
              "body .sb { color: #BA2121 } /* Literal.String.Backtick */\n",
              "body .sc { color: #BA2121 } /* Literal.String.Char */\n",
              "body .dl { color: #BA2121 } /* Literal.String.Delimiter */\n",
              "body .sd { color: #BA2121; font-style: italic } /* Literal.String.Doc */\n",
              "body .s2 { color: #BA2121 } /* Literal.String.Double */\n",
              "body .se { color: #AA5D1F; font-weight: bold } /* Literal.String.Escape */\n",
              "body .sh { color: #BA2121 } /* Literal.String.Heredoc */\n",
              "body .si { color: #A45A77; font-weight: bold } /* Literal.String.Interpol */\n",
              "body .sx { color: #008000 } /* Literal.String.Other */\n",
              "body .sr { color: #A45A77 } /* Literal.String.Regex */\n",
              "body .s1 { color: #BA2121 } /* Literal.String.Single */\n",
              "body .ss { color: #19177C } /* Literal.String.Symbol */\n",
              "body .bp { color: #008000 } /* Name.Builtin.Pseudo */\n",
              "body .fm { color: #0000FF } /* Name.Function.Magic */\n",
              "body .vc { color: #19177C } /* Name.Variable.Class */\n",
              "body .vg { color: #19177C } /* Name.Variable.Global */\n",
              "body .vi { color: #19177C } /* Name.Variable.Instance */\n",
              "body .vm { color: #19177C } /* Name.Variable.Magic */\n",
              "body .il { color: #666666 } /* Literal.Number.Integer.Long */\n",
              "\n",
              "  </style>\n",
              "</head>\n",
              "<body>\n",
              "<h2></h2>\n",
              "\n",
              "<div class=\"highlight\"><pre><span></span><span class=\"k\">def</span> <span class=\"nf\">mrv</span><span class=\"p\">(</span><span class=\"n\">assignment</span><span class=\"p\">,</span> <span class=\"n\">csp</span><span class=\"p\">):</span>\n",
              "<span class=\"w\">    </span><span class=\"sd\">&quot;&quot;&quot;Minimum-remaining-values heuristic.&quot;&quot;&quot;</span>\n",
              "    <span class=\"k\">return</span> <span class=\"n\">argmin_random_tie</span><span class=\"p\">([</span><span class=\"n\">v</span> <span class=\"k\">for</span> <span class=\"n\">v</span> <span class=\"ow\">in</span> <span class=\"n\">csp</span><span class=\"o\">.</span><span class=\"n\">variables</span> <span class=\"k\">if</span> <span class=\"n\">v</span> <span class=\"ow\">not</span> <span class=\"ow\">in</span> <span class=\"n\">assignment</span><span class=\"p\">],</span>\n",
              "                             <span class=\"n\">key</span><span class=\"o\">=</span><span class=\"k\">lambda</span> <span class=\"n\">var</span><span class=\"p\">:</span> <span class=\"n\">num_legal_values</span><span class=\"p\">(</span><span class=\"n\">csp</span><span class=\"p\">,</span> <span class=\"n\">var</span><span class=\"p\">,</span> <span class=\"n\">assignment</span><span class=\"p\">))</span>\n",
              "</pre></div>\n",
              "</body>\n",
              "</html>\n"
            ]
          },
          "metadata": {}
        }
      ],
      "source": [
        "psource(mrv)"
      ]
    },
    {
      "cell_type": "code",
      "execution_count": 189,
      "metadata": {
        "colab": {
          "base_uri": "https://localhost:8080/",
          "height": 122
        },
        "id": "TtRJtzAkIXaO",
        "outputId": "496483d0-2130-41d2-8390-192eb3acd43a"
      },
      "outputs": [
        {
          "output_type": "display_data",
          "data": {
            "text/plain": [
              "<IPython.core.display.HTML object>"
            ],
            "text/html": [
              "<!DOCTYPE html PUBLIC \"-//W3C//DTD HTML 4.01//EN\"\n",
              "   \"http://www.w3.org/TR/html4/strict.dtd\">\n",
              "<!--\n",
              "generated by Pygments <https://pygments.org/>\n",
              "Copyright 2006-2023 by the Pygments team.\n",
              "Licensed under the BSD license, see LICENSE for details.\n",
              "-->\n",
              "<html>\n",
              "<head>\n",
              "  <title></title>\n",
              "  <meta http-equiv=\"content-type\" content=\"text/html; charset=None\">\n",
              "  <style type=\"text/css\">\n",
              "/*\n",
              "generated by Pygments <https://pygments.org/>\n",
              "Copyright 2006-2023 by the Pygments team.\n",
              "Licensed under the BSD license, see LICENSE for details.\n",
              "*/\n",
              "pre { line-height: 125%; }\n",
              "td.linenos .normal { color: inherit; background-color: transparent; padding-left: 5px; padding-right: 5px; }\n",
              "span.linenos { color: inherit; background-color: transparent; padding-left: 5px; padding-right: 5px; }\n",
              "td.linenos .special { color: #000000; background-color: #ffffc0; padding-left: 5px; padding-right: 5px; }\n",
              "span.linenos.special { color: #000000; background-color: #ffffc0; padding-left: 5px; padding-right: 5px; }\n",
              "body .hll { background-color: #ffffcc }\n",
              "body { background: #f8f8f8; }\n",
              "body .c { color: #3D7B7B; font-style: italic } /* Comment */\n",
              "body .err { border: 1px solid #FF0000 } /* Error */\n",
              "body .k { color: #008000; font-weight: bold } /* Keyword */\n",
              "body .o { color: #666666 } /* Operator */\n",
              "body .ch { color: #3D7B7B; font-style: italic } /* Comment.Hashbang */\n",
              "body .cm { color: #3D7B7B; font-style: italic } /* Comment.Multiline */\n",
              "body .cp { color: #9C6500 } /* Comment.Preproc */\n",
              "body .cpf { color: #3D7B7B; font-style: italic } /* Comment.PreprocFile */\n",
              "body .c1 { color: #3D7B7B; font-style: italic } /* Comment.Single */\n",
              "body .cs { color: #3D7B7B; font-style: italic } /* Comment.Special */\n",
              "body .gd { color: #A00000 } /* Generic.Deleted */\n",
              "body .ge { font-style: italic } /* Generic.Emph */\n",
              "body .ges { font-weight: bold; font-style: italic } /* Generic.EmphStrong */\n",
              "body .gr { color: #E40000 } /* Generic.Error */\n",
              "body .gh { color: #000080; font-weight: bold } /* Generic.Heading */\n",
              "body .gi { color: #008400 } /* Generic.Inserted */\n",
              "body .go { color: #717171 } /* Generic.Output */\n",
              "body .gp { color: #000080; font-weight: bold } /* Generic.Prompt */\n",
              "body .gs { font-weight: bold } /* Generic.Strong */\n",
              "body .gu { color: #800080; font-weight: bold } /* Generic.Subheading */\n",
              "body .gt { color: #0044DD } /* Generic.Traceback */\n",
              "body .kc { color: #008000; font-weight: bold } /* Keyword.Constant */\n",
              "body .kd { color: #008000; font-weight: bold } /* Keyword.Declaration */\n",
              "body .kn { color: #008000; font-weight: bold } /* Keyword.Namespace */\n",
              "body .kp { color: #008000 } /* Keyword.Pseudo */\n",
              "body .kr { color: #008000; font-weight: bold } /* Keyword.Reserved */\n",
              "body .kt { color: #B00040 } /* Keyword.Type */\n",
              "body .m { color: #666666 } /* Literal.Number */\n",
              "body .s { color: #BA2121 } /* Literal.String */\n",
              "body .na { color: #687822 } /* Name.Attribute */\n",
              "body .nb { color: #008000 } /* Name.Builtin */\n",
              "body .nc { color: #0000FF; font-weight: bold } /* Name.Class */\n",
              "body .no { color: #880000 } /* Name.Constant */\n",
              "body .nd { color: #AA22FF } /* Name.Decorator */\n",
              "body .ni { color: #717171; font-weight: bold } /* Name.Entity */\n",
              "body .ne { color: #CB3F38; font-weight: bold } /* Name.Exception */\n",
              "body .nf { color: #0000FF } /* Name.Function */\n",
              "body .nl { color: #767600 } /* Name.Label */\n",
              "body .nn { color: #0000FF; font-weight: bold } /* Name.Namespace */\n",
              "body .nt { color: #008000; font-weight: bold } /* Name.Tag */\n",
              "body .nv { color: #19177C } /* Name.Variable */\n",
              "body .ow { color: #AA22FF; font-weight: bold } /* Operator.Word */\n",
              "body .w { color: #bbbbbb } /* Text.Whitespace */\n",
              "body .mb { color: #666666 } /* Literal.Number.Bin */\n",
              "body .mf { color: #666666 } /* Literal.Number.Float */\n",
              "body .mh { color: #666666 } /* Literal.Number.Hex */\n",
              "body .mi { color: #666666 } /* Literal.Number.Integer */\n",
              "body .mo { color: #666666 } /* Literal.Number.Oct */\n",
              "body .sa { color: #BA2121 } /* Literal.String.Affix */\n",
              "body .sb { color: #BA2121 } /* Literal.String.Backtick */\n",
              "body .sc { color: #BA2121 } /* Literal.String.Char */\n",
              "body .dl { color: #BA2121 } /* Literal.String.Delimiter */\n",
              "body .sd { color: #BA2121; font-style: italic } /* Literal.String.Doc */\n",
              "body .s2 { color: #BA2121 } /* Literal.String.Double */\n",
              "body .se { color: #AA5D1F; font-weight: bold } /* Literal.String.Escape */\n",
              "body .sh { color: #BA2121 } /* Literal.String.Heredoc */\n",
              "body .si { color: #A45A77; font-weight: bold } /* Literal.String.Interpol */\n",
              "body .sx { color: #008000 } /* Literal.String.Other */\n",
              "body .sr { color: #A45A77 } /* Literal.String.Regex */\n",
              "body .s1 { color: #BA2121 } /* Literal.String.Single */\n",
              "body .ss { color: #19177C } /* Literal.String.Symbol */\n",
              "body .bp { color: #008000 } /* Name.Builtin.Pseudo */\n",
              "body .fm { color: #0000FF } /* Name.Function.Magic */\n",
              "body .vc { color: #19177C } /* Name.Variable.Class */\n",
              "body .vg { color: #19177C } /* Name.Variable.Global */\n",
              "body .vi { color: #19177C } /* Name.Variable.Instance */\n",
              "body .vm { color: #19177C } /* Name.Variable.Magic */\n",
              "body .il { color: #666666 } /* Literal.Number.Integer.Long */\n",
              "\n",
              "  </style>\n",
              "</head>\n",
              "<body>\n",
              "<h2></h2>\n",
              "\n",
              "<div class=\"highlight\"><pre><span></span><span class=\"k\">def</span> <span class=\"nf\">num_legal_values</span><span class=\"p\">(</span><span class=\"n\">csp</span><span class=\"p\">,</span> <span class=\"n\">var</span><span class=\"p\">,</span> <span class=\"n\">assignment</span><span class=\"p\">):</span>\n",
              "    <span class=\"k\">if</span> <span class=\"n\">csp</span><span class=\"o\">.</span><span class=\"n\">curr_domains</span><span class=\"p\">:</span>\n",
              "        <span class=\"k\">return</span> <span class=\"nb\">len</span><span class=\"p\">(</span><span class=\"n\">csp</span><span class=\"o\">.</span><span class=\"n\">curr_domains</span><span class=\"p\">[</span><span class=\"n\">var</span><span class=\"p\">])</span>\n",
              "    <span class=\"k\">else</span><span class=\"p\">:</span>\n",
              "        <span class=\"k\">return</span> <span class=\"n\">count</span><span class=\"p\">(</span><span class=\"n\">csp</span><span class=\"o\">.</span><span class=\"n\">nconflicts</span><span class=\"p\">(</span><span class=\"n\">var</span><span class=\"p\">,</span> <span class=\"n\">val</span><span class=\"p\">,</span> <span class=\"n\">assignment</span><span class=\"p\">)</span> <span class=\"o\">==</span> <span class=\"mi\">0</span> <span class=\"k\">for</span> <span class=\"n\">val</span> <span class=\"ow\">in</span> <span class=\"n\">csp</span><span class=\"o\">.</span><span class=\"n\">domains</span><span class=\"p\">[</span><span class=\"n\">var</span><span class=\"p\">])</span>\n",
              "</pre></div>\n",
              "</body>\n",
              "</html>\n"
            ]
          },
          "metadata": {}
        }
      ],
      "source": [
        "psource(num_legal_values)"
      ]
    },
    {
      "cell_type": "code",
      "execution_count": 190,
      "metadata": {
        "colab": {
          "base_uri": "https://localhost:8080/",
          "height": 174
        },
        "id": "nI1D3KNhIXaO",
        "outputId": "92b8e25f-7f90-4c81-cb6d-7eedb68546ce"
      },
      "outputs": [
        {
          "output_type": "display_data",
          "data": {
            "text/plain": [
              "<IPython.core.display.HTML object>"
            ],
            "text/html": [
              "<!DOCTYPE html PUBLIC \"-//W3C//DTD HTML 4.01//EN\"\n",
              "   \"http://www.w3.org/TR/html4/strict.dtd\">\n",
              "<!--\n",
              "generated by Pygments <https://pygments.org/>\n",
              "Copyright 2006-2023 by the Pygments team.\n",
              "Licensed under the BSD license, see LICENSE for details.\n",
              "-->\n",
              "<html>\n",
              "<head>\n",
              "  <title></title>\n",
              "  <meta http-equiv=\"content-type\" content=\"text/html; charset=None\">\n",
              "  <style type=\"text/css\">\n",
              "/*\n",
              "generated by Pygments <https://pygments.org/>\n",
              "Copyright 2006-2023 by the Pygments team.\n",
              "Licensed under the BSD license, see LICENSE for details.\n",
              "*/\n",
              "pre { line-height: 125%; }\n",
              "td.linenos .normal { color: inherit; background-color: transparent; padding-left: 5px; padding-right: 5px; }\n",
              "span.linenos { color: inherit; background-color: transparent; padding-left: 5px; padding-right: 5px; }\n",
              "td.linenos .special { color: #000000; background-color: #ffffc0; padding-left: 5px; padding-right: 5px; }\n",
              "span.linenos.special { color: #000000; background-color: #ffffc0; padding-left: 5px; padding-right: 5px; }\n",
              "body .hll { background-color: #ffffcc }\n",
              "body { background: #f8f8f8; }\n",
              "body .c { color: #3D7B7B; font-style: italic } /* Comment */\n",
              "body .err { border: 1px solid #FF0000 } /* Error */\n",
              "body .k { color: #008000; font-weight: bold } /* Keyword */\n",
              "body .o { color: #666666 } /* Operator */\n",
              "body .ch { color: #3D7B7B; font-style: italic } /* Comment.Hashbang */\n",
              "body .cm { color: #3D7B7B; font-style: italic } /* Comment.Multiline */\n",
              "body .cp { color: #9C6500 } /* Comment.Preproc */\n",
              "body .cpf { color: #3D7B7B; font-style: italic } /* Comment.PreprocFile */\n",
              "body .c1 { color: #3D7B7B; font-style: italic } /* Comment.Single */\n",
              "body .cs { color: #3D7B7B; font-style: italic } /* Comment.Special */\n",
              "body .gd { color: #A00000 } /* Generic.Deleted */\n",
              "body .ge { font-style: italic } /* Generic.Emph */\n",
              "body .ges { font-weight: bold; font-style: italic } /* Generic.EmphStrong */\n",
              "body .gr { color: #E40000 } /* Generic.Error */\n",
              "body .gh { color: #000080; font-weight: bold } /* Generic.Heading */\n",
              "body .gi { color: #008400 } /* Generic.Inserted */\n",
              "body .go { color: #717171 } /* Generic.Output */\n",
              "body .gp { color: #000080; font-weight: bold } /* Generic.Prompt */\n",
              "body .gs { font-weight: bold } /* Generic.Strong */\n",
              "body .gu { color: #800080; font-weight: bold } /* Generic.Subheading */\n",
              "body .gt { color: #0044DD } /* Generic.Traceback */\n",
              "body .kc { color: #008000; font-weight: bold } /* Keyword.Constant */\n",
              "body .kd { color: #008000; font-weight: bold } /* Keyword.Declaration */\n",
              "body .kn { color: #008000; font-weight: bold } /* Keyword.Namespace */\n",
              "body .kp { color: #008000 } /* Keyword.Pseudo */\n",
              "body .kr { color: #008000; font-weight: bold } /* Keyword.Reserved */\n",
              "body .kt { color: #B00040 } /* Keyword.Type */\n",
              "body .m { color: #666666 } /* Literal.Number */\n",
              "body .s { color: #BA2121 } /* Literal.String */\n",
              "body .na { color: #687822 } /* Name.Attribute */\n",
              "body .nb { color: #008000 } /* Name.Builtin */\n",
              "body .nc { color: #0000FF; font-weight: bold } /* Name.Class */\n",
              "body .no { color: #880000 } /* Name.Constant */\n",
              "body .nd { color: #AA22FF } /* Name.Decorator */\n",
              "body .ni { color: #717171; font-weight: bold } /* Name.Entity */\n",
              "body .ne { color: #CB3F38; font-weight: bold } /* Name.Exception */\n",
              "body .nf { color: #0000FF } /* Name.Function */\n",
              "body .nl { color: #767600 } /* Name.Label */\n",
              "body .nn { color: #0000FF; font-weight: bold } /* Name.Namespace */\n",
              "body .nt { color: #008000; font-weight: bold } /* Name.Tag */\n",
              "body .nv { color: #19177C } /* Name.Variable */\n",
              "body .ow { color: #AA22FF; font-weight: bold } /* Operator.Word */\n",
              "body .w { color: #bbbbbb } /* Text.Whitespace */\n",
              "body .mb { color: #666666 } /* Literal.Number.Bin */\n",
              "body .mf { color: #666666 } /* Literal.Number.Float */\n",
              "body .mh { color: #666666 } /* Literal.Number.Hex */\n",
              "body .mi { color: #666666 } /* Literal.Number.Integer */\n",
              "body .mo { color: #666666 } /* Literal.Number.Oct */\n",
              "body .sa { color: #BA2121 } /* Literal.String.Affix */\n",
              "body .sb { color: #BA2121 } /* Literal.String.Backtick */\n",
              "body .sc { color: #BA2121 } /* Literal.String.Char */\n",
              "body .dl { color: #BA2121 } /* Literal.String.Delimiter */\n",
              "body .sd { color: #BA2121; font-style: italic } /* Literal.String.Doc */\n",
              "body .s2 { color: #BA2121 } /* Literal.String.Double */\n",
              "body .se { color: #AA5D1F; font-weight: bold } /* Literal.String.Escape */\n",
              "body .sh { color: #BA2121 } /* Literal.String.Heredoc */\n",
              "body .si { color: #A45A77; font-weight: bold } /* Literal.String.Interpol */\n",
              "body .sx { color: #008000 } /* Literal.String.Other */\n",
              "body .sr { color: #A45A77 } /* Literal.String.Regex */\n",
              "body .s1 { color: #BA2121 } /* Literal.String.Single */\n",
              "body .ss { color: #19177C } /* Literal.String.Symbol */\n",
              "body .bp { color: #008000 } /* Name.Builtin.Pseudo */\n",
              "body .fm { color: #0000FF } /* Name.Function.Magic */\n",
              "body .vc { color: #19177C } /* Name.Variable.Class */\n",
              "body .vg { color: #19177C } /* Name.Variable.Global */\n",
              "body .vi { color: #19177C } /* Name.Variable.Instance */\n",
              "body .vm { color: #19177C } /* Name.Variable.Magic */\n",
              "body .il { color: #666666 } /* Literal.Number.Integer.Long */\n",
              "\n",
              "  </style>\n",
              "</head>\n",
              "<body>\n",
              "<h2></h2>\n",
              "\n",
              "<div class=\"highlight\"><pre><span></span>    <span class=\"k\">def</span> <span class=\"nf\">nconflicts</span><span class=\"p\">(</span><span class=\"bp\">self</span><span class=\"p\">,</span> <span class=\"n\">var</span><span class=\"p\">,</span> <span class=\"n\">val</span><span class=\"p\">,</span> <span class=\"n\">assignment</span><span class=\"p\">):</span>\n",
              "<span class=\"w\">        </span><span class=\"sd\">&quot;&quot;&quot;Return the number of conflicts var=val has with other variables.&quot;&quot;&quot;</span>\n",
              "\n",
              "        <span class=\"c1\"># Subclasses may implement this more efficiently</span>\n",
              "        <span class=\"k\">def</span> <span class=\"nf\">conflict</span><span class=\"p\">(</span><span class=\"n\">var2</span><span class=\"p\">):</span>\n",
              "            <span class=\"k\">return</span> <span class=\"n\">var2</span> <span class=\"ow\">in</span> <span class=\"n\">assignment</span> <span class=\"ow\">and</span> <span class=\"ow\">not</span> <span class=\"bp\">self</span><span class=\"o\">.</span><span class=\"n\">constraints</span><span class=\"p\">(</span><span class=\"n\">var</span><span class=\"p\">,</span> <span class=\"n\">val</span><span class=\"p\">,</span> <span class=\"n\">var2</span><span class=\"p\">,</span> <span class=\"n\">assignment</span><span class=\"p\">[</span><span class=\"n\">var2</span><span class=\"p\">])</span>\n",
              "\n",
              "        <span class=\"k\">return</span> <span class=\"n\">count</span><span class=\"p\">(</span><span class=\"n\">conflict</span><span class=\"p\">(</span><span class=\"n\">v</span><span class=\"p\">)</span> <span class=\"k\">for</span> <span class=\"n\">v</span> <span class=\"ow\">in</span> <span class=\"bp\">self</span><span class=\"o\">.</span><span class=\"n\">neighbors</span><span class=\"p\">[</span><span class=\"n\">var</span><span class=\"p\">])</span>\n",
              "</pre></div>\n",
              "</body>\n",
              "</html>\n"
            ]
          },
          "metadata": {}
        }
      ],
      "source": [
        "psource(CSP.nconflicts)"
      ]
    },
    {
      "cell_type": "markdown",
      "metadata": {
        "id": "RahI0zwbIXaO"
      },
      "source": [
        "Another ordering related parameter **order_domain_values** governs the value ordering. Here we select the Least Constraining Value which is implemented by the function **lcv**. The idea is to select the value which rules out least number of values in the remaining variables. The intuition behind selecting the **lcv** is that it allows a lot of freedom to assign values later. The idea behind selecting the mrc and lcv makes sense because we need to do all variables but for values, and it's better to try the ones that are likely. So for vars, we face the hard ones first."
      ]
    },
    {
      "cell_type": "code",
      "execution_count": 191,
      "metadata": {
        "colab": {
          "base_uri": "https://localhost:8080/",
          "height": 87
        },
        "id": "-klJaMFDIXaO",
        "outputId": "9793de08-e238-47a3-bb05-b3819746d73f"
      },
      "outputs": [
        {
          "output_type": "display_data",
          "data": {
            "text/plain": [
              "<IPython.core.display.HTML object>"
            ],
            "text/html": [
              "<!DOCTYPE html PUBLIC \"-//W3C//DTD HTML 4.01//EN\"\n",
              "   \"http://www.w3.org/TR/html4/strict.dtd\">\n",
              "<!--\n",
              "generated by Pygments <https://pygments.org/>\n",
              "Copyright 2006-2023 by the Pygments team.\n",
              "Licensed under the BSD license, see LICENSE for details.\n",
              "-->\n",
              "<html>\n",
              "<head>\n",
              "  <title></title>\n",
              "  <meta http-equiv=\"content-type\" content=\"text/html; charset=None\">\n",
              "  <style type=\"text/css\">\n",
              "/*\n",
              "generated by Pygments <https://pygments.org/>\n",
              "Copyright 2006-2023 by the Pygments team.\n",
              "Licensed under the BSD license, see LICENSE for details.\n",
              "*/\n",
              "pre { line-height: 125%; }\n",
              "td.linenos .normal { color: inherit; background-color: transparent; padding-left: 5px; padding-right: 5px; }\n",
              "span.linenos { color: inherit; background-color: transparent; padding-left: 5px; padding-right: 5px; }\n",
              "td.linenos .special { color: #000000; background-color: #ffffc0; padding-left: 5px; padding-right: 5px; }\n",
              "span.linenos.special { color: #000000; background-color: #ffffc0; padding-left: 5px; padding-right: 5px; }\n",
              "body .hll { background-color: #ffffcc }\n",
              "body { background: #f8f8f8; }\n",
              "body .c { color: #3D7B7B; font-style: italic } /* Comment */\n",
              "body .err { border: 1px solid #FF0000 } /* Error */\n",
              "body .k { color: #008000; font-weight: bold } /* Keyword */\n",
              "body .o { color: #666666 } /* Operator */\n",
              "body .ch { color: #3D7B7B; font-style: italic } /* Comment.Hashbang */\n",
              "body .cm { color: #3D7B7B; font-style: italic } /* Comment.Multiline */\n",
              "body .cp { color: #9C6500 } /* Comment.Preproc */\n",
              "body .cpf { color: #3D7B7B; font-style: italic } /* Comment.PreprocFile */\n",
              "body .c1 { color: #3D7B7B; font-style: italic } /* Comment.Single */\n",
              "body .cs { color: #3D7B7B; font-style: italic } /* Comment.Special */\n",
              "body .gd { color: #A00000 } /* Generic.Deleted */\n",
              "body .ge { font-style: italic } /* Generic.Emph */\n",
              "body .ges { font-weight: bold; font-style: italic } /* Generic.EmphStrong */\n",
              "body .gr { color: #E40000 } /* Generic.Error */\n",
              "body .gh { color: #000080; font-weight: bold } /* Generic.Heading */\n",
              "body .gi { color: #008400 } /* Generic.Inserted */\n",
              "body .go { color: #717171 } /* Generic.Output */\n",
              "body .gp { color: #000080; font-weight: bold } /* Generic.Prompt */\n",
              "body .gs { font-weight: bold } /* Generic.Strong */\n",
              "body .gu { color: #800080; font-weight: bold } /* Generic.Subheading */\n",
              "body .gt { color: #0044DD } /* Generic.Traceback */\n",
              "body .kc { color: #008000; font-weight: bold } /* Keyword.Constant */\n",
              "body .kd { color: #008000; font-weight: bold } /* Keyword.Declaration */\n",
              "body .kn { color: #008000; font-weight: bold } /* Keyword.Namespace */\n",
              "body .kp { color: #008000 } /* Keyword.Pseudo */\n",
              "body .kr { color: #008000; font-weight: bold } /* Keyword.Reserved */\n",
              "body .kt { color: #B00040 } /* Keyword.Type */\n",
              "body .m { color: #666666 } /* Literal.Number */\n",
              "body .s { color: #BA2121 } /* Literal.String */\n",
              "body .na { color: #687822 } /* Name.Attribute */\n",
              "body .nb { color: #008000 } /* Name.Builtin */\n",
              "body .nc { color: #0000FF; font-weight: bold } /* Name.Class */\n",
              "body .no { color: #880000 } /* Name.Constant */\n",
              "body .nd { color: #AA22FF } /* Name.Decorator */\n",
              "body .ni { color: #717171; font-weight: bold } /* Name.Entity */\n",
              "body .ne { color: #CB3F38; font-weight: bold } /* Name.Exception */\n",
              "body .nf { color: #0000FF } /* Name.Function */\n",
              "body .nl { color: #767600 } /* Name.Label */\n",
              "body .nn { color: #0000FF; font-weight: bold } /* Name.Namespace */\n",
              "body .nt { color: #008000; font-weight: bold } /* Name.Tag */\n",
              "body .nv { color: #19177C } /* Name.Variable */\n",
              "body .ow { color: #AA22FF; font-weight: bold } /* Operator.Word */\n",
              "body .w { color: #bbbbbb } /* Text.Whitespace */\n",
              "body .mb { color: #666666 } /* Literal.Number.Bin */\n",
              "body .mf { color: #666666 } /* Literal.Number.Float */\n",
              "body .mh { color: #666666 } /* Literal.Number.Hex */\n",
              "body .mi { color: #666666 } /* Literal.Number.Integer */\n",
              "body .mo { color: #666666 } /* Literal.Number.Oct */\n",
              "body .sa { color: #BA2121 } /* Literal.String.Affix */\n",
              "body .sb { color: #BA2121 } /* Literal.String.Backtick */\n",
              "body .sc { color: #BA2121 } /* Literal.String.Char */\n",
              "body .dl { color: #BA2121 } /* Literal.String.Delimiter */\n",
              "body .sd { color: #BA2121; font-style: italic } /* Literal.String.Doc */\n",
              "body .s2 { color: #BA2121 } /* Literal.String.Double */\n",
              "body .se { color: #AA5D1F; font-weight: bold } /* Literal.String.Escape */\n",
              "body .sh { color: #BA2121 } /* Literal.String.Heredoc */\n",
              "body .si { color: #A45A77; font-weight: bold } /* Literal.String.Interpol */\n",
              "body .sx { color: #008000 } /* Literal.String.Other */\n",
              "body .sr { color: #A45A77 } /* Literal.String.Regex */\n",
              "body .s1 { color: #BA2121 } /* Literal.String.Single */\n",
              "body .ss { color: #19177C } /* Literal.String.Symbol */\n",
              "body .bp { color: #008000 } /* Name.Builtin.Pseudo */\n",
              "body .fm { color: #0000FF } /* Name.Function.Magic */\n",
              "body .vc { color: #19177C } /* Name.Variable.Class */\n",
              "body .vg { color: #19177C } /* Name.Variable.Global */\n",
              "body .vi { color: #19177C } /* Name.Variable.Instance */\n",
              "body .vm { color: #19177C } /* Name.Variable.Magic */\n",
              "body .il { color: #666666 } /* Literal.Number.Integer.Long */\n",
              "\n",
              "  </style>\n",
              "</head>\n",
              "<body>\n",
              "<h2></h2>\n",
              "\n",
              "<div class=\"highlight\"><pre><span></span><span class=\"k\">def</span> <span class=\"nf\">lcv</span><span class=\"p\">(</span><span class=\"n\">var</span><span class=\"p\">,</span> <span class=\"n\">assignment</span><span class=\"p\">,</span> <span class=\"n\">csp</span><span class=\"p\">):</span>\n",
              "<span class=\"w\">    </span><span class=\"sd\">&quot;&quot;&quot;Least-constraining-values heuristic.&quot;&quot;&quot;</span>\n",
              "    <span class=\"k\">return</span> <span class=\"nb\">sorted</span><span class=\"p\">(</span><span class=\"n\">csp</span><span class=\"o\">.</span><span class=\"n\">choices</span><span class=\"p\">(</span><span class=\"n\">var</span><span class=\"p\">),</span> <span class=\"n\">key</span><span class=\"o\">=</span><span class=\"k\">lambda</span> <span class=\"n\">val</span><span class=\"p\">:</span> <span class=\"n\">csp</span><span class=\"o\">.</span><span class=\"n\">nconflicts</span><span class=\"p\">(</span><span class=\"n\">var</span><span class=\"p\">,</span> <span class=\"n\">val</span><span class=\"p\">,</span> <span class=\"n\">assignment</span><span class=\"p\">))</span>\n",
              "</pre></div>\n",
              "</body>\n",
              "</html>\n"
            ]
          },
          "metadata": {}
        }
      ],
      "source": [
        "psource(lcv)"
      ]
    },
    {
      "cell_type": "markdown",
      "metadata": {
        "id": "pYGbJbvJIXaO"
      },
      "source": [
        "Finally, the third parameter **inference** can make use of one of the two techniques called Arc Consistency or Forward Checking. The details of these methods can be found in the **Section 6.3.2** of the book. In short the idea of inference is to detect the possible failure before it occurs and to look ahead to not make mistakes. **mac** and **forward_checking** implement these two techniques. The **CSP** methods **support_pruning**, **suppose**, **prune**, **choices**, **infer_assignment** and **restore** help in using these techniques. You can find out more about these by looking up the source code."
      ]
    },
    {
      "cell_type": "markdown",
      "metadata": {
        "id": "0XuEljmzIXaO"
      },
      "source": [
        "Now let us compare the performance with these parameters enabled vs the default parameters. We will use the Graph Coloring problem instance 'usa' for comparison. We will call the instances **solve_simple** and **solve_parameters** and solve them using backtracking and compare the number of assignments."
      ]
    },
    {
      "cell_type": "code",
      "execution_count": 192,
      "metadata": {
        "id": "ZgtDqq_dIXaO"
      },
      "outputs": [],
      "source": [
        "solve_simple = copy.deepcopy(usa_csp)\n",
        "solve_parameters = copy.deepcopy(usa_csp)"
      ]
    },
    {
      "cell_type": "code",
      "execution_count": 193,
      "metadata": {
        "colab": {
          "base_uri": "https://localhost:8080/"
        },
        "id": "E2N00qedIXaO",
        "outputId": "75526e07-1362-49fe-98f2-a24dee791fce"
      },
      "outputs": [
        {
          "output_type": "execute_result",
          "data": {
            "text/plain": [
              "{'ID': 'R',\n",
              " 'WY': 'G',\n",
              " 'UT': 'B',\n",
              " 'MT': 'B',\n",
              " 'CO': 'R',\n",
              " 'NV': 'G',\n",
              " 'AZ': 'R',\n",
              " 'SD': 'R',\n",
              " 'ND': 'G',\n",
              " 'OR': 'B',\n",
              " 'CA': 'Y',\n",
              " 'NE': 'B',\n",
              " 'IA': 'G',\n",
              " 'MO': 'R',\n",
              " 'WA': 'G',\n",
              " 'IL': 'B',\n",
              " 'MN': 'B',\n",
              " 'KA': 'G',\n",
              " 'KY': 'G',\n",
              " 'WI': 'R',\n",
              " 'OK': 'B',\n",
              " 'TN': 'B',\n",
              " 'NM': 'G',\n",
              " 'VA': 'R',\n",
              " 'TX': 'R',\n",
              " 'WV': 'B',\n",
              " 'AR': 'G',\n",
              " 'LA': 'B',\n",
              " 'IN': 'R',\n",
              " 'OH': 'Y',\n",
              " 'MD': 'G',\n",
              " 'PA': 'R',\n",
              " 'DE': 'B',\n",
              " 'NJ': 'G',\n",
              " 'DC': 'B',\n",
              " 'NC': 'G',\n",
              " 'MI': 'G',\n",
              " 'NY': 'B',\n",
              " 'MS': 'R',\n",
              " 'AL': 'G',\n",
              " 'GA': 'R',\n",
              " 'FL': 'B',\n",
              " 'SC': 'B',\n",
              " 'CT': 'R',\n",
              " 'MA': 'G',\n",
              " 'RI': 'B',\n",
              " 'VT': 'R',\n",
              " 'NH': 'B',\n",
              " 'ME': 'R'}"
            ]
          },
          "metadata": {},
          "execution_count": 193
        }
      ],
      "source": [
        "backtracking_search(solve_simple)\n",
        "backtracking_search(solve_parameters, order_domain_values=lcv, select_unassigned_variable=mrv, inference=mac)"
      ]
    },
    {
      "cell_type": "code",
      "execution_count": 194,
      "metadata": {
        "colab": {
          "base_uri": "https://localhost:8080/"
        },
        "id": "jBlqUw_DIXaO",
        "outputId": "bce3cdea-2d32-430c-9b56-1a3c69ab53f0"
      },
      "outputs": [
        {
          "output_type": "execute_result",
          "data": {
            "text/plain": [
              "49"
            ]
          },
          "metadata": {},
          "execution_count": 194
        }
      ],
      "source": [
        "solve_simple.nassigns"
      ]
    },
    {
      "cell_type": "code",
      "execution_count": 195,
      "metadata": {
        "colab": {
          "base_uri": "https://localhost:8080/"
        },
        "id": "NEETHHtUIXaO",
        "outputId": "afcf6f5a-0485-4120-f384-0d8f782d4930"
      },
      "outputs": [
        {
          "output_type": "execute_result",
          "data": {
            "text/plain": [
              "49"
            ]
          },
          "metadata": {},
          "execution_count": 195
        }
      ],
      "source": [
        "solve_parameters.nassigns"
      ]
    },
    {
      "cell_type": "markdown",
      "metadata": {
        "id": "EbWHnzJ-IXaP"
      },
      "source": [
        "## GRAPH COLORING VISUALIZATION\n",
        "\n",
        "Next, we define some functions to create the visualisation from the assignment_history of **coloring_problem1**. The readers need not concern themselves with the code that immediately follows as it is the usage of Matplotib with IPython Widgets. If you are interested in reading more about these, visit [ipywidgets.readthedocs.io](http://ipywidgets.readthedocs.io). We will be using the **networkx** library to generate graphs. These graphs can be treated as graphs that need to be colored or as constraint graphs for this problem. If interested you can check out a fairly simple tutorial [here](https://www.udacity.com/wiki/creating-network-graphs-with-python). We start by importing the necessary libraries and initializing matplotlib inline.\n"
      ]
    },
    {
      "cell_type": "code",
      "execution_count": 196,
      "metadata": {
        "id": "UNa74S9RIXaP"
      },
      "outputs": [],
      "source": [
        "%matplotlib inline\n",
        "import networkx as nx\n",
        "import matplotlib.pyplot as plt\n",
        "import matplotlib\n",
        "import time"
      ]
    },
    {
      "cell_type": "markdown",
      "metadata": {
        "id": "8RX-32h0IXaP"
      },
      "source": [
        "The ipython widgets we will be using require the plots in the form of a step function such that there is a graph corresponding to each value. We define the **make_update_step_function** which returns such a function. It takes in as inputs the neighbors/graph along with an instance of the **InstruCSP**. The example below will elaborate it further. If this sounds confusing, don't worry. This is not part of the core material and our only goal is to help you visualize how the process works."
      ]
    },
    {
      "cell_type": "code",
      "execution_count": 197,
      "metadata": {
        "id": "fVcTatWeIXaP"
      },
      "outputs": [],
      "source": [
        "def make_update_step_function(graph, instru_csp):\n",
        "\n",
        "    #define a function to draw the graphs\n",
        "    def draw_graph(graph):\n",
        "\n",
        "        G=nx.Graph(graph)\n",
        "        pos = nx.spring_layout(G,k=0.15)\n",
        "        return (G, pos)\n",
        "\n",
        "    G, pos = draw_graph(graph)\n",
        "    def map_color(color):\n",
        "        if color == 'R':\n",
        "            return 'red'\n",
        "        elif color == 'G':\n",
        "            return 'green'\n",
        "        elif color == 'B':\n",
        "            return 'blue'\n",
        "        elif color == 'Y':\n",
        "            return 'yellow'\n",
        "        else:\n",
        "            return 'black'\n",
        "\n",
        "    def update_step(iteration):\n",
        "        # here iteration is the index of the assignment_history we want to visualize.\n",
        "        current = instru_csp.assignment_history[iteration]\n",
        "        #  We convert the particular assignment to a default dict so that the color for nodes which\n",
        "        # have not been assigned defaults to black.\n",
        "        current = defaultdict(lambda: 'Black', current)\n",
        "\n",
        "        # Now we use colors in the list and default to black otherwise.\n",
        "        colors = [map_color(current[node]) for node in G.nodes.keys()]\n",
        "        # Finally drawing the nodes.\n",
        "        nx.draw(G, pos, node_color=colors, node_size=500)\n",
        "\n",
        "        labels = {label:label for label in G.nodes}\n",
        "        # Labels shifted by offset so that nodes don't overlap\n",
        "        label_pos = {key:[value[0], value[1]+0.03] for key, value in pos.items()}\n",
        "        nx.draw_networkx_labels(G, label_pos, labels, font_size=20)\n",
        "\n",
        "        # display the graph\n",
        "        plt.show()\n",
        "\n",
        "    return update_step  # <-- this is a function\n",
        "\n",
        "def make_visualize(slider):\n",
        "    ''' Takes an input a slider and returns\n",
        "        callback function for timer and animation\n",
        "    '''\n",
        "\n",
        "    def visualize_callback(Visualize, time_step):\n",
        "        if Visualize is True:\n",
        "            for i in range(slider.min, slider.max + 1):\n",
        "                slider.value = i\n",
        "                time.sleep(float(time_step))\n",
        "\n",
        "    return visualize_callback\n"
      ]
    },
    {
      "cell_type": "markdown",
      "metadata": {
        "id": "njIHnJ2SIXaP"
      },
      "source": [
        "Finally let us plot our problem. We first use the function below to obtain a step function."
      ]
    },
    {
      "cell_type": "code",
      "execution_count": 198,
      "metadata": {
        "id": "ZdINmuFPIXaP"
      },
      "outputs": [],
      "source": [
        "step_func = make_update_step_function(neighbors, coloring_problem1)"
      ]
    },
    {
      "cell_type": "markdown",
      "metadata": {
        "id": "b4F4hjxMIXaP"
      },
      "source": [
        "Next, we set the canvas size."
      ]
    },
    {
      "cell_type": "code",
      "execution_count": 199,
      "metadata": {
        "id": "RdlJXbvtIXaP"
      },
      "outputs": [],
      "source": [
        "matplotlib.rcParams['figure.figsize'] = (18.0, 18.0)"
      ]
    },
    {
      "cell_type": "markdown",
      "metadata": {
        "id": "zMKKur2WIXaP"
      },
      "source": [
        "Finally, our plot using ipywidget slider and matplotib. You can move the slider to experiment and see the colors change. It is also possible to move the slider using arrow keys or to jump to the value by directly editing the number with a double click. The **Visualize Button** will automatically animate the slider for you. The **Extra Delay Box** allows you to set time delay in seconds (upto one second) for each time step."
      ]
    },
    {
      "cell_type": "code",
      "execution_count": 200,
      "metadata": {
        "colab": {
          "base_uri": "https://localhost:8080/",
          "height": 907,
          "referenced_widgets": [
            "1759f7e092134227871182a989ab9180",
            "c0528a4f01e948de8890d2c4491247a2",
            "ecbe73ce86f84c6d96cb6fbabb1c11d5",
            "85786ffcb59447af9a1fbea68efc3e84",
            "c8ad1b2b656341dfa4ae28ca0626cee9",
            "9f9f93ad3de3423cad6d608aa328bb9d",
            "2cabea1deef643028c5a7df3d069be90"
          ]
        },
        "id": "uWXVgEBiIXaP",
        "outputId": "cceed637-0898-4882-9d9b-5213ab9fd8cc"
      },
      "outputs": [
        {
          "output_type": "display_data",
          "data": {
            "text/plain": [
              "interactive(children=(IntSlider(value=0, description='iteration', max=20), Output()), _dom_classes=('widget-in…"
            ],
            "application/vnd.jupyter.widget-view+json": {
              "version_major": 2,
              "version_minor": 0,
              "model_id": "1759f7e092134227871182a989ab9180"
            }
          },
          "metadata": {}
        }
      ],
      "source": [
        "import ipywidgets as widgets\n",
        "from IPython.display import display\n",
        "\n",
        "iteration_slider = widgets.IntSlider(min=0, max=len(coloring_problem1.assignment_history)-1, step=1, value=0)\n",
        "w=widgets.interactive(step_func,iteration=iteration_slider)\n",
        "display(w)\n",
        "\n",
        "visualize_callback = make_visualize(iteration_slider)\n",
        "\n",
        "visualize_button = widgets.ToggleButton(description = \"Visualize\", value = False)\n",
        "time_select = widgets.ToggleButtons(description='Extra Delay:',options=['0', '0.1', '0.2', '0.5', '0.7', '1.0'])\n",
        "\n",
        "a = widgets.interactive(visualize_callback, Visualize = visualize_button, time_step=time_select)\n",
        "display(a)"
      ]
    },
    {
      "cell_type": "markdown",
      "metadata": {
        "id": "a55cxC-_IXaP"
      },
      "source": [
        "## N-QUEENS VISUALIZATION\n",
        "\n",
        "Just like the Graph Coloring Problem, we will start with defining a few helper functions to help us visualize the assignments as they evolve over time. The **make_plot_board_step_function** behaves similar to the **make_update_step_function** introduced earlier. It initializes a chess board in the form of a 2D grid with alternating 0s and 1s. This is used by **plot_board_step** function which draws the board using matplotlib and adds queens to it. This function also calls the **label_queen_conflicts** which modifies the grid placing a 3 in any position where there is a conflict."
      ]
    },
    {
      "cell_type": "code",
      "execution_count": null,
      "metadata": {
        "id": "rUsz7YFfIXaP"
      },
      "outputs": [],
      "source": [
        "def label_queen_conflicts(assignment,grid):\n",
        "    ''' Mark grid with queens that are under conflict. '''\n",
        "    for col, row in assignment.items(): # check each queen for conflict\n",
        "        conflicts = {temp_col:temp_row for temp_col,temp_row in assignment.items()\n",
        "                         if (temp_row == row and temp_col != col)\n",
        "                          or (temp_row+temp_col == row+col and temp_col != col)\n",
        "                          or (temp_row-temp_col == row-col and temp_col != col)}\n",
        "\n",
        "        # Place a 3 in positions where this is a conflict\n",
        "        for col, row in conflicts.items():\n",
        "                grid[col][row] = 3\n",
        "\n",
        "    return grid\n",
        "\n",
        "def make_plot_board_step_function(instru_csp):\n",
        "    '''ipywidgets interactive function supports\n",
        "       single parameter as input. This function\n",
        "       creates and return such a function by taking\n",
        "       in input other parameters.\n",
        "    '''\n",
        "    n = len(instru_csp.variables)\n",
        "\n",
        "\n",
        "    def plot_board_step(iteration):\n",
        "        ''' Add Queens to the Board.'''\n",
        "        data = instru_csp.assignment_history[iteration]\n",
        "\n",
        "        grid = [[(col+row+1)%2 for col in range(n)] for row in range(n)]\n",
        "        grid = label_queen_conflicts(data, grid) # Update grid with conflict labels.\n",
        "\n",
        "        # color map of fixed colors\n",
        "        cmap = matplotlib.colors.ListedColormap(['white','lightsteelblue','red'])\n",
        "        bounds=[0,1,2,3] # 0 for white 1 for black 2 onwards for conflict labels (red).\n",
        "        norm = matplotlib.colors.BoundaryNorm(bounds, cmap.N)\n",
        "\n",
        "        fig = plt.imshow(grid, interpolation='nearest', cmap = cmap,norm=norm)\n",
        "\n",
        "        plt.axis('off')\n",
        "        fig.axes.get_xaxis().set_visible(False)\n",
        "        fig.axes.get_yaxis().set_visible(False)\n",
        "\n",
        "        # Place the Queens Unicode Symbol\n",
        "        for col, row in data.items():\n",
        "            fig.axes.text(row, col, u\"\\u265B\", va='center', ha='center', family='Dejavu Sans', fontsize=32)\n",
        "        plt.show()\n",
        "\n",
        "    return plot_board_step"
      ]
    },
    {
      "cell_type": "markdown",
      "metadata": {
        "id": "-QAUvXpsIXaP"
      },
      "source": [
        "Now let us visualize a solution obtained via backtracking. We make use of the previosuly defined **make_instru** function for keeping a history of steps."
      ]
    },
    {
      "cell_type": "code",
      "execution_count": null,
      "metadata": {
        "id": "xduSwJ7bIXaP"
      },
      "outputs": [],
      "source": [
        "twelve_queens_csp = NQueensCSP(12)\n",
        "backtracking_instru_queen = make_instru(twelve_queens_csp)\n",
        "result = backtracking_search(backtracking_instru_queen)"
      ]
    },
    {
      "cell_type": "code",
      "execution_count": null,
      "metadata": {
        "id": "71F21u-fIXaP"
      },
      "outputs": [],
      "source": [
        "backtrack_queen_step = make_plot_board_step_function(backtracking_instru_queen) # Step Function for Widgets"
      ]
    },
    {
      "cell_type": "markdown",
      "metadata": {
        "id": "1gJg2Gb7IXaP"
      },
      "source": [
        "Now finally we set some matplotlib parameters to adjust how our plot will look like. The font is necessary because the Black Queen Unicode character is not a part of all fonts. You can move the slider to experiment and observe how the queens are assigned. It is also possible to move the slider using arrow keys or to jump to the value by directly editing the number with a double click. The **Visualize Button** will automatically animate the slider for you. The **Extra Delay Box** allows you to set time delay in seconds of upto one second for each time step."
      ]
    },
    {
      "cell_type": "code",
      "execution_count": null,
      "metadata": {
        "id": "_8Oys_w3IXaP"
      },
      "outputs": [],
      "source": [
        "matplotlib.rcParams['figure.figsize'] = (8.0, 8.0)\n",
        "matplotlib.rcParams['font.family'].append(u'Dejavu Sans')\n",
        "\n",
        "iteration_slider = widgets.IntSlider(min=0, max=len(backtracking_instru_queen.assignment_history)-1, step=0, value=0)\n",
        "w=widgets.interactive(backtrack_queen_step,iteration=iteration_slider)\n",
        "display(w)\n",
        "\n",
        "visualize_callback = make_visualize(iteration_slider)\n",
        "\n",
        "visualize_button = widgets.ToggleButton(description = \"Visualize\", value = False)\n",
        "time_select = widgets.ToggleButtons(description='Extra Delay:',options=['0', '0.1', '0.2', '0.5', '0.7', '1.0'])\n",
        "\n",
        "a = widgets.interactive(visualize_callback, Visualize = visualize_button, time_step=time_select)\n",
        "display(a)"
      ]
    },
    {
      "cell_type": "markdown",
      "source": [
        "# Lab\n",
        "\n",
        "แก้ไขโค้ดเพื่อนับจำนวนข้อขัดแย้ง (conflict) ที่เกิดขึ้นระหว่างการค้นหาแบบ Backtracking และแสดงผลออกมา"
      ],
      "metadata": {
        "id": "bHqrDYT-Xivn"
      }
    },
    {
      "source": [
        "import copy\n",
        "\n",
        "\n",
        "def make_instru(csp):\n",
        "    return InstruCSP(csp.variables, csp.domains, csp.neighbors, csp.constraints)\n",
        "\n",
        "australia_csp = make_instru(australia_csp)\n",
        "usa_csp = make_instru(usa_csp)\n",
        "france_csp = make_instru(france_csp)\n",
        "twelve_queens_csp = make_instru(NQueensCSP(12))\n",
        "\n",
        "\n",
        "result_australia = backtracking_search(australia_csp)\n",
        "result_usa = backtracking_search(usa_csp)\n",
        "result_france = backtracking_search(france_csp)\n",
        "result_twelve_queens = backtracking_search(twelve_queens_csp)\n",
        "\n",
        "print(f\"Australia CSP: {australia_csp.conflict_count} conflicts\")\n",
        "print(f\"USA CSP: {usa_csp.conflict_count} conflicts\")\n",
        "print(f\"France CSP: {france_csp.conflict_count} conflicts\")\n",
        "print(f\"Twelve Queens CSP: {twelve_queens_csp.conflict_count} conflicts\")"
      ],
      "cell_type": "code",
      "metadata": {
        "colab": {
          "base_uri": "https://localhost:8080/"
        },
        "id": "BZeV2HY2EheF",
        "outputId": "e8a65fd0-d9e6-4676-bf11-68c694b2aefb"
      },
      "execution_count": 124,
      "outputs": [
        {
          "output_type": "stream",
          "name": "stdout",
          "text": [
            "Australia CSP: 0 conflicts\n",
            "USA CSP: 0 conflicts\n",
            "France CSP: 0 conflicts\n",
            "Twelve Queens CSP: 0 conflicts\n"
          ]
        }
      ]
    }
  ],
  "metadata": {
    "kernelspec": {
      "display_name": "Python 3",
      "language": "python",
      "name": "python3"
    },
    "language_info": {
      "codemirror_mode": {
        "name": "ipython",
        "version": 3
      },
      "file_extension": ".py",
      "mimetype": "text/x-python",
      "name": "python",
      "nbconvert_exporter": "python",
      "pygments_lexer": "ipython3",
      "version": "3.6.8"
    },
    "pycharm": {
      "stem_cell": {
        "cell_type": "raw",
        "source": [],
        "metadata": {
          "collapsed": false
        }
      }
    },
    "colab": {
      "provenance": [],
      "include_colab_link": true
    },
    "widgets": {
      "application/vnd.jupyter.widget-state+json": {
        "1759f7e092134227871182a989ab9180": {
          "model_module": "@jupyter-widgets/controls",
          "model_name": "VBoxModel",
          "model_module_version": "1.5.0",
          "state": {
            "_dom_classes": [
              "widget-interact"
            ],
            "_model_module": "@jupyter-widgets/controls",
            "_model_module_version": "1.5.0",
            "_model_name": "VBoxModel",
            "_view_count": null,
            "_view_module": "@jupyter-widgets/controls",
            "_view_module_version": "1.5.0",
            "_view_name": "VBoxView",
            "box_style": "",
            "children": [
              "IPY_MODEL_c0528a4f01e948de8890d2c4491247a2",
              "IPY_MODEL_ecbe73ce86f84c6d96cb6fbabb1c11d5"
            ],
            "layout": "IPY_MODEL_85786ffcb59447af9a1fbea68efc3e84"
          }
        },
        "c0528a4f01e948de8890d2c4491247a2": {
          "model_module": "@jupyter-widgets/controls",
          "model_name": "IntSliderModel",
          "model_module_version": "1.5.0",
          "state": {
            "_dom_classes": [],
            "_model_module": "@jupyter-widgets/controls",
            "_model_module_version": "1.5.0",
            "_model_name": "IntSliderModel",
            "_view_count": null,
            "_view_module": "@jupyter-widgets/controls",
            "_view_module_version": "1.5.0",
            "_view_name": "IntSliderView",
            "continuous_update": true,
            "description": "iteration",
            "description_tooltip": null,
            "disabled": false,
            "layout": "IPY_MODEL_c8ad1b2b656341dfa4ae28ca0626cee9",
            "max": 20,
            "min": 0,
            "orientation": "horizontal",
            "readout": true,
            "readout_format": "d",
            "step": 1,
            "style": "IPY_MODEL_9f9f93ad3de3423cad6d608aa328bb9d",
            "value": 0
          }
        },
        "ecbe73ce86f84c6d96cb6fbabb1c11d5": {
          "model_module": "@jupyter-widgets/output",
          "model_name": "OutputModel",
          "model_module_version": "1.0.0",
          "state": {
            "_dom_classes": [],
            "_model_module": "@jupyter-widgets/output",
            "_model_module_version": "1.0.0",
            "_model_name": "OutputModel",
            "_view_count": null,
            "_view_module": "@jupyter-widgets/output",
            "_view_module_version": "1.0.0",
            "_view_name": "OutputView",
            "layout": "IPY_MODEL_2cabea1deef643028c5a7df3d069be90",
            "msg_id": "",
            "outputs": [
              {
                "output_type": "display_data",
                "data": {
                  "text/plain": "<Figure size 1800x1800 with 1 Axes>",
                  "image/png": "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\n"
                },
                "metadata": {}
              }
            ]
          }
        },
        "85786ffcb59447af9a1fbea68efc3e84": {
          "model_module": "@jupyter-widgets/base",
          "model_name": "LayoutModel",
          "model_module_version": "1.2.0",
          "state": {
            "_model_module": "@jupyter-widgets/base",
            "_model_module_version": "1.2.0",
            "_model_name": "LayoutModel",
            "_view_count": null,
            "_view_module": "@jupyter-widgets/base",
            "_view_module_version": "1.2.0",
            "_view_name": "LayoutView",
            "align_content": null,
            "align_items": null,
            "align_self": null,
            "border": null,
            "bottom": null,
            "display": null,
            "flex": null,
            "flex_flow": null,
            "grid_area": null,
            "grid_auto_columns": null,
            "grid_auto_flow": null,
            "grid_auto_rows": null,
            "grid_column": null,
            "grid_gap": null,
            "grid_row": null,
            "grid_template_areas": null,
            "grid_template_columns": null,
            "grid_template_rows": null,
            "height": null,
            "justify_content": null,
            "justify_items": null,
            "left": null,
            "margin": null,
            "max_height": null,
            "max_width": null,
            "min_height": null,
            "min_width": null,
            "object_fit": null,
            "object_position": null,
            "order": null,
            "overflow": null,
            "overflow_x": null,
            "overflow_y": null,
            "padding": null,
            "right": null,
            "top": null,
            "visibility": null,
            "width": null
          }
        },
        "c8ad1b2b656341dfa4ae28ca0626cee9": {
          "model_module": "@jupyter-widgets/base",
          "model_name": "LayoutModel",
          "model_module_version": "1.2.0",
          "state": {
            "_model_module": "@jupyter-widgets/base",
            "_model_module_version": "1.2.0",
            "_model_name": "LayoutModel",
            "_view_count": null,
            "_view_module": "@jupyter-widgets/base",
            "_view_module_version": "1.2.0",
            "_view_name": "LayoutView",
            "align_content": null,
            "align_items": null,
            "align_self": null,
            "border": null,
            "bottom": null,
            "display": null,
            "flex": null,
            "flex_flow": null,
            "grid_area": null,
            "grid_auto_columns": null,
            "grid_auto_flow": null,
            "grid_auto_rows": null,
            "grid_column": null,
            "grid_gap": null,
            "grid_row": null,
            "grid_template_areas": null,
            "grid_template_columns": null,
            "grid_template_rows": null,
            "height": null,
            "justify_content": null,
            "justify_items": null,
            "left": null,
            "margin": null,
            "max_height": null,
            "max_width": null,
            "min_height": null,
            "min_width": null,
            "object_fit": null,
            "object_position": null,
            "order": null,
            "overflow": null,
            "overflow_x": null,
            "overflow_y": null,
            "padding": null,
            "right": null,
            "top": null,
            "visibility": null,
            "width": null
          }
        },
        "9f9f93ad3de3423cad6d608aa328bb9d": {
          "model_module": "@jupyter-widgets/controls",
          "model_name": "SliderStyleModel",
          "model_module_version": "1.5.0",
          "state": {
            "_model_module": "@jupyter-widgets/controls",
            "_model_module_version": "1.5.0",
            "_model_name": "SliderStyleModel",
            "_view_count": null,
            "_view_module": "@jupyter-widgets/base",
            "_view_module_version": "1.2.0",
            "_view_name": "StyleView",
            "description_width": "",
            "handle_color": null
          }
        },
        "2cabea1deef643028c5a7df3d069be90": {
          "model_module": "@jupyter-widgets/base",
          "model_name": "LayoutModel",
          "model_module_version": "1.2.0",
          "state": {
            "_model_module": "@jupyter-widgets/base",
            "_model_module_version": "1.2.0",
            "_model_name": "LayoutModel",
            "_view_count": null,
            "_view_module": "@jupyter-widgets/base",
            "_view_module_version": "1.2.0",
            "_view_name": "LayoutView",
            "align_content": null,
            "align_items": null,
            "align_self": null,
            "border": null,
            "bottom": null,
            "display": null,
            "flex": null,
            "flex_flow": null,
            "grid_area": null,
            "grid_auto_columns": null,
            "grid_auto_flow": null,
            "grid_auto_rows": null,
            "grid_column": null,
            "grid_gap": null,
            "grid_row": null,
            "grid_template_areas": null,
            "grid_template_columns": null,
            "grid_template_rows": null,
            "height": null,
            "justify_content": null,
            "justify_items": null,
            "left": null,
            "margin": null,
            "max_height": null,
            "max_width": null,
            "min_height": null,
            "min_width": null,
            "object_fit": null,
            "object_position": null,
            "order": null,
            "overflow": null,
            "overflow_x": null,
            "overflow_y": null,
            "padding": null,
            "right": null,
            "top": null,
            "visibility": null,
            "width": null
          }
        }
      }
    }
  },
  "nbformat": 4,
  "nbformat_minor": 0
}